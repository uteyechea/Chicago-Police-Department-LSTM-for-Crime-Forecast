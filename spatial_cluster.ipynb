{
  "nbformat": 4,
  "nbformat_minor": 0,
  "metadata": {
    "colab": {
      "name": "spatial_cluster.ipynb",
      "provenance": [],
      "collapsed_sections": [],
      "mount_file_id": "https://github.com/uteyechea/crime-prediction-using-artificial-intelligence/blob/master/spatial_cluster.ipynb",
      "authorship_tag": "ABX9TyOeSYUZcQV/OpsTSA3M33fm"
    },
    "kernelspec": {
      "name": "python3",
      "display_name": "Python 3"
    }
  },
  "cells": [
    {
      "cell_type": "code",
      "metadata": {
        "id": "nVfRnmdiPy2-",
        "colab_type": "code",
        "colab": {
          "base_uri": "https://localhost:8080/",
          "height": 129
        },
        "outputId": "8ab621b3-5af3-42f5-de4b-38f680133229"
      },
      "source": [
        "import os\n",
        "import gc\n",
        "\n",
        "import pandas as pd\n",
        "from sklearn.cluster import KMeans\n",
        "import matplotlib. pyplot as plt\n",
        "from collections import defaultdict\n",
        "\n",
        "from google.colab import drive\n",
        "drive.mount('/content/drive', force_remount=True)\n",
        "\n",
        "path='/content/drive/My Drive/Colab Notebooks/crime_prediction'"
      ],
      "execution_count": 1,
      "outputs": [
        {
          "output_type": "stream",
          "text": [
            "Go to this URL in a browser: https://accounts.google.com/o/oauth2/auth?client_id=947318989803-6bn6qk8qdgf4n4g3pfee6491hc0brc4i.apps.googleusercontent.com&redirect_uri=urn%3aietf%3awg%3aoauth%3a2.0%3aoob&response_type=code&scope=email%20https%3a%2f%2fwww.googleapis.com%2fauth%2fdocs.test%20https%3a%2f%2fwww.googleapis.com%2fauth%2fdrive%20https%3a%2f%2fwww.googleapis.com%2fauth%2fdrive.photos.readonly%20https%3a%2f%2fwww.googleapis.com%2fauth%2fpeopleapi.readonly\n",
            "\n",
            "Enter your authorization code:\n",
            "··········\n",
            "Mounted at /content/drive\n"
          ],
          "name": "stdout"
        }
      ]
    },
    {
      "cell_type": "code",
      "metadata": {
        "id": "L3t2ryXtSC9T",
        "colab_type": "code",
        "colab": {}
      },
      "source": [
        "file_path=os.path.join(path,'data','CLEAR.csv')"
      ],
      "execution_count": 2,
      "outputs": []
    },
    {
      "cell_type": "code",
      "metadata": {
        "id": "_OYeDrl8SFoU",
        "colab_type": "code",
        "colab": {}
      },
      "source": [
        "file=pd.read_csv(file_path,sep=',',parse_dates=['Date'])"
      ],
      "execution_count": 3,
      "outputs": []
    },
    {
      "cell_type": "code",
      "metadata": {
        "id": "rISf8IcryYnS",
        "colab_type": "code",
        "colab": {}
      },
      "source": [
        "file['Date']=pd.to_datetime(file['Date'].dt.strftime('%Y-%m-%d'))"
      ],
      "execution_count": 4,
      "outputs": []
    },
    {
      "cell_type": "code",
      "metadata": {
        "id": "lr1TvTl41BKT",
        "colab_type": "code",
        "colab": {
          "base_uri": "https://localhost:8080/",
          "height": 424
        },
        "outputId": "2de3b399-4d5d-43af-bae0-44e02c4c2e84"
      },
      "source": [
        "file"
      ],
      "execution_count": 5,
      "outputs": [
        {
          "output_type": "execute_result",
          "data": {
            "text/html": [
              "<div>\n",
              "<style scoped>\n",
              "    .dataframe tbody tr th:only-of-type {\n",
              "        vertical-align: middle;\n",
              "    }\n",
              "\n",
              "    .dataframe tbody tr th {\n",
              "        vertical-align: top;\n",
              "    }\n",
              "\n",
              "    .dataframe thead th {\n",
              "        text-align: right;\n",
              "    }\n",
              "</style>\n",
              "<table border=\"1\" class=\"dataframe\">\n",
              "  <thead>\n",
              "    <tr style=\"text-align: right;\">\n",
              "      <th></th>\n",
              "      <th>Date</th>\n",
              "      <th>Primary Type</th>\n",
              "      <th>Description</th>\n",
              "      <th>Location Description</th>\n",
              "      <th>Arrest</th>\n",
              "      <th>Domestic</th>\n",
              "      <th>Latitude</th>\n",
              "      <th>Longitude</th>\n",
              "    </tr>\n",
              "  </thead>\n",
              "  <tbody>\n",
              "    <tr>\n",
              "      <th>0</th>\n",
              "      <td>2001-01-01</td>\n",
              "      <td>THEFT</td>\n",
              "      <td>FINANCIAL ID THEFT: OVER $300</td>\n",
              "      <td>RESIDENCE</td>\n",
              "      <td>False</td>\n",
              "      <td>False</td>\n",
              "      <td>41.764002</td>\n",
              "      <td>-87.656290</td>\n",
              "    </tr>\n",
              "    <tr>\n",
              "      <th>1</th>\n",
              "      <td>2001-01-01</td>\n",
              "      <td>THEFT</td>\n",
              "      <td>FINANCIAL ID THEFT: OVER $300</td>\n",
              "      <td>RESIDENCE</td>\n",
              "      <td>False</td>\n",
              "      <td>False</td>\n",
              "      <td>41.862175</td>\n",
              "      <td>-87.711496</td>\n",
              "    </tr>\n",
              "    <tr>\n",
              "      <th>2</th>\n",
              "      <td>2001-01-01</td>\n",
              "      <td>OFFENSE INVOLVING CHILDREN</td>\n",
              "      <td>AGG SEX ASSLT OF CHILD FAM MBR</td>\n",
              "      <td>APARTMENT</td>\n",
              "      <td>False</td>\n",
              "      <td>False</td>\n",
              "      <td>41.804197</td>\n",
              "      <td>-87.626096</td>\n",
              "    </tr>\n",
              "    <tr>\n",
              "      <th>3</th>\n",
              "      <td>2001-01-01</td>\n",
              "      <td>THEFT</td>\n",
              "      <td>FINANCIAL ID THEFT:$300 &amp;UNDER</td>\n",
              "      <td>RESIDENCE</td>\n",
              "      <td>False</td>\n",
              "      <td>False</td>\n",
              "      <td>41.812451</td>\n",
              "      <td>-87.694479</td>\n",
              "    </tr>\n",
              "    <tr>\n",
              "      <th>4</th>\n",
              "      <td>2001-01-01</td>\n",
              "      <td>THEFT</td>\n",
              "      <td>FINANCIAL ID THEFT: OVER $300</td>\n",
              "      <td>RESIDENCE</td>\n",
              "      <td>False</td>\n",
              "      <td>False</td>\n",
              "      <td>41.963238</td>\n",
              "      <td>-87.778194</td>\n",
              "    </tr>\n",
              "    <tr>\n",
              "      <th>...</th>\n",
              "      <td>...</td>\n",
              "      <td>...</td>\n",
              "      <td>...</td>\n",
              "      <td>...</td>\n",
              "      <td>...</td>\n",
              "      <td>...</td>\n",
              "      <td>...</td>\n",
              "      <td>...</td>\n",
              "    </tr>\n",
              "    <tr>\n",
              "      <th>6472799</th>\n",
              "      <td>2020-07-08</td>\n",
              "      <td>THEFT</td>\n",
              "      <td>RETAIL THEFT</td>\n",
              "      <td>GROCERY FOOD STORE</td>\n",
              "      <td>False</td>\n",
              "      <td>False</td>\n",
              "      <td>41.954344</td>\n",
              "      <td>-87.664922</td>\n",
              "    </tr>\n",
              "    <tr>\n",
              "      <th>6472800</th>\n",
              "      <td>2020-07-08</td>\n",
              "      <td>THEFT</td>\n",
              "      <td>OVER $500</td>\n",
              "      <td>RESIDENCE</td>\n",
              "      <td>False</td>\n",
              "      <td>False</td>\n",
              "      <td>41.754333</td>\n",
              "      <td>-87.613790</td>\n",
              "    </tr>\n",
              "    <tr>\n",
              "      <th>6472801</th>\n",
              "      <td>2020-07-08</td>\n",
              "      <td>ROBBERY</td>\n",
              "      <td>AGGRAVATED</td>\n",
              "      <td>STREET</td>\n",
              "      <td>False</td>\n",
              "      <td>False</td>\n",
              "      <td>41.795364</td>\n",
              "      <td>-87.599238</td>\n",
              "    </tr>\n",
              "    <tr>\n",
              "      <th>6472802</th>\n",
              "      <td>2020-07-08</td>\n",
              "      <td>DECEPTIVE PRACTICE</td>\n",
              "      <td>COMPUTER FRAUD</td>\n",
              "      <td>CONVENIENCE STORE</td>\n",
              "      <td>False</td>\n",
              "      <td>False</td>\n",
              "      <td>41.953853</td>\n",
              "      <td>-87.713208</td>\n",
              "    </tr>\n",
              "    <tr>\n",
              "      <th>6472803</th>\n",
              "      <td>2020-07-08</td>\n",
              "      <td>ASSAULT</td>\n",
              "      <td>AGGRAVATED - HANDGUN</td>\n",
              "      <td>APARTMENT</td>\n",
              "      <td>False</td>\n",
              "      <td>True</td>\n",
              "      <td>41.860260</td>\n",
              "      <td>-87.721341</td>\n",
              "    </tr>\n",
              "  </tbody>\n",
              "</table>\n",
              "<p>6472804 rows × 8 columns</p>\n",
              "</div>"
            ],
            "text/plain": [
              "              Date                Primary Type  ...   Latitude  Longitude\n",
              "0       2001-01-01                       THEFT  ...  41.764002 -87.656290\n",
              "1       2001-01-01                       THEFT  ...  41.862175 -87.711496\n",
              "2       2001-01-01  OFFENSE INVOLVING CHILDREN  ...  41.804197 -87.626096\n",
              "3       2001-01-01                       THEFT  ...  41.812451 -87.694479\n",
              "4       2001-01-01                       THEFT  ...  41.963238 -87.778194\n",
              "...            ...                         ...  ...        ...        ...\n",
              "6472799 2020-07-08                       THEFT  ...  41.954344 -87.664922\n",
              "6472800 2020-07-08                       THEFT  ...  41.754333 -87.613790\n",
              "6472801 2020-07-08                     ROBBERY  ...  41.795364 -87.599238\n",
              "6472802 2020-07-08          DECEPTIVE PRACTICE  ...  41.953853 -87.713208\n",
              "6472803 2020-07-08                     ASSAULT  ...  41.860260 -87.721341\n",
              "\n",
              "[6472804 rows x 8 columns]"
            ]
          },
          "metadata": {
            "tags": []
          },
          "execution_count": 5
        }
      ]
    },
    {
      "cell_type": "code",
      "metadata": {
        "id": "fis3QdEYSNvf",
        "colab_type": "code",
        "colab": {}
      },
      "source": [
        "location={\n",
        "    'Longitude': file.loc[:,'Longitude'],\n",
        "    'Latitude': file.loc[:,'Latitude']\n",
        "         }"
      ],
      "execution_count": 6,
      "outputs": []
    },
    {
      "cell_type": "code",
      "metadata": {
        "id": "F9NgyRVASRbE",
        "colab_type": "code",
        "colab": {}
      },
      "source": [
        "location=pd.DataFrame(location)"
      ],
      "execution_count": 7,
      "outputs": []
    },
    {
      "cell_type": "code",
      "metadata": {
        "id": "ipZEIRhLSTj4",
        "colab_type": "code",
        "colab": {
          "base_uri": "https://localhost:8080/",
          "height": 424
        },
        "outputId": "6039bb7e-69a2-493d-b51a-68f36f7bc8d2"
      },
      "source": [
        "location"
      ],
      "execution_count": 8,
      "outputs": [
        {
          "output_type": "execute_result",
          "data": {
            "text/html": [
              "<div>\n",
              "<style scoped>\n",
              "    .dataframe tbody tr th:only-of-type {\n",
              "        vertical-align: middle;\n",
              "    }\n",
              "\n",
              "    .dataframe tbody tr th {\n",
              "        vertical-align: top;\n",
              "    }\n",
              "\n",
              "    .dataframe thead th {\n",
              "        text-align: right;\n",
              "    }\n",
              "</style>\n",
              "<table border=\"1\" class=\"dataframe\">\n",
              "  <thead>\n",
              "    <tr style=\"text-align: right;\">\n",
              "      <th></th>\n",
              "      <th>Longitude</th>\n",
              "      <th>Latitude</th>\n",
              "    </tr>\n",
              "  </thead>\n",
              "  <tbody>\n",
              "    <tr>\n",
              "      <th>0</th>\n",
              "      <td>-87.656290</td>\n",
              "      <td>41.764002</td>\n",
              "    </tr>\n",
              "    <tr>\n",
              "      <th>1</th>\n",
              "      <td>-87.711496</td>\n",
              "      <td>41.862175</td>\n",
              "    </tr>\n",
              "    <tr>\n",
              "      <th>2</th>\n",
              "      <td>-87.626096</td>\n",
              "      <td>41.804197</td>\n",
              "    </tr>\n",
              "    <tr>\n",
              "      <th>3</th>\n",
              "      <td>-87.694479</td>\n",
              "      <td>41.812451</td>\n",
              "    </tr>\n",
              "    <tr>\n",
              "      <th>4</th>\n",
              "      <td>-87.778194</td>\n",
              "      <td>41.963238</td>\n",
              "    </tr>\n",
              "    <tr>\n",
              "      <th>...</th>\n",
              "      <td>...</td>\n",
              "      <td>...</td>\n",
              "    </tr>\n",
              "    <tr>\n",
              "      <th>6472799</th>\n",
              "      <td>-87.664922</td>\n",
              "      <td>41.954344</td>\n",
              "    </tr>\n",
              "    <tr>\n",
              "      <th>6472800</th>\n",
              "      <td>-87.613790</td>\n",
              "      <td>41.754333</td>\n",
              "    </tr>\n",
              "    <tr>\n",
              "      <th>6472801</th>\n",
              "      <td>-87.599238</td>\n",
              "      <td>41.795364</td>\n",
              "    </tr>\n",
              "    <tr>\n",
              "      <th>6472802</th>\n",
              "      <td>-87.713208</td>\n",
              "      <td>41.953853</td>\n",
              "    </tr>\n",
              "    <tr>\n",
              "      <th>6472803</th>\n",
              "      <td>-87.721341</td>\n",
              "      <td>41.860260</td>\n",
              "    </tr>\n",
              "  </tbody>\n",
              "</table>\n",
              "<p>6472804 rows × 2 columns</p>\n",
              "</div>"
            ],
            "text/plain": [
              "         Longitude   Latitude\n",
              "0       -87.656290  41.764002\n",
              "1       -87.711496  41.862175\n",
              "2       -87.626096  41.804197\n",
              "3       -87.694479  41.812451\n",
              "4       -87.778194  41.963238\n",
              "...            ...        ...\n",
              "6472799 -87.664922  41.954344\n",
              "6472800 -87.613790  41.754333\n",
              "6472801 -87.599238  41.795364\n",
              "6472802 -87.713208  41.953853\n",
              "6472803 -87.721341  41.860260\n",
              "\n",
              "[6472804 rows x 2 columns]"
            ]
          },
          "metadata": {
            "tags": []
          },
          "execution_count": 8
        }
      ]
    },
    {
      "cell_type": "code",
      "metadata": {
        "id": "4bSrNuknSVxB",
        "colab_type": "code",
        "colab": {
          "base_uri": "https://localhost:8080/",
          "height": 72
        },
        "outputId": "90732581-8575-40af-c358-d5139dfc2cf0"
      },
      "source": [
        "#Fit the data.\n",
        "kmeans = KMeans(n_clusters=6)\n",
        "kmeans.fit(location)"
      ],
      "execution_count": 9,
      "outputs": [
        {
          "output_type": "execute_result",
          "data": {
            "text/plain": [
              "KMeans(algorithm='auto', copy_x=True, init='k-means++', max_iter=300,\n",
              "       n_clusters=6, n_init=10, n_jobs=None, precompute_distances='auto',\n",
              "       random_state=None, tol=0.0001, verbose=0)"
            ]
          },
          "metadata": {
            "tags": []
          },
          "execution_count": 9
        }
      ]
    },
    {
      "cell_type": "code",
      "metadata": {
        "id": "9qQg4ywSSdqy",
        "colab_type": "code",
        "colab": {}
      },
      "source": [
        "#Learn the labels.\n",
        "labels = kmeans.predict(location)\n",
        "centroids = kmeans.cluster_centers_"
      ],
      "execution_count": 10,
      "outputs": []
    },
    {
      "cell_type": "code",
      "metadata": {
        "id": "gXEEaYVcjua2",
        "colab_type": "code",
        "colab": {}
      },
      "source": [
        "file['Zone']=list(labels) #Insert new dictinary key zone, where longitude,latitude map to zone using k-means"
      ],
      "execution_count": 11,
      "outputs": []
    },
    {
      "cell_type": "code",
      "metadata": {
        "id": "fJkzn0Dbkm3C",
        "colab_type": "code",
        "colab": {
          "base_uri": "https://localhost:8080/",
          "height": 424
        },
        "outputId": "211ad64a-5308-4600-d252-48a73c88badc"
      },
      "source": [
        "file"
      ],
      "execution_count": 12,
      "outputs": [
        {
          "output_type": "execute_result",
          "data": {
            "text/html": [
              "<div>\n",
              "<style scoped>\n",
              "    .dataframe tbody tr th:only-of-type {\n",
              "        vertical-align: middle;\n",
              "    }\n",
              "\n",
              "    .dataframe tbody tr th {\n",
              "        vertical-align: top;\n",
              "    }\n",
              "\n",
              "    .dataframe thead th {\n",
              "        text-align: right;\n",
              "    }\n",
              "</style>\n",
              "<table border=\"1\" class=\"dataframe\">\n",
              "  <thead>\n",
              "    <tr style=\"text-align: right;\">\n",
              "      <th></th>\n",
              "      <th>Date</th>\n",
              "      <th>Primary Type</th>\n",
              "      <th>Description</th>\n",
              "      <th>Location Description</th>\n",
              "      <th>Arrest</th>\n",
              "      <th>Domestic</th>\n",
              "      <th>Latitude</th>\n",
              "      <th>Longitude</th>\n",
              "      <th>Zone</th>\n",
              "    </tr>\n",
              "  </thead>\n",
              "  <tbody>\n",
              "    <tr>\n",
              "      <th>0</th>\n",
              "      <td>2001-01-01</td>\n",
              "      <td>THEFT</td>\n",
              "      <td>FINANCIAL ID THEFT: OVER $300</td>\n",
              "      <td>RESIDENCE</td>\n",
              "      <td>False</td>\n",
              "      <td>False</td>\n",
              "      <td>41.764002</td>\n",
              "      <td>-87.656290</td>\n",
              "      <td>3</td>\n",
              "    </tr>\n",
              "    <tr>\n",
              "      <th>1</th>\n",
              "      <td>2001-01-01</td>\n",
              "      <td>THEFT</td>\n",
              "      <td>FINANCIAL ID THEFT: OVER $300</td>\n",
              "      <td>RESIDENCE</td>\n",
              "      <td>False</td>\n",
              "      <td>False</td>\n",
              "      <td>41.862175</td>\n",
              "      <td>-87.711496</td>\n",
              "      <td>2</td>\n",
              "    </tr>\n",
              "    <tr>\n",
              "      <th>2</th>\n",
              "      <td>2001-01-01</td>\n",
              "      <td>OFFENSE INVOLVING CHILDREN</td>\n",
              "      <td>AGG SEX ASSLT OF CHILD FAM MBR</td>\n",
              "      <td>APARTMENT</td>\n",
              "      <td>False</td>\n",
              "      <td>False</td>\n",
              "      <td>41.804197</td>\n",
              "      <td>-87.626096</td>\n",
              "      <td>3</td>\n",
              "    </tr>\n",
              "    <tr>\n",
              "      <th>3</th>\n",
              "      <td>2001-01-01</td>\n",
              "      <td>THEFT</td>\n",
              "      <td>FINANCIAL ID THEFT:$300 &amp;UNDER</td>\n",
              "      <td>RESIDENCE</td>\n",
              "      <td>False</td>\n",
              "      <td>False</td>\n",
              "      <td>41.812451</td>\n",
              "      <td>-87.694479</td>\n",
              "      <td>3</td>\n",
              "    </tr>\n",
              "    <tr>\n",
              "      <th>4</th>\n",
              "      <td>2001-01-01</td>\n",
              "      <td>THEFT</td>\n",
              "      <td>FINANCIAL ID THEFT: OVER $300</td>\n",
              "      <td>RESIDENCE</td>\n",
              "      <td>False</td>\n",
              "      <td>False</td>\n",
              "      <td>41.963238</td>\n",
              "      <td>-87.778194</td>\n",
              "      <td>2</td>\n",
              "    </tr>\n",
              "    <tr>\n",
              "      <th>...</th>\n",
              "      <td>...</td>\n",
              "      <td>...</td>\n",
              "      <td>...</td>\n",
              "      <td>...</td>\n",
              "      <td>...</td>\n",
              "      <td>...</td>\n",
              "      <td>...</td>\n",
              "      <td>...</td>\n",
              "      <td>...</td>\n",
              "    </tr>\n",
              "    <tr>\n",
              "      <th>6472799</th>\n",
              "      <td>2020-07-08</td>\n",
              "      <td>THEFT</td>\n",
              "      <td>RETAIL THEFT</td>\n",
              "      <td>GROCERY FOOD STORE</td>\n",
              "      <td>False</td>\n",
              "      <td>False</td>\n",
              "      <td>41.954344</td>\n",
              "      <td>-87.664922</td>\n",
              "      <td>0</td>\n",
              "    </tr>\n",
              "    <tr>\n",
              "      <th>6472800</th>\n",
              "      <td>2020-07-08</td>\n",
              "      <td>THEFT</td>\n",
              "      <td>OVER $500</td>\n",
              "      <td>RESIDENCE</td>\n",
              "      <td>False</td>\n",
              "      <td>False</td>\n",
              "      <td>41.754333</td>\n",
              "      <td>-87.613790</td>\n",
              "      <td>1</td>\n",
              "    </tr>\n",
              "    <tr>\n",
              "      <th>6472801</th>\n",
              "      <td>2020-07-08</td>\n",
              "      <td>ROBBERY</td>\n",
              "      <td>AGGRAVATED</td>\n",
              "      <td>STREET</td>\n",
              "      <td>False</td>\n",
              "      <td>False</td>\n",
              "      <td>41.795364</td>\n",
              "      <td>-87.599238</td>\n",
              "      <td>1</td>\n",
              "    </tr>\n",
              "    <tr>\n",
              "      <th>6472802</th>\n",
              "      <td>2020-07-08</td>\n",
              "      <td>DECEPTIVE PRACTICE</td>\n",
              "      <td>COMPUTER FRAUD</td>\n",
              "      <td>CONVENIENCE STORE</td>\n",
              "      <td>False</td>\n",
              "      <td>False</td>\n",
              "      <td>41.953853</td>\n",
              "      <td>-87.713208</td>\n",
              "      <td>0</td>\n",
              "    </tr>\n",
              "    <tr>\n",
              "      <th>6472803</th>\n",
              "      <td>2020-07-08</td>\n",
              "      <td>ASSAULT</td>\n",
              "      <td>AGGRAVATED - HANDGUN</td>\n",
              "      <td>APARTMENT</td>\n",
              "      <td>False</td>\n",
              "      <td>True</td>\n",
              "      <td>41.860260</td>\n",
              "      <td>-87.721341</td>\n",
              "      <td>2</td>\n",
              "    </tr>\n",
              "  </tbody>\n",
              "</table>\n",
              "<p>6472804 rows × 9 columns</p>\n",
              "</div>"
            ],
            "text/plain": [
              "              Date                Primary Type  ...  Longitude Zone\n",
              "0       2001-01-01                       THEFT  ... -87.656290    3\n",
              "1       2001-01-01                       THEFT  ... -87.711496    2\n",
              "2       2001-01-01  OFFENSE INVOLVING CHILDREN  ... -87.626096    3\n",
              "3       2001-01-01                       THEFT  ... -87.694479    3\n",
              "4       2001-01-01                       THEFT  ... -87.778194    2\n",
              "...            ...                         ...  ...        ...  ...\n",
              "6472799 2020-07-08                       THEFT  ... -87.664922    0\n",
              "6472800 2020-07-08                       THEFT  ... -87.613790    1\n",
              "6472801 2020-07-08                     ROBBERY  ... -87.599238    1\n",
              "6472802 2020-07-08          DECEPTIVE PRACTICE  ... -87.713208    0\n",
              "6472803 2020-07-08                     ASSAULT  ... -87.721341    2\n",
              "\n",
              "[6472804 rows x 9 columns]"
            ]
          },
          "metadata": {
            "tags": []
          },
          "execution_count": 12
        }
      ]
    },
    {
      "cell_type": "code",
      "metadata": {
        "id": "H-GIP3kAl9vL",
        "colab_type": "code",
        "colab": {}
      },
      "source": [
        "theft={}\n",
        "theft['Date']=file[file['Primary Type']=='THEFT'].loc[:,'Date']\n",
        "theft['Zone']=file[file['Primary Type']=='THEFT'].loc[:,'Zone']"
      ],
      "execution_count": 13,
      "outputs": []
    },
    {
      "cell_type": "code",
      "metadata": {
        "id": "TO4KPCstl-GI",
        "colab_type": "code",
        "colab": {}
      },
      "source": [
        "theft={}\n",
        "theft['Date']=file[file['Primary Type']=='THEFT'].loc[:,'Date']\n",
        "\n",
        "zones=set(labels)\n",
        "for element in zones:\n",
        "  if element>=2:\n",
        "    theft['zone'+str(element)]=file[file['Zone']== element ].loc[:,'Zone']/element\n",
        "  else:\n",
        "    theft['zone'+str(element)]=file[file['Zone']== element ].loc[:,'Zone']"
      ],
      "execution_count": 14,
      "outputs": []
    },
    {
      "cell_type": "code",
      "metadata": {
        "id": "aqaxU1aHl-P5",
        "colab_type": "code",
        "colab": {
          "base_uri": "https://localhost:8080/",
          "height": 455
        },
        "outputId": "16f3a9d4-3381-4caa-edbf-cdf750594296"
      },
      "source": [
        "theft=pd.DataFrame(theft)\n",
        "theft=theft.groupby(['Date']).sum()\n",
        "theft"
      ],
      "execution_count": 18,
      "outputs": [
        {
          "output_type": "execute_result",
          "data": {
            "text/html": [
              "<div>\n",
              "<style scoped>\n",
              "    .dataframe tbody tr th:only-of-type {\n",
              "        vertical-align: middle;\n",
              "    }\n",
              "\n",
              "    .dataframe tbody tr th {\n",
              "        vertical-align: top;\n",
              "    }\n",
              "\n",
              "    .dataframe thead th {\n",
              "        text-align: right;\n",
              "    }\n",
              "</style>\n",
              "<table border=\"1\" class=\"dataframe\">\n",
              "  <thead>\n",
              "    <tr style=\"text-align: right;\">\n",
              "      <th></th>\n",
              "      <th>zone0</th>\n",
              "      <th>zone1</th>\n",
              "      <th>zone2</th>\n",
              "      <th>zone3</th>\n",
              "      <th>zone4</th>\n",
              "      <th>zone5</th>\n",
              "    </tr>\n",
              "    <tr>\n",
              "      <th>Date</th>\n",
              "      <th></th>\n",
              "      <th></th>\n",
              "      <th></th>\n",
              "      <th></th>\n",
              "      <th></th>\n",
              "      <th></th>\n",
              "    </tr>\n",
              "  </thead>\n",
              "  <tbody>\n",
              "    <tr>\n",
              "      <th>2001-01-01</th>\n",
              "      <td>0.0</td>\n",
              "      <td>33.0</td>\n",
              "      <td>47.0</td>\n",
              "      <td>23.0</td>\n",
              "      <td>0.0</td>\n",
              "      <td>19.0</td>\n",
              "    </tr>\n",
              "    <tr>\n",
              "      <th>2001-01-02</th>\n",
              "      <td>0.0</td>\n",
              "      <td>4.0</td>\n",
              "      <td>1.0</td>\n",
              "      <td>0.0</td>\n",
              "      <td>0.0</td>\n",
              "      <td>2.0</td>\n",
              "    </tr>\n",
              "    <tr>\n",
              "      <th>2001-01-03</th>\n",
              "      <td>0.0</td>\n",
              "      <td>0.0</td>\n",
              "      <td>1.0</td>\n",
              "      <td>0.0</td>\n",
              "      <td>0.0</td>\n",
              "      <td>0.0</td>\n",
              "    </tr>\n",
              "    <tr>\n",
              "      <th>2001-01-05</th>\n",
              "      <td>0.0</td>\n",
              "      <td>0.0</td>\n",
              "      <td>0.0</td>\n",
              "      <td>0.0</td>\n",
              "      <td>0.0</td>\n",
              "      <td>0.0</td>\n",
              "    </tr>\n",
              "    <tr>\n",
              "      <th>2001-01-06</th>\n",
              "      <td>0.0</td>\n",
              "      <td>0.0</td>\n",
              "      <td>0.0</td>\n",
              "      <td>1.0</td>\n",
              "      <td>0.0</td>\n",
              "      <td>0.0</td>\n",
              "    </tr>\n",
              "    <tr>\n",
              "      <th>...</th>\n",
              "      <td>...</td>\n",
              "      <td>...</td>\n",
              "      <td>...</td>\n",
              "      <td>...</td>\n",
              "      <td>...</td>\n",
              "      <td>...</td>\n",
              "    </tr>\n",
              "    <tr>\n",
              "      <th>2020-07-04</th>\n",
              "      <td>0.0</td>\n",
              "      <td>17.0</td>\n",
              "      <td>21.0</td>\n",
              "      <td>11.0</td>\n",
              "      <td>0.0</td>\n",
              "      <td>26.0</td>\n",
              "    </tr>\n",
              "    <tr>\n",
              "      <th>2020-07-05</th>\n",
              "      <td>0.0</td>\n",
              "      <td>22.0</td>\n",
              "      <td>10.0</td>\n",
              "      <td>15.0</td>\n",
              "      <td>0.0</td>\n",
              "      <td>22.0</td>\n",
              "    </tr>\n",
              "    <tr>\n",
              "      <th>2020-07-06</th>\n",
              "      <td>0.0</td>\n",
              "      <td>27.0</td>\n",
              "      <td>21.0</td>\n",
              "      <td>13.0</td>\n",
              "      <td>0.0</td>\n",
              "      <td>34.0</td>\n",
              "    </tr>\n",
              "    <tr>\n",
              "      <th>2020-07-07</th>\n",
              "      <td>0.0</td>\n",
              "      <td>16.0</td>\n",
              "      <td>21.0</td>\n",
              "      <td>9.0</td>\n",
              "      <td>0.0</td>\n",
              "      <td>25.0</td>\n",
              "    </tr>\n",
              "    <tr>\n",
              "      <th>2020-07-08</th>\n",
              "      <td>0.0</td>\n",
              "      <td>20.0</td>\n",
              "      <td>20.0</td>\n",
              "      <td>15.0</td>\n",
              "      <td>0.0</td>\n",
              "      <td>22.0</td>\n",
              "    </tr>\n",
              "  </tbody>\n",
              "</table>\n",
              "<p>7049 rows × 6 columns</p>\n",
              "</div>"
            ],
            "text/plain": [
              "            zone0  zone1  zone2  zone3  zone4  zone5\n",
              "Date                                                \n",
              "2001-01-01    0.0   33.0   47.0   23.0    0.0   19.0\n",
              "2001-01-02    0.0    4.0    1.0    0.0    0.0    2.0\n",
              "2001-01-03    0.0    0.0    1.0    0.0    0.0    0.0\n",
              "2001-01-05    0.0    0.0    0.0    0.0    0.0    0.0\n",
              "2001-01-06    0.0    0.0    0.0    1.0    0.0    0.0\n",
              "...           ...    ...    ...    ...    ...    ...\n",
              "2020-07-04    0.0   17.0   21.0   11.0    0.0   26.0\n",
              "2020-07-05    0.0   22.0   10.0   15.0    0.0   22.0\n",
              "2020-07-06    0.0   27.0   21.0   13.0    0.0   34.0\n",
              "2020-07-07    0.0   16.0   21.0    9.0    0.0   25.0\n",
              "2020-07-08    0.0   20.0   20.0   15.0    0.0   22.0\n",
              "\n",
              "[7049 rows x 6 columns]"
            ]
          },
          "metadata": {
            "tags": []
          },
          "execution_count": 18
        }
      ]
    },
    {
      "cell_type": "code",
      "metadata": {
        "id": "Od-VqUShl-ao",
        "colab_type": "code",
        "colab": {
          "base_uri": "https://localhost:8080/",
          "height": 35
        },
        "outputId": "866a70a5-b7a6-4682-8241-81434ef5c30a"
      },
      "source": [
        "theft.isnull().values.any() #Trivial. Check dataframe for nulls. "
      ],
      "execution_count": 21,
      "outputs": [
        {
          "output_type": "execute_result",
          "data": {
            "text/plain": [
              "False"
            ]
          },
          "metadata": {
            "tags": []
          },
          "execution_count": 21
        }
      ]
    },
    {
      "cell_type": "code",
      "metadata": {
        "id": "vvKzIJ3W8JHU",
        "colab_type": "code",
        "colab": {
          "base_uri": "https://localhost:8080/",
          "height": 164
        },
        "outputId": "70c362b1-88f1-441c-d7df-9c2df264bf10"
      },
      "source": [
        "theft.index "
      ],
      "execution_count": 23,
      "outputs": [
        {
          "output_type": "execute_result",
          "data": {
            "text/plain": [
              "DatetimeIndex(['2001-01-01', '2001-01-02', '2001-01-03', '2001-01-05',\n",
              "               '2001-01-06', '2001-01-08', '2001-01-10', '2001-01-11',\n",
              "               '2001-01-13', '2001-01-15',\n",
              "               ...\n",
              "               '2020-06-29', '2020-06-30', '2020-07-01', '2020-07-02',\n",
              "               '2020-07-03', '2020-07-04', '2020-07-05', '2020-07-06',\n",
              "               '2020-07-07', '2020-07-08'],\n",
              "              dtype='datetime64[ns]', name='Date', length=7049, freq=None)"
            ]
          },
          "metadata": {
            "tags": []
          },
          "execution_count": 23
        }
      ]
    },
    {
      "cell_type": "code",
      "metadata": {
        "id": "JHG4MGqiUXco",
        "colab_type": "code",
        "colab": {}
      },
      "source": [
        "path_to_save=os.path.join(path,'data','theft')\n",
        "theft.to_csv(path_to_save,index=False)"
      ],
      "execution_count": 25,
      "outputs": []
    },
    {
      "cell_type": "markdown",
      "metadata": {
        "id": "Hk3oULVBUZND",
        "colab_type": "text"
      },
      "source": [
        "Preprocessing is complete after spatial cluster have been added. Export crime type to file. Then run a RNN over the data."
      ]
    },
    {
      "cell_type": "code",
      "metadata": {
        "id": "fNnXwoAeUzkw",
        "colab_type": "code",
        "colab": {}
      },
      "source": [
        "colmap={1:'r',2:'g',3:'b',4:'c',5:'m',6:'y',7:'k',\\\n",
        "        8:'r',9:'g',10:'b',\\\n",
        "        11:'c',12:'m',13:'y',\\\n",
        "        14:'r',15:'g',16:'b',\\\n",
        "        17:'c',18:'m',19:'y',\\\n",
        "        20:'k',\\\n",
        "        21:'r',22:'g',23:'b',24:'c',25:'m',26:'y',27:'k',\\\n",
        "        28:'r',29:'g',30:'b',\\\n",
        "        31:'c',32:'m',33:'y',\\\n",
        "        34:'r',35:'g',36:'b',\\\n",
        "        37:'c',38:'m',39:'y',\\\n",
        "        40:'k',\\\n",
        "        41:'r',42:'g',43:'b',44:'c',45:'m',46:'y',47:'k',\\\n",
        "        48:'r',49:'g',50:'b',\\\n",
        "        51:'c',52:'m',53:'y',\\\n",
        "        54:'r',55:'g',56:'b',\\\n",
        "        57:'c',58:'m',59:'y',\\\n",
        "        60:'k',\\\n",
        "        61:'r'\\\n",
        "\n",
        "        }\n",
        "\n"
      ],
      "execution_count": null,
      "outputs": []
    },
    {
      "cell_type": "markdown",
      "metadata": {
        "id": "EHRnihdVUpoc",
        "colab_type": "text"
      },
      "source": [
        "Optional spatial clusters to plot "
      ]
    },
    {
      "cell_type": "code",
      "metadata": {
        "id": "n2v7yF9eU263",
        "colab_type": "code",
        "colab": {
          "base_uri": "https://localhost:8080/",
          "height": 342
        },
        "outputId": "a00a0e0c-fc96-40d2-f3d3-7f42c1d4aefa"
      },
      "source": [
        "fig = plt.figure(figsize=(5, 5))\n",
        "colors = list(map(lambda x: colmap[x+1], labels))\n",
        "\n",
        "plt.scatter(location['Longitude'], location['Latitude'], color=colors, alpha=0.5, edgecolor='k')\n",
        "\n",
        "for idx, centroid in enumerate(centroids):\n",
        "    plt.scatter(*centroid, color=colmap[idx+1])\n",
        "\n",
        "plt.ylim(41.6, 42.1)\n",
        "plt.xlim(-88, -87.4)\n",
        "#plt.show()"
      ],
      "execution_count": null,
      "outputs": [
        {
          "output_type": "execute_result",
          "data": {
            "text/plain": [
              "(-88.0, -87.4)"
            ]
          },
          "metadata": {
            "tags": []
          },
          "execution_count": 29
        },
        {
          "output_type": "display_data",
          "data": {
            "image/png": "[encoded data removed]",
            "text/plain": [
              "<Figure size 360x360 with 1 Axes>"
            ]
          },
          "metadata": {
            "tags": [],
            "needs_background": "light"
          }
        }
      ]
    }
  ]
}