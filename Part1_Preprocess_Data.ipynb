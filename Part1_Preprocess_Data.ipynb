{
  "nbformat": 4,
  "nbformat_minor": 0,
  "metadata": {
    "colab": {
      "name": "Part1_Preprocess_Data.ipynb",
      "provenance": [],
      "collapsed_sections": [],
      "mount_file_id": "1risYheW8oEbEUQyY5cvjbC7JfT62NwaD",
      "authorship_tag": "ABX9TyM4VpcT/SPGQC8saHMDloPK",
      "include_colab_link": true
    },
    "kernelspec": {
      "name": "python3",
      "display_name": "Python 3"
    }
  },
  "cells": [
    {
      "cell_type": "markdown",
      "metadata": {
        "id": "view-in-github",
        "colab_type": "text"
      },
      "source": [
        "<a href=\"https://colab.research.google.com/github/uteyechea/crime-prediction-using-artificial-intelligence/blob/master/Part1_Preprocess_Data.ipynb\" target=\"_parent\"><img src=\"https://colab.research.google.com/assets/colab-badge.svg\" alt=\"Open In Colab\"/></a>"
      ]
    },
    {
      "cell_type": "markdown",
      "metadata": {
        "id": "govsRwS961Nb",
        "colab_type": "text"
      },
      "source": [
        "# Part 1: Preprocessing crime data files\n",
        "\n",
        "Source crime data can be found at https://data.cityofchicago.org/Public-Safety/Crimes-2019/w98m-zvie. \n",
        "\n",
        "\n",
        "## 1.1 Dependencies\n",
        "Import the relevant packages we will use to preprocess the raw data files.\n",
        "\n",
        "\n"
      ]
    },
    {
      "cell_type": "code",
      "metadata": {
        "id": "nVfRnmdiPy2-",
        "colab_type": "code",
        "colab": {}
      },
      "source": [
        "import os\n",
        "import gc\n",
        "\n",
        "import pandas as pd\n",
        "from sklearn.cluster import KMeans\n",
        "import matplotlib.pyplot as plt\n",
        "%matplotlib inline"
      ],
      "execution_count": null,
      "outputs": []
    },
    {
      "cell_type": "markdown",
      "metadata": {
        "id": "MhdTX84o_PBU",
        "colab_type": "text"
      },
      "source": [
        "##1.2 Mount Google Drive"
      ]
    },
    {
      "cell_type": "code",
      "metadata": {
        "id": "nr2ZPztY_PSd",
        "colab_type": "code",
        "colab": {
          "base_uri": "https://localhost:8080/",
          "height": 128
        },
        "outputId": "3c372408-5500-4536-e9d3-4cf9064841bd"
      },
      "source": [
        "from google.colab import drive\n",
        "drive.mount('/content/drive', force_remount=True)"
      ],
      "execution_count": null,
      "outputs": [
        {
          "output_type": "stream",
          "text": [
            "Go to this URL in a browser: https://accounts.google.com/o/oauth2/auth?client_id=947318989803-6bn6qk8qdgf4n4g3pfee6491hc0brc4i.apps.googleusercontent.com&redirect_uri=urn%3aietf%3awg%3aoauth%3a2.0%3aoob&response_type=code&scope=email%20https%3a%2f%2fwww.googleapis.com%2fauth%2fdocs.test%20https%3a%2f%2fwww.googleapis.com%2fauth%2fdrive%20https%3a%2f%2fwww.googleapis.com%2fauth%2fdrive.photos.readonly%20https%3a%2f%2fwww.googleapis.com%2fauth%2fpeopleapi.readonly\n",
            "\n",
            "Enter your authorization code:\n",
            "··········\n",
            "Mounted at /content/drive\n"
          ],
          "name": "stdout"
        }
      ]
    },
    {
      "cell_type": "markdown",
      "metadata": {
        "id": "4p8-dBzV8hza",
        "colab_type": "text"
      },
      "source": [
        "## 1.3 Path to data file and working directory.\n",
        "This notebook is run in google colaboratory. Set path variable to cloud files and data inside Google drive."
      ]
    },
    {
      "cell_type": "code",
      "metadata": {
        "id": "NOkK_dM3QdSc",
        "colab_type": "code",
        "colab": {}
      },
      "source": [
        "path='/content/drive/My Drive/Colab Notebooks/crime_prediction' #Folder in my Google drive where I saved this project.\n",
        "file_path = os.path.join(path,'data','CrimesAll.csv') #Full path to raw crime data file."
      ],
      "execution_count": null,
      "outputs": []
    },
    {
      "cell_type": "code",
      "metadata": {
        "id": "OGKTWcCuQfsS",
        "colab_type": "code",
        "colab": {
          "base_uri": "https://localhost:8080/",
          "height": 92
        },
        "outputId": "c0b90829-66a8-450f-a833-90a83f4d4ba4"
      },
      "source": [
        "file = pd.read_csv(file_path,sep=',') \n",
        "file.shape "
      ],
      "execution_count": null,
      "outputs": [
        {
          "output_type": "stream",
          "text": [
            "/usr/local/lib/python3.6/dist-packages/IPython/core/interactiveshell.py:2718: DtypeWarning: Columns (21) have mixed types.Specify dtype option on import or set low_memory=False.\n",
            "  interactivity=interactivity, compiler=compiler, result=result)\n"
          ],
          "name": "stderr"
        },
        {
          "output_type": "execute_result",
          "data": {
            "text/plain": [
              "(7153060, 22)"
            ]
          },
          "metadata": {
            "tags": []
          },
          "execution_count": 8
        }
      ]
    },
    {
      "cell_type": "code",
      "metadata": {
        "id": "hIg2D7X2R8AX",
        "colab_type": "code",
        "colab": {
          "base_uri": "https://localhost:8080/",
          "height": 35
        },
        "outputId": "9b8d3f72-1d44-4971-e419-2970ac660890"
      },
      "source": [
        "file=file.dropna(axis='index') #Drop rows with missing values.\n",
        "file.shape"
      ],
      "execution_count": null,
      "outputs": [
        {
          "output_type": "execute_result",
          "data": {
            "text/plain": [
              "(6472804, 22)"
            ]
          },
          "metadata": {
            "tags": []
          },
          "execution_count": 9
        }
      ]
    },
    {
      "cell_type": "markdown",
      "metadata": {
        "id": "xwxl-YHb-Fz5",
        "colab_type": "text"
      },
      "source": [
        "##1.4 Preview crime data file\n",
        "\n",
        "Smallest temporal unit is minutes. Records all crime types as they happen in the city of Chicago. Features of interest are: datetime, crime type, location, and arrested criminals."
      ]
    },
    {
      "cell_type": "code",
      "metadata": {
        "id": "L3t2ryXtSC9T",
        "colab_type": "code",
        "colab": {
          "base_uri": "https://localhost:8080/",
          "height": 163
        },
        "outputId": "939ca157-60af-4a38-f2e3-4610e1184bf0"
      },
      "source": [
        "print(file.head())"
      ],
      "execution_count": null,
      "outputs": [
        {
          "output_type": "stream",
          "text": [
            "             ID Case Number  ...  Longitude                       Location\n",
            "63299  11665567    JC234307  ... -87.612583     (41.708589, -87.612583094)\n",
            "63383  11667963    JC235212  ... -87.732066  (41.940297617, -87.732066473)\n",
            "63384  11667968    JC237058  ... -87.755230  (41.884865037, -87.755230327)\n",
            "63460  11668309    JC238187  ... -87.613508  (41.697609261, -87.613507612)\n",
            "63864  11692179    JC261724  ... -87.653167  (41.729973132, -87.653166753)\n",
            "\n",
            "[5 rows x 22 columns]\n"
          ],
          "name": "stdout"
        }
      ]
    },
    {
      "cell_type": "markdown",
      "metadata": {
        "id": "5AUwwWwGAfWy",
        "colab_type": "text"
      },
      "source": [
        "##1.5 Drop some columns\n",
        "Drop columns that we will not use to forecat this time series"
      ]
    },
    {
      "cell_type": "code",
      "metadata": {
        "id": "_OYeDrl8SFoU",
        "colab_type": "code",
        "colab": {}
      },
      "source": [
        "file=file.drop(['ID','Case Number','Block','IUCR',\\\n",
        "          'Beat','District','Ward','Community Area',\\\n",
        "           'FBI Code','X Coordinate','Y Coordinate',\\\n",
        "           'Year','Updated On','Location']\n",
        "          ,axis=1)\n",
        "\n",
        "file.head()"
      ],
      "execution_count": null,
      "outputs": []
    },
    {
      "cell_type": "markdown",
      "metadata": {
        "id": "r8f5N5HPC9s5",
        "colab_type": "text"
      },
      "source": [
        "##1.6 Change type of column 'Date' to python's datetime.\n",
        "The file is not ordered by date, it is ordered by some ID. Due to the fact that we want a time series. We need to sort by datetime."
      ]
    },
    {
      "cell_type": "code",
      "metadata": {
        "id": "BvufU-U2C-TW",
        "colab_type": "code",
        "colab": {}
      },
      "source": [
        "file['Date']=pd.to_datetime(file['Date']) #Dependig on file size, this can take a while.\n",
        "file=file.sort_values(by='Date')"
      ],
      "execution_count": null,
      "outputs": []
    },
    {
      "cell_type": "code",
      "metadata": {
        "id": "JRlaPscFDGyp",
        "colab_type": "code",
        "colab": {}
      },
      "source": [
        "print(file.head())\n",
        "file_path = os.path.join(path,'data','CLEAR.csv') #All further work will be performed on the clean file \"CLEAR.csv\".\n",
        "file.to_csv(file_path,index=False)"
      ],
      "execution_count": null,
      "outputs": []
    }
  ]
}