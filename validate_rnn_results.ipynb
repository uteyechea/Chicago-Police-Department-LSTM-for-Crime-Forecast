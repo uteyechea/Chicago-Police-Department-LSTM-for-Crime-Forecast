{
  "nbformat": 4,
  "nbformat_minor": 0,
  "metadata": {
    "colab": {
      "name": "validate_rnn_results.ipynb",
      "provenance": [],
      "authorship_tag": "ABX9TyP8/LtyfeQeZEqOjCa4N7uP",
      "include_colab_link": true
    },
    "kernelspec": {
      "name": "python3",
      "display_name": "Python 3"
    }
  },
  "cells": [
    {
      "cell_type": "markdown",
      "metadata": {
        "id": "view-in-github",
        "colab_type": "text"
      },
      "source": [
        "<a href=\"https://colab.research.google.com/github/uteyechea/crime-prediction-using-artificial-intelligence/blob/master/validate_rnn_results.ipynb\" target=\"_parent\"><img src=\"https://colab.research.google.com/assets/colab-badge.svg\" alt=\"Open In Colab\"/></a>"
      ]
    },
    {
      "cell_type": "code",
      "metadata": {
        "id": "Ur7YTpBurDaK",
        "colab_type": "code",
        "colab": {
          "base_uri": "https://localhost:8080/",
          "height": 35
        },
        "outputId": "5c08d74f-5a7b-4eb8-a36c-d1a7122f54f7"
      },
      "source": [
        "import os\n",
        "import gc\n",
        "import sys\n",
        "\n",
        "import pandas as pd\n",
        "from scipy import stats\n",
        "\n",
        "from google.colab import drive\n",
        "drive.mount('/content/drive', force_remount=True)\n",
        "\n",
        "path='/content/drive/My Drive/Colab Notebooks/crime_prediction'\n",
        "\n",
        "sys.path.append(path+'/libs')\n",
        "import temporal_correlation as tc\n"
      ],
      "execution_count": 4,
      "outputs": [
        {
          "output_type": "stream",
          "text": [
            "Mounted at /content/drive\n"
          ],
          "name": "stdout"
        }
      ]
    },
    {
      "cell_type": "code",
      "metadata": {
        "id": "4n1qE8JOtO9P",
        "colab_type": "code",
        "colab": {}
      },
      "source": [
        "prediction_file_path=os.path.join(path,'data','prediction','series_sample.txt')\n",
        "prediction_file=pd.read_csv(prediction_file_path,sep=',')"
      ],
      "execution_count": 9,
      "outputs": []
    },
    {
      "cell_type": "code",
      "metadata": {
        "id": "qHIXiSWktfYL",
        "colab_type": "code",
        "colab": {
          "base_uri": "https://localhost:8080/",
          "height": 35
        },
        "outputId": "6261a997-7ed5-43b7-fc3b-a101a91fbf6f"
      },
      "source": [
        "prediction_file.isnull().values.any()"
      ],
      "execution_count": 11,
      "outputs": [
        {
          "output_type": "execute_result",
          "data": {
            "text/plain": [
              "False"
            ]
          },
          "metadata": {
            "tags": []
          },
          "execution_count": 11
        }
      ]
    },
    {
      "cell_type": "code",
      "metadata": {
        "id": "5soP2c2ASdNU",
        "colab_type": "code",
        "colab": {}
      },
      "source": [
        "training_data_path=os.path.join(path,'data','training','theft2.csv')\n",
        "training_file=pd.read_csv(training_data_path,sep=',')"
      ],
      "execution_count": 14,
      "outputs": []
    },
    {
      "cell_type": "code",
      "metadata": {
        "id": "k4LAcDqzTJt7",
        "colab_type": "code",
        "colab": {
          "base_uri": "https://localhost:8080/",
          "height": 424
        },
        "outputId": "45ca2829-52a4-4d84-b72c-115ae8c82a95"
      },
      "source": [
        "training_file"
      ],
      "execution_count": 17,
      "outputs": [
        {
          "output_type": "execute_result",
          "data": {
            "text/html": [
              "<div>\n",
              "<style scoped>\n",
              "    .dataframe tbody tr th:only-of-type {\n",
              "        vertical-align: middle;\n",
              "    }\n",
              "\n",
              "    .dataframe tbody tr th {\n",
              "        vertical-align: top;\n",
              "    }\n",
              "\n",
              "    .dataframe thead th {\n",
              "        text-align: right;\n",
              "    }\n",
              "</style>\n",
              "<table border=\"1\" class=\"dataframe\">\n",
              "  <thead>\n",
              "    <tr style=\"text-align: right;\">\n",
              "      <th></th>\n",
              "      <th>-0.28868455330176296</th>\n",
              "    </tr>\n",
              "  </thead>\n",
              "  <tbody>\n",
              "    <tr>\n",
              "      <th>0</th>\n",
              "      <td>-1.043577</td>\n",
              "    </tr>\n",
              "    <tr>\n",
              "      <th>1</th>\n",
              "      <td>-1.043577</td>\n",
              "    </tr>\n",
              "    <tr>\n",
              "      <th>2</th>\n",
              "      <td>-0.288685</td>\n",
              "    </tr>\n",
              "    <tr>\n",
              "      <th>3</th>\n",
              "      <td>-1.295207</td>\n",
              "    </tr>\n",
              "    <tr>\n",
              "      <th>4</th>\n",
              "      <td>-1.295207</td>\n",
              "    </tr>\n",
              "    <tr>\n",
              "      <th>...</th>\n",
              "      <td>...</td>\n",
              "    </tr>\n",
              "    <tr>\n",
              "      <th>887</th>\n",
              "      <td>0.214577</td>\n",
              "    </tr>\n",
              "    <tr>\n",
              "      <th>888</th>\n",
              "      <td>0.969469</td>\n",
              "    </tr>\n",
              "    <tr>\n",
              "      <th>889</th>\n",
              "      <td>3.234145</td>\n",
              "    </tr>\n",
              "    <tr>\n",
              "      <th>890</th>\n",
              "      <td>0.969469</td>\n",
              "    </tr>\n",
              "    <tr>\n",
              "      <th>891</th>\n",
              "      <td>1.221100</td>\n",
              "    </tr>\n",
              "  </tbody>\n",
              "</table>\n",
              "<p>892 rows × 1 columns</p>\n",
              "</div>"
            ],
            "text/plain": [
              "     -0.28868455330176296\n",
              "0               -1.043577\n",
              "1               -1.043577\n",
              "2               -0.288685\n",
              "3               -1.295207\n",
              "4               -1.295207\n",
              "..                    ...\n",
              "887              0.214577\n",
              "888              0.969469\n",
              "889              3.234145\n",
              "890              0.969469\n",
              "891              1.221100\n",
              "\n",
              "[892 rows x 1 columns]"
            ]
          },
          "metadata": {
            "tags": []
          },
          "execution_count": 17
        }
      ]
    },
    {
      "cell_type": "code",
      "metadata": {
        "id": "ycCRPU6mTPtk",
        "colab_type": "code",
        "colab": {
          "base_uri": "https://localhost:8080/",
          "height": 35
        },
        "outputId": "4216542c-df39-4cb7-bc7a-94fb05849447"
      },
      "source": [
        "type(prediction_file)"
      ],
      "execution_count": 18,
      "outputs": [
        {
          "output_type": "execute_result",
          "data": {
            "text/plain": [
              "pandas.core.frame.DataFrame"
            ]
          },
          "metadata": {
            "tags": []
          },
          "execution_count": 18
        }
      ]
    },
    {
      "cell_type": "code",
      "metadata": {
        "id": "CFP0I7r7TWRs",
        "colab_type": "code",
        "colab": {
          "base_uri": "https://localhost:8080/",
          "height": 35
        },
        "outputId": "5a054522-cceb-4603-db7e-dcdf81f2e099"
      },
      "source": [
        "type(training_file)"
      ],
      "execution_count": 19,
      "outputs": [
        {
          "output_type": "execute_result",
          "data": {
            "text/plain": [
              "pandas.core.frame.DataFrame"
            ]
          },
          "metadata": {
            "tags": []
          },
          "execution_count": 19
        }
      ]
    },
    {
      "cell_type": "code",
      "metadata": {
        "id": "_GESxWl9TcDk",
        "colab_type": "code",
        "colab": {
          "base_uri": "https://localhost:8080/",
          "height": 35
        },
        "outputId": "ea43bd93-4bff-42dc-c9c2-821e08d99c77"
      },
      "source": [
        "prediction_file.shape"
      ],
      "execution_count": 21,
      "outputs": [
        {
          "output_type": "execute_result",
          "data": {
            "text/plain": [
              "(2555, 1)"
            ]
          },
          "metadata": {
            "tags": []
          },
          "execution_count": 21
        }
      ]
    },
    {
      "cell_type": "code",
      "metadata": {
        "id": "UxMHKBN9Tel5",
        "colab_type": "code",
        "colab": {
          "base_uri": "https://localhost:8080/",
          "height": 35
        },
        "outputId": "10b4a478-9e6c-4160-f959-ef59a7fed9bc"
      },
      "source": [
        "training_file.shape"
      ],
      "execution_count": 23,
      "outputs": [
        {
          "output_type": "execute_result",
          "data": {
            "text/plain": [
              "(892, 1)"
            ]
          },
          "metadata": {
            "tags": []
          },
          "execution_count": 23
        }
      ]
    },
    {
      "cell_type": "code",
      "metadata": {
        "id": "8AKaBht8Ti7w",
        "colab_type": "code",
        "colab": {}
      },
      "source": [
        "def series_window(dataframe,end,periods,column):\n",
        "  if type(column)==str:\n",
        "    column=dataframe.columns.get_loc(column)\n",
        "  return dataframe.iloc[end-periods:end,column]\n",
        "\n",
        "def series_correlation(series1,series2):\n",
        "  #assert something?\n",
        "  series1=series1.reset_index(drop=True) #Better find a way to simplify this procedure\n",
        "  series2=series2.reset_index(drop=True) #Better find a way to simplify this procedure\n",
        "  ro=series1.corr(series2) \n",
        "  return ro \n",
        "\n",
        "def correlated_series_timestamp(dataframe,end,periods,column,min_correlation):\n",
        "  timestamps=[]\n",
        "  series2=series_window(dataframe,end,periods,column)\n",
        "  for epoch in reversed(range(2*periods,end)):\n",
        "    series1=series_window(dataframe,epoch-periods,periods,column)\n",
        "    correlation=series_correlation(series1,series2)\n",
        "    if correlation >= min_correlation:\n",
        "      #record datetime value. We will use this datetime value to generate all sequences that will go as input to the RNN\n",
        "      #print(dataframe.index[epoch]) \n",
        "      timestamps.append(dataframe.index[epoch])\n",
        "  return timestamps\n"
      ],
      "execution_count": 28,
      "outputs": []
    },
    {
      "cell_type": "code",
      "metadata": {
        "id": "eWAsenMYU4s1",
        "colab_type": "code",
        "colab": {
          "base_uri": "https://localhost:8080/",
          "height": 35
        },
        "outputId": "55ac8098-8b38-413a-80f0-d47a0910441b"
      },
      "source": [
        "get_correlated_endof_sequence_timestamp(prediction_file,training_file,len(training_file),n=10)"
      ],
      "execution_count": 29,
      "outputs": [
        {
          "output_type": "execute_result",
          "data": {
            "text/plain": [
              "[]"
            ]
          },
          "metadata": {
            "tags": []
          },
          "execution_count": 29
        }
      ]
    },
    {
      "cell_type": "code",
      "metadata": {
        "id": "vcVSJu3WVFth",
        "colab_type": "code",
        "colab": {}
      },
      "source": [
        ""
      ],
      "execution_count": null,
      "outputs": []
    }
  ]
}