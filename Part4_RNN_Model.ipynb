{
  "nbformat": 4,
  "nbformat_minor": 0,
  "metadata": {
    "colab": {
      "name": "Part4_RNN_Model.ipynb",
      "provenance": [],
      "collapsed_sections": [],
      "toc_visible": true,
      "include_colab_link": true
    },
    "kernelspec": {
      "name": "python3",
      "display_name": "Python 3"
    },
    "accelerator": "GPU"
  },
  "cells": [
    {
      "cell_type": "markdown",
      "metadata": {
        "id": "view-in-github",
        "colab_type": "text"
      },
      "source": [
        "<a href=\"https://colab.research.google.com/github/uteyechea/crime-prediction-using-artificial-intelligence/blob/master/Part4_RNN_Model.ipynb\" target=\"_parent\"><img src=\"https://colab.research.google.com/assets/colab-badge.svg\" alt=\"Open In Colab\"/></a>"
      ]
    },
    {
      "cell_type": "markdown",
      "metadata": {
        "colab_type": "text",
        "id": "rsvlBQYCrE4I"
      },
      "source": [
        "# Part 4 Recurrent Neural Net model\n",
        "Define, train and generate crime predictions."
      ]
    },
    {
      "cell_type": "markdown",
      "metadata": {
        "id": "B1g6frEW536I",
        "colab_type": "text"
      },
      "source": [
        "##4.1 Dependencies, mount Google Drive and set system path\n",
        "Import the relevant packages we will use to train the RNN model."
      ]
    },
    {
      "cell_type": "code",
      "metadata": {
        "id": "riVZCVK65QTH",
        "colab_type": "code",
        "colab": {
          "base_uri": "https://localhost:8080/",
          "height": 35
        },
        "outputId": "f26eeee0-6c34-46eb-cbf2-a310cd97393c"
      },
      "source": [
        "# Import Tensorflow 2.0\n",
        "%tensorflow_version 2.x\n",
        "import tensorflow as tf \n",
        "\n",
        "#Mount my Google Drive \n",
        "\n",
        "from google.colab import drive\n",
        "drive.mount('/content/drive', force_remount=True)\n",
        "\n",
        "#Define global path to working directory\n",
        "path='/content/drive/My Drive/Colab Notebooks/crime_prediction'\n",
        "\n",
        "#Update our path to import from \n",
        "import sys\n",
        "sys.path.append('/content/drive/My Drive/Colab Notebooks/crime_prediction/libs/')\n",
        "import util\n",
        "\n",
        "# Import all remaining packages\n",
        "import numpy as np\n",
        "import os\n",
        "import time\n",
        "import functools\n",
        "from IPython import display as ipythondisplay\n",
        "from tqdm import tqdm\n",
        "import regex as re\n",
        "import random\n",
        "\n",
        "# Check that we are using a GPU, if not switch runtime\n",
        "assert len(tf.config.list_physical_devices('GPU')) > 0"
      ],
      "execution_count": 32,
      "outputs": [
        {
          "output_type": "stream",
          "text": [
            "Mounted at /content/drive\n"
          ],
          "name": "stdout"
        }
      ]
    },
    {
      "cell_type": "markdown",
      "metadata": {
        "id": "kiS-9qDy8f-x",
        "colab_type": "text"
      },
      "source": [
        "##4.2 Import training file data\n",
        "\n",
        "Load file contents to memory"
      ]
    },
    {
      "cell_type": "code",
      "metadata": {
        "id": "P7dFnP5q3Jve",
        "colab_type": "code",
        "colab": {
          "base_uri": "https://localhost:8080/",
          "height": 405
        },
        "outputId": "0199070f-431f-4700-9647-e2347ab1ae2e"
      },
      "source": [
        "def load_training_data(file_path):\n",
        "    with open(file_path, \"r\") as f:\n",
        "        text = f.read()\n",
        "    windows = extract_windows(text)\n",
        "    return windows\n",
        "\n",
        "def extract_windows(text):\n",
        "    pattern = '\\n\\n(.*?)\\n\\n'\n",
        "    search_results = re.findall(pattern, text, overlapped=True, flags=re.DOTALL)\n",
        "    windows = [window for window in search_results]\n",
        "    print(\"Found {} autocorrelated windows in text\".format(len(windows)))\n",
        "    return windows\n",
        "\n",
        "file_path=os.path.join(path,'data','training','theft.csv')\n",
        "windows=load_training_data(file_path)\n",
        "\n",
        "# Print one of the songs to inspect it in greater detail!\n",
        "random_window=random.randint(0,len(windows))\n",
        "example_window = windows[random_window]\n",
        "print(\"Example: window {}\".format(random_window))\n",
        "print(example_window)"
      ],
      "execution_count": 2,
      "outputs": [
        {
          "output_type": "stream",
          "text": [
            "Found 39 autocorrelated windows in text\n",
            "Example: window 6\n",
            "0.1176470588235294\n",
            "0.3235294117647059\n",
            "0.1764705882352941\n",
            "0.3235294117647059\n",
            "0.2647058823529412\n",
            "0.3235294117647059\n",
            "0.2352941176470588\n",
            "0.2058823529411765\n",
            "0.3529411764705882\n",
            "0.38235294117647056\n",
            "0.2058823529411765\n",
            "0.2647058823529412\n",
            "0.29411764705882354\n",
            "0.4117647058823529\n",
            "0.29411764705882354\n",
            "0.1764705882352941\n",
            "0.2352941176470588\n",
            "0.1764705882352941\n",
            "0.4117647058823529\n"
          ],
          "name": "stdout"
        }
      ]
    },
    {
      "cell_type": "markdown",
      "metadata": {
        "id": "JbjOw8jD8egI",
        "colab_type": "text"
      },
      "source": [
        "Join all data in a single data memory location, then create a vocabulary of all unique symbols in the data."
      ]
    },
    {
      "cell_type": "code",
      "metadata": {
        "colab_type": "code",
        "id": "IlCgQBRVymwR",
        "colab": {
          "base_uri": "https://localhost:8080/",
          "height": 54
        },
        "outputId": "7689d11a-5995-468a-f9a3-33a73f69aab1"
      },
      "source": [
        "# Join our list of windows into a single data string containing all windows\n",
        "windows_joined='\\n\\n'.join(windows)\n",
        "#print(windows_joined)\n",
        "# Find all unique characters in the joined data string\n",
        "vocabulary = sorted(set(windows_joined))\n",
        "print('There are {} unique characters in the dataset'.format(len(vocabulary)))\n",
        "print(vocabulary)"
      ],
      "execution_count": 4,
      "outputs": [
        {
          "output_type": "stream",
          "text": [
            "There are 12 unique characters in the dataset\n",
            "['\\n', '.', '0', '1', '2', '3', '4', '5', '6', '7', '8', '9']\n"
          ],
          "name": "stdout"
        }
      ]
    },
    {
      "cell_type": "markdown",
      "metadata": {
        "colab_type": "text",
        "id": "rNnrKn_lL-IJ"
      },
      "source": [
        "## 4.3 Process the dataset for the learning task\n",
        "\n",
        "Let's take a step back and consider our prediction task. We're trying to train a RNN model to learn patterns in crime, and then use this model to generate (i.e., predict) the expected crime locations and times.\n",
        "\n",
        "The prediction task is all about given a character, or a sequence of characters, what is the most probable next character? \n",
        "\n",
        "Training the RNN consiste of feeding it an input made of a sequence of characters, so that the model learns to predict the output, i.e. the most likely character at each time step. \n",
        "\n",
        "RNNs maintain an internal state that remember all characters seen up until a given moment thus all history will be taken into account in generating a prediction sequence or character."
      ]
    },
    {
      "cell_type": "markdown",
      "metadata": {
        "colab_type": "text",
        "id": "LFjSVAlWzf-N"
      },
      "source": [
        "### 4.3.1 Vectorize the text\n",
        "\n",
        "In order to make a general AI algortithm, that is one that is able to predict, text, numbers or symbols as in music, it is common practice to map all characters in the training data to a set of integers. Why? I need to learn more to answer this question. \n",
        "https://www.tensorflow.org/tutorials/text/text_generation\n",
        "But i can say that for sure, this mapping allows the RNN to learn the appropiate data format, for example: n columns of numbers or words then a new line, wher n could be anything from a random number to a fixed number. \n",
        "\n",
        "\n",
        "\n",
        "So the usual way to proceed is as follows,\n",
        "we will we'll generate two lookup tables: one that maps characters to numbers, and a second that maps numbers back to characters, like a dictionary in the common sense. "
      ]
    },
    {
      "cell_type": "code",
      "metadata": {
        "colab_type": "code",
        "id": "IalZLbvOzf-F",
        "colab": {}
      },
      "source": [
        "### Define numerical representation of text ###\n",
        "\n",
        "# Create a mapping from character to unique index.\n",
        "# For example, to get the index of the character \"d\", \n",
        "#   we can evaluate `char2idx[\"d\"]`.  \n",
        "char2idx = {u:i for i, u in enumerate(vocabulary)}\n",
        "\n",
        "# Create a mapping from indices to characters. This is\n",
        "#   the inverse of char2idx and allows us to convert back\n",
        "#   from unique index to the character in our vocabulary.\n",
        "idx2char = np.array(vocabulary)"
      ],
      "execution_count": 5,
      "outputs": []
    },
    {
      "cell_type": "markdown",
      "metadata": {
        "colab_type": "text",
        "id": "tZfqhkYCymwX"
      },
      "source": [
        "This gives us an integer representation for each character. Observe that the unique characters (i.e., our vocabulary) in the text are mapped as indices from 0 to `len(unique)`. Let's take a peek at this numerical representation of our dataset:"
      ]
    },
    {
      "cell_type": "code",
      "metadata": {
        "colab_type": "code",
        "id": "FYyNlCNXymwY",
        "colab": {
          "base_uri": "https://localhost:8080/",
          "height": 294
        },
        "outputId": "6b77e959-816e-4fd7-deb6-b86de40c390c"
      },
      "source": [
        "print('{')\n",
        "for char,_ in zip(char2idx, range(len(vocabulary))):\n",
        "    print('  {:4s}: {:3d},'.format(repr(char), char2idx[char]))\n",
        "print('  ...\\n}')"
      ],
      "execution_count": 6,
      "outputs": [
        {
          "output_type": "stream",
          "text": [
            "{\n",
            "  '\\n':   0,\n",
            "  '.' :   1,\n",
            "  '0' :   2,\n",
            "  '1' :   3,\n",
            "  '2' :   4,\n",
            "  '3' :   5,\n",
            "  '4' :   6,\n",
            "  '5' :   7,\n",
            "  '6' :   8,\n",
            "  '7' :   9,\n",
            "  '8' :  10,\n",
            "  '9' :  11,\n",
            "  ...\n",
            "}\n"
          ],
          "name": "stdout"
        }
      ]
    },
    {
      "cell_type": "code",
      "metadata": {
        "id": "g-LnKyu4dczc",
        "colab_type": "code",
        "colab": {
          "base_uri": "https://localhost:8080/",
          "height": 35
        },
        "outputId": "8fb89ef5-f514-4904-d515-3ecf380a6d70"
      },
      "source": [
        "### Vectorize the criminal data string ###\n",
        "def vectorize_string(string):\n",
        "  vectorized_output = np.array([char2idx[char] for char in string])\n",
        "  return vectorized_output\n",
        "\n",
        "vectorized_windows = vectorize_string(windows_joined)\n",
        "print('All autocorrelated crime data windows add up to {} integer numeric characters'.format(len(vectorized_windows)))"
      ],
      "execution_count": 7,
      "outputs": [
        {
          "output_type": "stream",
          "text": [
            "All autocorrelated crime data windows add up to 14010 integer numeric characters\n"
          ],
          "name": "stdout"
        }
      ]
    },
    {
      "cell_type": "markdown",
      "metadata": {
        "id": "IqxpSuZ1w-ub",
        "colab_type": "text"
      },
      "source": [
        "We can also look at how the first part of the text is mapped to an integer representation:"
      ]
    },
    {
      "cell_type": "code",
      "metadata": {
        "colab_type": "code",
        "id": "l1VKcQHcymwb",
        "colab": {
          "base_uri": "https://localhost:8080/",
          "height": 35
        },
        "outputId": "5d08978b-c421-475b-e87a-9d6d938c96eb"
      },
      "source": [
        "print ('{} ---- characters mapped to int ----> {}'.format(repr(windows_joined[:10]), vectorized_windows[:10]))\n",
        "# check that vectorized_songs is a numpy array\n",
        "assert isinstance(vectorized_windows, np.ndarray), \"returned result should be a numpy array\""
      ],
      "execution_count": 8,
      "outputs": [
        {
          "output_type": "stream",
          "text": [
            "'0.38235294' ---- characters mapped to int ----> [ 2  1  5 10  4  5  7  4 11  6]\n"
          ],
          "name": "stdout"
        }
      ]
    },
    {
      "cell_type": "markdown",
      "metadata": {
        "colab_type": "text",
        "id": "hgsVvVxnymwf"
      },
      "source": [
        "### 4.3.2 Create training examples and targets\n",
        "\n",
        "Our next step is to actually divide the text into example sequences that we'll use during training. \n",
        "\n",
        "Each input sequence that we feed into our RNN will contain `seq_length` characters from the text.\n",
        "\n",
        "We'll also need to define a target sequence for each input sequence, which will be used in training the RNN to predict the next character. \n",
        "\n",
        "For each input, the corresponding target will contain the same length of text, except shifted one character to the right.\n",
        "\n",
        "To do this, we'll break the text into chunks of `seq_length+1`. Suppose `seq_length` is 4 and our text is \"Hello\". Then, our input sequence is \"Hell\" and the target sequence is \"ello\".\n",
        "\n",
        "The batch method will then let us convert this stream of character indices to sequences of the desired size."
      ]
    },
    {
      "cell_type": "code",
      "metadata": {
        "colab_type": "code",
        "id": "LF-N8F7BoDRi",
        "colab": {}
      },
      "source": [
        "### Batch definition to create training examples ###\n",
        "\n",
        "def get_batch(vectorized_windows, seq_length, batch_size):\n",
        "  # the length of the vectorized songs string\n",
        "  n = vectorized_windows.shape[0] - 1\n",
        "  # randomly choose the starting indices for the examples in the training batch\n",
        "  idx = np.random.choice(n-seq_length, batch_size)\n",
        "\n",
        "  '''TODO: construct a list of input sequences for the training batch'''\n",
        "  input_batch = [vectorized_windows[i : i+seq_length] for i in idx]\n",
        "  # input_batch = # TODO\n",
        "  '''TODO: construct a list of output sequences for the training batch'''\n",
        "  target_batch = [vectorized_windows[i+1 : i+seq_length+1] for i in idx]\n",
        "  # output_batch = # TODO\n",
        "\n",
        "  # x_batch, y_batch provide the true inputs and targets for network training\n",
        "  x_batch = np.reshape(input_batch, [batch_size, seq_length])\n",
        "  y_batch = np.reshape(target_batch, [batch_size, seq_length])\n",
        "  return x_batch, y_batch"
      ],
      "execution_count": 42,
      "outputs": []
    },
    {
      "cell_type": "markdown",
      "metadata": {
        "colab_type": "text",
        "id": "_33OHL3b84i0"
      },
      "source": [
        "For each of these vectors, each index is processed at a single time step. So, for the input at time step 0, the model receives the index for the first character in the sequence, and tries to predict the index of the next character. At the next timestep, it does the same thing, but the RNN considers the information from the previous step, i.e., its updated state, in addition to the current input.\n",
        "\n",
        "We can make this concrete by taking a look at how this works over the first several characters in our text:"
      ]
    },
    {
      "cell_type": "code",
      "metadata": {
        "colab_type": "code",
        "id": "0eBu9WZG84i0",
        "colab": {
          "base_uri": "https://localhost:8080/",
          "height": 294
        },
        "outputId": "0cd1e28a-5c19-48bc-fc74-c86841f22a8f"
      },
      "source": [
        "x_batch, y_batch = get_batch(vectorized_windows, seq_length=5, batch_size=1)\n",
        "\n",
        "for i, (input_idx, target_idx) in enumerate(zip(np.squeeze(x_batch), np.squeeze(y_batch))):\n",
        "    print(\"Step {:3d}\".format(i))\n",
        "    print(\"  input: {} ({:s})\".format(input_idx, repr(idx2char[input_idx])))\n",
        "    print(\"  expected output: {} ({:s})\".format(target_idx, repr(idx2char[target_idx])))"
      ],
      "execution_count": 12,
      "outputs": [
        {
          "output_type": "stream",
          "text": [
            "Step   0\n",
            "  input: 4 ('2')\n",
            "  expected output: 2 ('0')\n",
            "Step   1\n",
            "  input: 2 ('0')\n",
            "  expected output: 7 ('5')\n",
            "Step   2\n",
            "  input: 7 ('5')\n",
            "  expected output: 10 ('8')\n",
            "Step   3\n",
            "  input: 10 ('8')\n",
            "  expected output: 10 ('8')\n",
            "Step   4\n",
            "  input: 10 ('8')\n",
            "  expected output: 4 ('2')\n"
          ],
          "name": "stdout"
        }
      ]
    },
    {
      "cell_type": "markdown",
      "metadata": {
        "colab_type": "text",
        "id": "r6oUuElIMgVx"
      },
      "source": [
        "## 4.4 The Recurrent Neural Network (RNN) model"
      ]
    },
    {
      "cell_type": "markdown",
      "metadata": {
        "colab_type": "text",
        "id": "m8gPwEjRzf-Z"
      },
      "source": [
        "The RNN model is based off the LSTM architecture, where we use a state vector to maintain information about the temporal relationships between consecutive characters. \n",
        "\n",
        "The final output of the LSTM is then fed into a fully connected [`Dense`](https://www.tensorflow.org/api_docs/python/tf/keras/layers/Dense) layer where we'll output a softmax over each character in the vocabulary, and then sample from this distribution to predict the next character. \n",
        "\n",
        "To define the RNN model we will use the Keras API, specifically, [`tf.keras.Sequential`](https://www.tensorflow.org/api_docs/python/tf/keras/models/Sequential)\n",
        "\n",
        ". L layers are used to define the model, where L is greater than or equal to 3. The three main layers are:\n",
        "\n",
        "* [`tf.keras.layers.Embedding`](https://www.tensorflow.org/api_docs/python/tf/keras/layers/Embedding): This is the input layer, consisting of a trainable lookup table that maps the numbers of each character to a vector with `embedding_dim` dimensions.\n",
        "* [`tf.keras.layers.LSTM`](https://www.tensorflow.org/api_docs/python/tf/keras/layers/LSTM): Our LSTM network, with size `units=rnn_units`. \n",
        "* [`tf.keras.layers.Dense`](https://www.tensorflow.org/api_docs/python/tf/keras/layers/Dense): The output layer, with `vocab_size` outputs.\n",
        "\n",
        "From here we will be upgrading the model with a stacked LSTM architecture. The number of LSTM layers will be a function of performance vs computing power required.\n",
        "\n",
        "\n",
        "<img src=\"https://raw.githubusercontent.com/uteyechea/crime-prediction-using-artificial-intelligence/master/pictures/stacked-lstm-architecture.png\" alt=\"Drawing\"/>"
      ]
    },
    {
      "cell_type": "markdown",
      "metadata": {
        "id": "rlaOqndqBmJo",
        "colab_type": "text"
      },
      "source": [
        "### 4.4.1 Define the RNN type \n",
        "\n",
        "Here we will define the type of RNN. As  discussed before the type will be based on the LSTM architecture, the number of times we use this function will be equivalent to the number of LSTM layers in our RNN model."
      ]
    },
    {
      "cell_type": "code",
      "metadata": {
        "id": "8DsWzojvkbc7",
        "colab_type": "code",
        "colab": {}
      },
      "source": [
        "def LSTM(rnn_units): \n",
        "  return tf.keras.layers.LSTM(\n",
        "    rnn_units, \n",
        "    return_sequences=True, \n",
        "    recurrent_initializer='glorot_uniform',\n",
        "    recurrent_activation='sigmoid',\n",
        "    stateful=True,\n",
        "  )"
      ],
      "execution_count": 13,
      "outputs": []
    },
    {
      "cell_type": "markdown",
      "metadata": {
        "id": "IbWU4dMJmMvq",
        "colab_type": "text"
      },
      "source": [
        "From https://www.tensorflow.org/tutorials/text/text_generation we define the model using the `build_model` function."
      ]
    },
    {
      "cell_type": "code",
      "metadata": {
        "colab_type": "code",
        "id": "MtCrdfzEI2N0",
        "colab": {}
      },
      "source": [
        "### Defining the RNN Model ###\n",
        "\n",
        "'''TODO: Add LSTM and Dense layers to define the RNN model using the Sequential API.'''\n",
        "def build_model(vocabulary_size, embedding_dim, rnn_units, batch_size):\n",
        "  model = tf.keras.Sequential([\n",
        "    # Layer 1: Embedding layer to transform indices into dense vectors \n",
        "    #   of a fixed embedding size\n",
        "    tf.keras.layers.Embedding(vocabulary_size, embedding_dim, batch_input_shape=[batch_size, None]),\n",
        "    # Layer 2-5: LSTM with `rnn_units` number of units. \n",
        "    LSTM(rnn_units), \n",
        "    LSTM(rnn_units), \n",
        "    LSTM(rnn_units), \n",
        "    # Layer 3: Dense (fully-connected) layer that transforms the LSTM output\n",
        "    #   into the vocabulary size. \n",
        "    tf.keras.layers.Dense(vocabulary_size)\n",
        "  ])\n",
        "\n",
        "  return model\n",
        "\n",
        "# Build a simple model with default hyperparameters. You will get the \n",
        "#   chance to change these later.\n",
        "model = build_model(len(vocabulary), embedding_dim=256, rnn_units=1024, batch_size=32)"
      ],
      "execution_count": 14,
      "outputs": []
    },
    {
      "cell_type": "markdown",
      "metadata": {
        "colab_type": "text",
        "id": "-ubPo0_9Prjb"
      },
      "source": [
        "### 4.4.2 Review RNN model design\n",
        "\n",
        "We can use the `Model.summary` function to print out a summary of our model's internal workings. Here we can check the layers in the model, the shape of the output of each of the layers, the batch size, etc."
      ]
    },
    {
      "cell_type": "code",
      "metadata": {
        "id": "RwG1DD6rDrRM",
        "colab_type": "code",
        "colab": {
          "base_uri": "https://localhost:8080/",
          "height": 350
        },
        "outputId": "c089a466-f09a-4b31-8166-2648eae04b7e"
      },
      "source": [
        "model.summary()"
      ],
      "execution_count": 15,
      "outputs": [
        {
          "output_type": "stream",
          "text": [
            "Model: \"sequential\"\n",
            "_________________________________________________________________\n",
            "Layer (type)                 Output Shape              Param #   \n",
            "=================================================================\n",
            "embedding (Embedding)        (32, None, 256)           3072      \n",
            "_________________________________________________________________\n",
            "lstm (LSTM)                  (32, None, 1024)          5246976   \n",
            "_________________________________________________________________\n",
            "lstm_1 (LSTM)                (32, None, 1024)          8392704   \n",
            "_________________________________________________________________\n",
            "lstm_2 (LSTM)                (32, None, 1024)          8392704   \n",
            "_________________________________________________________________\n",
            "dense (Dense)                (32, None, 12)            12300     \n",
            "=================================================================\n",
            "Total params: 22,047,756\n",
            "Trainable params: 22,047,756\n",
            "Non-trainable params: 0\n",
            "_________________________________________________________________\n"
          ],
          "name": "stdout"
        }
      ]
    },
    {
      "cell_type": "markdown",
      "metadata": {
        "id": "8xeDn5nZD0LX",
        "colab_type": "text"
      },
      "source": [
        "We can also quickly check the dimensionality of our output, using a sequence length of 100. Note that the model can be run on inputs of any length."
      ]
    },
    {
      "cell_type": "code",
      "metadata": {
        "colab_type": "code",
        "id": "C-_70kKAPrPU",
        "colab": {
          "base_uri": "https://localhost:8080/",
          "height": 54
        },
        "outputId": "d75af175-dfaa-4c5c-9d5b-0b83464dc83a"
      },
      "source": [
        "x, y = get_batch(vectorized_windows, seq_length=100, batch_size=32)\n",
        "pred = model(x)\n",
        "print(\"Input shape:      \", x.shape, \" # (batch_size, sequence_length)\")\n",
        "print(\"Prediction shape: \", pred.shape, \"# (batch_size, sequence_length, vocab_size)\")"
      ],
      "execution_count": 16,
      "outputs": [
        {
          "output_type": "stream",
          "text": [
            "Input shape:       (32, 100)  # (batch_size, sequence_length)\n",
            "Prediction shape:  (32, 100, 12) # (batch_size, sequence_length, vocab_size)\n"
          ],
          "name": "stdout"
        }
      ]
    },
    {
      "cell_type": "markdown",
      "metadata": {
        "id": "mT1HvFVUGpoE",
        "colab_type": "text"
      },
      "source": [
        "### **4.4.3 Predictions from the untrained model\n",
        "\n",
        "Let's take a look at what our untrained model is predicting.\n",
        "\n",
        "To get actual predictions from the model, we sample from the output distribution, which is defined by a `softmax` over our character vocabulary. This will give us actual character indices. This means we are using a [categorical distribution](https://en.wikipedia.org/wiki/Categorical_distribution) to sample over the example prediction. This gives a prediction of the next character (specifically its index) at each timestep.\n",
        "\n",
        "Note here that we sample from this probability distribution, as opposed to simply taking the `argmax`, which can cause the model to get stuck in a loop.\n",
        "\n",
        "Let's try this sampling out for the first example in the batch."
      ]
    },
    {
      "cell_type": "code",
      "metadata": {
        "colab_type": "code",
        "id": "4V4MfFg0RQJg",
        "colab": {
          "base_uri": "https://localhost:8080/",
          "height": 128
        },
        "outputId": "7d01f426-e4c8-45c2-cfbd-771a61d8cc80"
      },
      "source": [
        "sampled_indices = tf.random.categorical(pred[0], num_samples=1)\n",
        "sampled_indices = tf.squeeze(sampled_indices,axis=-1).numpy()\n",
        "sampled_indices"
      ],
      "execution_count": 17,
      "outputs": [
        {
          "output_type": "execute_result",
          "data": {
            "text/plain": [
              "array([ 2,  5,  0,  1,  1, 11, 11,  8,  0,  6,  8,  1,  3,  8,  1, 10, 11,\n",
              "        6,  0,  6,  3,  5,  2,  1,  2,  8,  3,  8,  1, 11,  4,  7,  9,  6,\n",
              "        2,  2,  6,  9,  2,  3,  5,  8,  4,  1,  1,  1,  7,  0,  1, 10,  4,\n",
              "       10,  8, 10, 10,  3, 10,  5,  8,  0,  6,  7,  2,  4,  2,  3,  5,  5,\n",
              "        3,  2,  7,  0,  2, 10,  5,  2,  0,  2,  7,  3, 11,  4,  7,  9,  1,\n",
              "       11,  9,  2, 10,  8, 11,  4,  4, 10,  6,  8, 11,  4,  6,  9])"
            ]
          },
          "metadata": {
            "tags": []
          },
          "execution_count": 17
        }
      ]
    },
    {
      "cell_type": "markdown",
      "metadata": {
        "colab_type": "text",
        "id": "LfLtsP3mUhCG"
      },
      "source": [
        "We can now decode these to see the text predicted by the untrained model:"
      ]
    },
    {
      "cell_type": "code",
      "metadata": {
        "colab_type": "code",
        "id": "xWcFwPwLSo05",
        "colab": {
          "base_uri": "https://localhost:8080/",
          "height": 129
        },
        "outputId": "1c660909-9781-4130-9b99-7911fc12d622"
      },
      "source": [
        "print(\"Input: \\n\", repr(\"\".join(idx2char[x[0]])))\n",
        "print()\n",
        "print(\"Next Char Predictions: \\n\", repr(\"\".join(idx2char[sampled_indices])))"
      ],
      "execution_count": 18,
      "outputs": [
        {
          "output_type": "stream",
          "text": [
            "Input: \n",
            " '647\\n0.7058823529411764\\n0.5882352941176471\\n0.4411764705882353\\n0.2647058823529412\\n0.14705882352941174\\n'\n",
            "\n",
            "Next Char Predictions: \n",
            " '03\\n..996\\n46.16.894\\n4130.0616.92574004701362...5\\n.8286881836\\n45020133105\\n0830\\n0519257.970869228469247'\n"
          ],
          "name": "stdout"
        }
      ]
    },
    {
      "cell_type": "markdown",
      "metadata": {
        "id": "HEHHcRasIDm9",
        "colab_type": "text"
      },
      "source": [
        "As you can see, the text predicted by the untrained model is pretty nonsensical! How can we do better? We can train the network!"
      ]
    },
    {
      "cell_type": "markdown",
      "metadata": {
        "colab_type": "text",
        "id": "LJL0Q0YPY6Ee"
      },
      "source": [
        "## 4.5 Training the model: loss and training operations\n",
        "\n",
        "At this point, we can think of our next character prediction problem as a standard classification problem. Given the previous state of the RNN, as well as the input at a given time step, we want to predict the class of the next character. \n",
        "\n",
        "To train our model on this classification task, we can use a form of the `crossentropy` loss (negative log likelihood loss). Specifically, we will use the [`sparse_categorical_crossentropy`](https://www.tensorflow.org/api_docs/python/tf/keras/backend/sparse_categorical_crossentropy) loss, as it utilizes integer targets for categorical classification tasks. We will want to compute the loss using the true targets -- the `labels` -- and the predicted targets -- the `logits`.\n",
        "\n",
        "Let's first compute the loss using our example predictions from the untrained model, i.e. the loss from a random target."
      ]
    },
    {
      "cell_type": "code",
      "metadata": {
        "colab_type": "code",
        "id": "4HrXTACTdzY-",
        "colab": {
          "base_uri": "https://localhost:8080/",
          "height": 54
        },
        "outputId": "aef3ce74-158b-4805-918e-8d4cbb4f1ad4"
      },
      "source": [
        "### Defining the loss function ###\n",
        "\n",
        "'''define the loss function to compute and return the loss between\n",
        "    the true labels and predictions (logits). Set the argument from_logits=True.'''\n",
        "def compute_loss(labels, logits):\n",
        "  loss = tf.keras.losses.sparse_categorical_crossentropy(labels, logits, from_logits=True)\n",
        "  \n",
        "  return loss\n",
        "\n",
        "'''compute the loss using the true next characters from the example batch \n",
        "    and the predictions from the untrained model several cells above'''\n",
        "example_batch_loss = compute_loss(y, pred)\n",
        "\n",
        "print(\"Prediction shape: \", pred.shape, \" # (batch_size, sequence_length, vocab_size)\") \n",
        "print(\"scalar_loss:      \", example_batch_loss.numpy().mean())"
      ],
      "execution_count": 20,
      "outputs": [
        {
          "output_type": "stream",
          "text": [
            "Prediction shape:  (32, 100, 12)  # (batch_size, sequence_length, vocab_size)\n",
            "scalar_loss:       2.4850488\n"
          ],
          "name": "stdout"
        }
      ]
    },
    {
      "cell_type": "markdown",
      "metadata": {
        "id": "0Seh7e6eRqd7",
        "colab_type": "text"
      },
      "source": [
        "Let's start by defining some hyperparameters for training the model. Given our hardware some reasonable values for some of the parameters are given below as ranges."
      ]
    },
    {
      "cell_type": "code",
      "metadata": {
        "id": "JQWUUhKotkAY",
        "colab_type": "code",
        "colab": {}
      },
      "source": [
        "### Hyperparameter setting and optimization ###\n",
        "\n",
        "# Optimization parameters:\n",
        "num_training_iterations = 2000  # Increase this to train longer\n",
        "batch_size = 32  # Experiment between 1 and 64\n",
        "seq_length = 256  # Experiment between 50 and 500\n",
        "learning_rate = 1e-4  # Experiment between 1e-5 and 1e-1\n",
        "\n",
        "# Model parameters: \n",
        "vocabulary_size = len(vocabulary)\n",
        "embedding_dim = 256 \n",
        "rnn_units = 1028  # Experiment between 1 and 2048\n",
        "\n",
        "# Checkpoint location and callback function: \n",
        "checkpoint_dir = os.path.join(path,'./training_checkpoints')\n",
        "checkpoint_prefix = os.path.join(checkpoint_dir, \"my_ckpt\")\n",
        "\n",
        "checkpoint_callback=tf.keras.callbacks.ModelCheckpoint(\n",
        "    filepath=checkpoint_prefix,\n",
        "    save_weights_only=True)\n"
      ],
      "execution_count": 24,
      "outputs": []
    },
    {
      "cell_type": "code",
      "metadata": {
        "id": "jMYNf0h40Yx9",
        "colab_type": "code",
        "colab": {
          "base_uri": "https://localhost:8080/",
          "height": 36
        },
        "outputId": "06282cfb-a96d-4051-fc79-dad2f24d92b5"
      },
      "source": [
        "checkpoint_dir"
      ],
      "execution_count": 25,
      "outputs": [
        {
          "output_type": "execute_result",
          "data": {
            "application/vnd.google.colaboratory.intrinsic+json": {
              "type": "string"
            },
            "text/plain": [
              "'/content/drive/My Drive/Colab Notebooks/crime_prediction/./training_checkpoints'"
            ]
          },
          "metadata": {
            "tags": []
          },
          "execution_count": 25
        }
      ]
    },
    {
      "cell_type": "markdown",
      "metadata": {
        "id": "5cu11p1MKYZd",
        "colab_type": "text"
      },
      "source": [
        "Now, we are ready to define our training operation -- the optimizer and duration of training -- and use this function to train the model. You will experiment with the choice of optimizer and the duration for which you train your models, and see how these changes affect the network's output. Some optimizers you may like to try are [`Adam`](https://www.tensorflow.org/api_docs/python/tf/keras/optimizers/Adam?version=stable) and [`Adagrad`](https://www.tensorflow.org/api_docs/python/tf/keras/optimizers/Adagrad?version=stable).\n",
        "\n",
        "First, we will instantiate a new model and an optimizer. Then, we will use the [`tf.GradientTape`](https://www.tensorflow.org/api_docs/python/tf/GradientTape) method to perform the backpropagation operations. \n",
        "\n",
        "We will also generate a print-out of the model's progress through training, which will help us easily visualize whether or not we are minimizing the loss."
      ]
    },
    {
      "cell_type": "code",
      "metadata": {
        "colab_type": "code",
        "id": "F31vzJ_u66cb",
        "colab": {
          "base_uri": "https://localhost:8080/",
          "height": 559
        },
        "outputId": "1e9c3a57-90b0-4430-e884-e83ecfa4a354"
      },
      "source": [
        "### Define optimizer and training operation ###\n",
        "\n",
        "'''instantiate a new model for training using the `build_model`\n",
        "  function and the hyperparameters created above.'''\n",
        "model = build_model(vocabulary_size, embedding_dim, rnn_units, batch_size)\n",
        "# model = build_model('''TODO: arguments''')\n",
        "\n",
        "'''instantiate an optimizer with its learning rate.\n",
        "  Checkout the tensorflow website for a list of supported optimizers.\n",
        "  https://www.tensorflow.org/api_docs/python/tf/keras/optimizers/\n",
        "  Try using the Adam optimizer to start.'''\n",
        "optimizer = tf.keras.optimizers.Adam(learning_rate)\n",
        "# optimizer = # TODO\n",
        "\n",
        "@tf.function\n",
        "def train_step(x, y): \n",
        "  # Use tf.GradientTape()\n",
        "  with tf.GradientTape() as tape:\n",
        "  \n",
        "    '''feed the current input into the model and generate predictions'''\n",
        "    y_hat = model(x) # TODO\n",
        "    # y_hat = model('''TODO''')\n",
        "  \n",
        "    '''compute the loss!'''\n",
        "    loss = compute_loss(y, y_hat) # TODO\n",
        "    # loss = compute_loss('''TODO''', '''TODO''')\n",
        "    '''compute the accuracy!'''\n",
        "    #accuracy=keras.metrics.accuracy(y, y_hat)\n",
        "\n",
        "  # Now, compute the gradients \n",
        "  '''complete the function call for gradient computation. \n",
        "      Remember that we want the gradient of the loss with respect all \n",
        "      of the model parameters. \n",
        "      HINT: use `model.trainable_variables` to get a list of all model\n",
        "      parameters.'''\n",
        "  grads = tape.gradient(loss, model.trainable_variables) # TODO\n",
        "  # grads = tape.gradient('''TODO''', '''TODO''')\n",
        "  \n",
        "  # Apply the gradients to the optimizer so it can update the model accordingly\n",
        "  optimizer.apply_gradients(zip(grads, model.trainable_variables))\n",
        "  return loss\n",
        "\n",
        "##################\n",
        "# Begin training!#\n",
        "##################\n",
        "\n",
        "history = []\n",
        "plotter = util.PeriodicPlotter(sec=2, xlabel='Iterations', ylabel='Loss')\n",
        "if hasattr(tqdm, '_instances'): tqdm._instances.clear() # clear if it exists\n",
        "\n",
        "for iter in tqdm(range(num_training_iterations)):\n",
        "\n",
        "  # Grab a batch and propagate it through the network\n",
        "  x_batch, y_batch = get_batch(vectorized_windows, seq_length, batch_size)\n",
        "  loss = train_step(x_batch, y_batch)\n",
        "\n",
        "  # Update the progress bar\n",
        "  history.append(loss.numpy().mean())\n",
        "  plotter.plot(history)\n",
        "\n",
        "  # Update the model with the changed weights!\n",
        "  if iter % 100 == 0:     \n",
        "    model.save_weights(checkpoint_prefix)\n",
        "    \n",
        "# Save the trained model and the weights\n",
        "model.save_weights(checkpoint_prefix)\n"
      ],
      "execution_count": 34,
      "outputs": [
        {
          "output_type": "display_data",
          "data": {
            "image/png": "[encoded data removed]",
            "text/plain": [
              "<Figure size 432x288 with 1 Axes>"
            ]
          },
          "metadata": {
            "tags": []
          }
        },
        {
          "output_type": "stream",
          "text": [
            "100%|██████████| 2000/2000 [37:24<00:00,  1.12s/it]\n"
          ],
          "name": "stderr"
        },
        {
          "output_type": "display_data",
          "data": {
            "image/png": "[encoded data removed]",
            "text/plain": [
              "<Figure size 432x288 with 1 Axes>"
            ]
          },
          "metadata": {
            "tags": [],
            "needs_background": "light"
          }
        }
      ]
    },
    {
      "cell_type": "markdown",
      "metadata": {
        "colab_type": "text",
        "id": "kKkD5M6eoSiN"
      },
      "source": [
        "## 4.6 Generate crime forecasted sequence\n",
        "\n",
        "When generating future crime sequences, we'll have to feed the model some sort of seed to get it started (because it can't predict anything without something to start with!).\n",
        "\n",
        "Once we have a generated seed, we can then iteratively predict each successive character using our trained RNN. \n",
        "\n",
        "More specifically, recall that our RNN outputs a `softmax` over possible successive characters. For inference, we iteratively sample from these distributions, and then use our samples to encode a generated crime sequence in a time series format or whatever the format of your training data."
      ]
    },
    {
      "cell_type": "markdown",
      "metadata": {
        "colab_type": "text",
        "id": "JIPcXllKjkdr"
      },
      "source": [
        "### 4.6.1 Restore the latest checkpoint\n",
        "\n",
        "To keep this inference step simple, we will use a batch size of 1. Because of how the RNN state is passed from timestep to timestep, the model will only be able to accept a fixed batch size once it is built. \n",
        "\n",
        "To run the model with a different `batch_size`, we'll need to rebuild the model and restore the weights from the latest checkpoint, i.e., the weights after the last checkpoint during training:"
      ]
    },
    {
      "cell_type": "code",
      "metadata": {
        "colab_type": "code",
        "id": "LycQ-ot_jjyu",
        "colab": {
          "base_uri": "https://localhost:8080/",
          "height": 350
        },
        "outputId": "0cdbe1fb-267c-4648-b991-eb699a0f4acf"
      },
      "source": [
        "'''Rebuild the model using a batch_size=1'''\n",
        "model = build_model(vocabulary_size, embedding_dim, rnn_units, batch_size=1)\n",
        "\n",
        "# Restore the model weights for the last checkpoint after training\n",
        "model.load_weights(tf.train.latest_checkpoint(checkpoint_dir))\n",
        "model.build(tf.TensorShape([1, None]))\n",
        "\n",
        "model.summary()"
      ],
      "execution_count": 35,
      "outputs": [
        {
          "output_type": "stream",
          "text": [
            "Model: \"sequential_7\"\n",
            "_________________________________________________________________\n",
            "Layer (type)                 Output Shape              Param #   \n",
            "=================================================================\n",
            "embedding_7 (Embedding)      (1, None, 256)            3072      \n",
            "_________________________________________________________________\n",
            "lstm_21 (LSTM)               (1, None, 1028)           5283920   \n",
            "_________________________________________________________________\n",
            "lstm_22 (LSTM)               (1, None, 1028)           8458384   \n",
            "_________________________________________________________________\n",
            "lstm_23 (LSTM)               (1, None, 1028)           8458384   \n",
            "_________________________________________________________________\n",
            "dense_7 (Dense)              (1, None, 12)             12348     \n",
            "=================================================================\n",
            "Total params: 22,216,108\n",
            "Trainable params: 22,216,108\n",
            "Non-trainable params: 0\n",
            "_________________________________________________________________\n"
          ],
          "name": "stdout"
        }
      ]
    },
    {
      "cell_type": "markdown",
      "metadata": {
        "id": "I9b4V2C8N62l",
        "colab_type": "text"
      },
      "source": [
        "Notice that we have fed in a fixed `batch_size` of 1 for inference."
      ]
    },
    {
      "cell_type": "markdown",
      "metadata": {
        "colab_type": "text",
        "id": "DjGz1tDkzf-u"
      },
      "source": [
        "### 4.6.2 The prediction procedure or loop\n",
        "\n",
        "Now, we're ready to write the code to generate predictions:\n",
        "\n",
        "* Initialize a \"seed\" start string and the RNN state, and set the number of characters we want to generate.\n",
        "\n",
        "* Use the start string and the RNN state to obtain the probability distribution over the next predicted character.\n",
        "\n",
        "* Sample from multinomial distribution to calculate the index of the predicted character. This predicted character is then used as the next input to the model.\n",
        "\n",
        "* At each time step, the updated RNN state is fed back into the model, so that it now has more context in making the next prediction. After predicting the next character, the updated RNN states are again fed back into the model, which is how it learns sequence dependencies in the data, as it gets more information from the previous predictions.\n",
        "\n",
        "![LSTM inference](https://raw.githubusercontent.com/aamini/introtodeeplearning/2019/lab1/img/lstm_inference.png)\n",
        "\n",
        "\n",
        "\n",
        "\n",
        "It Starts by choosing a start string, initializing the RNN state and setting the number of characters to generate.\n",
        "\n",
        "Get the prediction distribution of the next character using the start string and the RNN state.\n",
        "\n",
        "Then, use a categorical distribution to calculate the index of the predicted character. Use this predicted character as our next input to the model.\n",
        "\n",
        "The RNN state returned by the model is fed back into the model so that it now has more context, instead than only one character. After predicting the next character, the modified RNN states are again fed back into the model, which is how it learns as it gets more context from the previously predicted characters.\n"
      ]
    },
    {
      "cell_type": "code",
      "metadata": {
        "colab_type": "code",
        "id": "WvuwZBX5Ogfd",
        "colab": {}
      },
      "source": [
        "def generate_text(model, start_string, generation_length=1000):\n",
        "  # Evaluation step (generating forecast using the trained RNN model)\n",
        "\n",
        "  '''convert the start string to numbers (vectorize)'''\n",
        "  input_eval = [char2idx[s] for s in start_string] \n",
        "  input_eval = tf.expand_dims(input_eval, 0)\n",
        "\n",
        "  # Empty string to store our results\n",
        "  text_generated = []\n",
        "\n",
        "  # Here batch size == 1\n",
        "  model.reset_states()\n",
        "  tqdm._instances.clear()\n",
        "\n",
        "  for i in tqdm(range(generation_length)):\n",
        "      #evaluate the inputs and generate the next character predictions\n",
        "      predictions = model(input_eval)\n",
        "\n",
        "      # Remove the batch dimension\n",
        "      predictions = tf.squeeze(predictions, 0)\n",
        "      \n",
        "      #Use a multinomial distribution to sample\n",
        "      predicted_id = tf.random.categorical(predictions, num_samples=1)[-1,0].numpy()\n",
        "\n",
        "      # Pass the prediction along with the previous hidden state\n",
        "      #   as the next inputs to the model\n",
        "      input_eval = tf.expand_dims([predicted_id], 0)\n",
        "      \n",
        "      #Add the predicted character to the generated text\n",
        "      #consider what format the prediction is in vs. the output\n",
        "      text_generated.append(idx2char[predicted_id])\n",
        "    \n",
        "  return (start_string + ''.join(text_generated))"
      ],
      "execution_count": 36,
      "outputs": []
    },
    {
      "cell_type": "code",
      "metadata": {
        "colab_type": "code",
        "id": "ktovv0RFhrkn",
        "colab": {
          "base_uri": "https://localhost:8080/",
          "height": 35
        },
        "outputId": "92879a10-6615-48ce-8bdb-6dd20e90b981"
      },
      "source": [
        "'''Use the model and the function defined above to generate a sequence in the input\n",
        " format text of length 1000!\n",
        "'''\n",
        "try:\n",
        "  generated_text = generate_text(model, start_string=\"\\n\", generation_length=10000) \n",
        "except:\n",
        "  print('Some error ocurred')  "
      ],
      "execution_count": 37,
      "outputs": [
        {
          "output_type": "stream",
          "text": [
            "100%|██████████| 10000/10000 [02:12<00:00, 75.20it/s]\n"
          ],
          "name": "stderr"
        }
      ]
    },
    {
      "cell_type": "markdown",
      "metadata": {
        "colab_type": "text",
        "id": "AM2Uma_-yVIq"
      },
      "source": [
        "### 4.6.3 Save predicted crime sequences.\n"
      ]
    },
    {
      "cell_type": "code",
      "metadata": {
        "id": "BFJE55ZjG8es",
        "colab_type": "code",
        "colab": {
          "base_uri": "https://localhost:8080/",
          "height": 1000
        },
        "outputId": "afae7c55-236f-4da8-f3b8-72e10ad72ddd"
      },
      "source": [
        "print(generated_text)"
      ],
      "execution_count": 39,
      "outputs": [
        {
          "output_type": "stream",
          "text": [
            "\n",
            "2\n",
            "417705291765\n",
            "91176470588\n",
            "\n",
            "0.3235294117647059\n",
            "0.3529411764705882\n",
            "0.1764705882352941\n",
            "0.35294111764705882\n",
            "0.3529411764705882\n",
            "0.4411764705882353\n",
            "0.3529411764705882\n",
            "0.0.1176470588235294\n",
            "0.23529411764\n",
            "058823529\n",
            "0.3529411764705882\n",
            "0.05882352941176471\n",
            "0.14705882352941174\n",
            "0.38235294117647056\n",
            "0.38235294117647056\n",
            "0.5588235294117647\n",
            "0.029411764705882356\n",
            "0.1176470588235294\n",
            "0.3235294117647059\n",
            "0.1764705882352941\n",
            "0.3235294117647059\n",
            "0.08823529411764705\n",
            "0.05882352941176471\n",
            "0.08823529411764705\n",
            "0.2352941176470588\n",
            "0.2352941176470588\n",
            "0.14705882352941174\n",
            "0.3529411764705882\n",
            "0.4117647058823529\n",
            "0.6176470588235294\n",
            "0.14705882352941174\n",
            "\n",
            "0.14705882352941174\n",
            "0.4117647058823529\n",
            "0.2352941176470588\n",
            "0.29411764705882354\n",
            "0.2647058823529412\n",
            "0.3235294117647059\n",
            "0.2058823529411765\n",
            "0.2647058823529412\n",
            "0.3529411764705882\n",
            "0.2647058823529412\n",
            "0.08823529411764705\n",
            "0.2058823529411765\n",
            "0.2352941176470588\n",
            "052352941705882\n",
            "0.2647058823529412\n",
            "0.3529411764705882\n",
            "0.4117647058823529\n",
            "0.1764705882352941\n",
            "0.382352941176470588\n",
            "0.3529411764705882\n",
            "0.4411764705882353\n",
            "0.3529411764705882\n",
            "0.05882352941176471\n",
            "0.14705882352941174\n",
            "0.38235294117647056\n",
            "0.38235294117647056\n",
            "0.4117647058823529\n",
            "0.4117647058823529\n",
            "0.38235294117647056\n",
            "0.4705882352941176\n",
            "0.1764705882352941\n",
            "\n",
            "0.14705882352941174\n",
            "0.3529411764705882\n",
            "0.29411764705882354\n",
            "0.2352941176470588\n",
            "0.29411764705882354\n",
            "0.38235294117647056\n",
            "0.3235294117647059\n",
            "0.2352941176470588\n",
            "0.38235294117647056\n",
            "0.264705882352940888\n",
            "0.2058823529411765\n",
            "0.2058823529411765\n",
            "0.38235294117647056\n",
            "0.3529411764705882\n",
            "0.29411764705882354\n",
            "0.4411764705882353\n",
            "0.4117647058823529\n",
            "\n",
            "0.411764705882353\n",
            "0.29411764705882354\n",
            "0.2058823529411765\n",
            "0.1764705882352941\n",
            "0.3529411764705882\n",
            "0.4117647058823529\n",
            "0.1176470588235294\n",
            "0.3235294117647059\n",
            "0.1176470588235294\n",
            "0.05882352941176471\n",
            "0.2647058823529412\n",
            "0.3235294117647059\n",
            "0.08823529411764705\n",
            "0.05882352941176471\n",
            "0.0.0.4411764705882356\n",
            "0.5\n",
            "0.2647058823529412\n",
            "0.3235294117647059\n",
            "0.14705882352941174\n",
            "\n",
            "0.2647058823529412\n",
            "0.4117647058823529\n",
            "0.3235294117647059\n",
            "0.5294117647058824\n",
            "0.2058823529411765\n",
            "0.5294117647058824\n",
            "0.4705882358529411764\n",
            "0.5\n",
            "0.2647058823529412\n",
            "0.38235294117647056\n",
            "0.2647058823529412\n",
            "0.6470588235294118\n",
            "0.29411764705882354\n",
            "0.6176470588235294\n",
            "0.5\n",
            "\n",
            "0.2352941176470588\n",
            "0.4705882352941176\n",
            "0.2352941176470588\n",
            "0.3235294117647059\n",
            "0.3235294117647059\n",
            "0.176470588235294\n",
            "0.14705882352941174\n",
            "0.29411764705882354\n",
            "0.3529411764705882\n",
            "0.5882352941176471\n",
            "0.5588235294117647\n",
            "0.705882352941176\n",
            "0.58823529411764705\n",
            "0.3235294117647059\n",
            "0.4117647058823529\n",
            "0.1764705882352941\n",
            "\n",
            "0.1764705882352941\n",
            "0.294117647058823.4\n",
            "0.2058823529411765088\n",
            "0.1176470588235294\n",
            "0.29411764705882354\n",
            "0.2352941176470588\n",
            "0.29411764705882354\n",
            "0.38235294117647056\n",
            "0.3235294117647059\n",
            "0.29411764705882354\n",
            "0.14705882352941174\n",
            "0.29411764705882354\n",
            "0.2352941176470588\n",
            "0.20882352941176471\n",
            "0.6470588235294118\n",
            "0.38235294117647056\n",
            "0.1764705882352941\n",
            "0.2352941176470588\n",
            "0.3529411764705882\n",
            "0.4117647058823529\n",
            "0.5588235294117647\n",
            "\n",
            "0.29411764705882354\n",
            "\n",
            "0.05882352941176471\n",
            "0.38235294117647056\n",
            "0.2352941176470588\n",
            "0.38235294117647056\n",
            "0.2647058823529412\n",
            "0.3529411764705882\n",
            "0.1764705882352941\n",
            "0.67\n",
            "0.2647058823529412\n",
            "0.3529411764705882\n",
            "0.4117647058823529\n",
            "0.3529411764705882\n",
            "0.29411764705882354\n",
            "0.2058823529411765\n",
            "0.14705882352941174\n",
            "0.29411764705882354\n",
            "0.3235294117647059\n",
            "0.3235294117647059\n",
            "0.2647058823529412\n",
            "0.3235294117647059\n",
            "0.4411764705882353\n",
            "0.2647058823529412\n",
            "0.3529411764705882\n",
            "0.4117647058823529\n",
            "0.2647058823529412\n",
            "0.4411764705882353\n",
            "0.14705882352941174\n",
            "0.3235294117647059\n",
            "0.14705882352941174\n",
            "0.1176470588235294\n",
            "\n",
            "0.05882352941176471\n",
            "0.2058823529411765\n",
            "0.08823529411764705\n",
            "0.1176470588235294\n",
            "0.1764705882352941\n",
            "0.2352941176470588\n",
            "0.1176470588235294\n",
            "0.1176470588235294\n",
            "0.1764705882352941\n",
            "0.1764705882352941\n",
            "0.1176470588235294\n",
            "0.2352941176470588\n",
            "0.4117647058823529\n",
            "0.7647058823529411\n",
            "0.5\n",
            "0.3235294117647059\n",
            "0.2352941176470588\n",
            "0.2352941176470588\n",
            "0.14705882352941174\n",
            "0.2058823529411765\n",
            "0.0882352947008520.6764705882352942\n",
            "0.1764705882352941\n",
            "0.2647058823529412\n",
            "0.4411764705882353\n",
            "0.2058823529411765\n",
            "0.0.08823529411764705\n",
            "0.2352941176470588\n",
            "0.4411764705882353\n",
            "0.7647058823529411\n",
            "0.5882352941176471\n",
            "646170588235294\n",
            "0.1176470588235294\n",
            "0.3235294117647059\n",
            "0.3235294117647059117\n",
            "\n",
            "0.14705882352941174\n",
            "0.3235294117647059\n",
            "0.2647058823529412\n",
            "0.2647058823529412\n",
            "0.1764705882352941\n",
            "0.2352941176470588\n",
            "0.3235294117647059\n",
            "0.29411764705882354\n",
            "0.2647058823529412\n",
            "41764705882\n",
            "0.05882352941176471\n",
            "0.14705882352941174\n",
            "0.38235294117647056\n",
            "0.38235294117647056\n",
            "0.4117647058823529\n",
            "0.4117647058823529\n",
            "0.38235294117647056\n",
            "0.4705882352941176\n",
            "0.17647058823529412\n",
            "0.46705882352941174\n",
            "0.14705882352941174\n",
            "\n",
            "0.1176470588235294\n",
            "0.3529411764705882\n",
            "0.14705882352941174\n",
            "0.1764705882352941\n",
            "0.2647058823529412\n",
            "0.4117647058823529\n",
            "0.29411764705882354\n",
            "0.2058823529411765\n",
            "0.3529411764705882\n",
            "0.3529411764705882\n",
            "0.1176470588235294\n",
            "0.5294117647058824\n",
            "0.1764705882352941\n",
            "0.2352941176470588\n",
            "0.29411764705882354\n",
            "0.2058823529411765\n",
            "0.2647058823529412\n",
            "0.4117647058823529\n",
            "0.1764705882352941\n",
            "\n",
            "0.1764705882352941\n",
            "0.29411764705882354\n",
            "0.05882352941176471\n",
            "0.1176470588235294\n",
            "0.14705882352941174\n",
            "0.3235294117647059\n",
            "0.1176470588235294\n",
            "0.029411764705882356\n",
            "0.2647058823529412\n",
            "0.2352941176470588\n",
            "0.2352941176470588\n",
            "0.2352941176470588\n",
            "0.3235294117647059\n",
            "0.1764705882352941\n",
            "0.29411764705882354\n",
            "0.4117647058823529\n",
            "0.1176470588235294\n",
            "0.3235294117647059\n",
            "0.323529411764709\n",
            "\n",
            "0.4411764705882353\n",
            "0.4705882352941176\n",
            "0.2647058823529412\n",
            "0.4411764705882353\n",
            "0.4411764705882353\n",
            "\n",
            "0.14705882352941174\n",
            "0.5\n",
            "0.1176470588235294\n",
            "0.29411764705882354\n",
            "0.1764705882352941\n",
            "0.38235294117647056\n",
            "0.05882352941176471\n",
            "0.14705882352941174\n",
            "0.3235294117647059\n",
            "0.3529411764705882\n",
            "0.14705882352941174\n",
            "0.3529411764705882\n",
            "0.1764705882352941\n",
            "0.3529411764705882\n",
            "0.3529411764705882\n",
            "0.2647058823529412\n",
            "0.2352941176470588\n",
            "0.5294117647058824\n",
            "0.3823529411764705647059\n",
            "0.5294117647058824\n",
            "0.2352941176470588\n",
            "0.1764705882352941\n",
            "0.3235294117647059\n",
            "0.2058823529411765\n",
            "0.2647058823529412\n",
            "0.5\n",
            "0.26176470588235294\n",
            "0.0882352941176471\n",
            "0.1176470588235294\n",
            "0.14705882352941174\n",
            "0.3235294117647059\n",
            "0.1176470588235294\n",
            "0.029411764705882356\n",
            "0.2647058823529412\n",
            "0.2352941176470588\n",
            "0.2352941170523529411\n",
            "\n",
            "0.14705882352\n",
            "0.3823529411765\n",
            "0.2647058823529412\n",
            "0.4470588235294112\n",
            "0.2352941176470588\n",
            "0.4117647058823529\n",
            "0.1176470588235294\n",
            "0.2058823529411765\n",
            "0.29411764705882354\n",
            "0.3529411764705882\n",
            "0.29411764705882354\n",
            "0.14705882352941174\n",
            "0.2058823529\n",
            "11765\n",
            "0.6176470588235294\n",
            "0.2647058823529412\n",
            "0.08823529411764705\n",
            "0.029411764705882356\n",
            "0.2058823529411765\n",
            "0.08823529411764705\n",
            "0.14705882352941174\n",
            "0.1176470588235294\n",
            "0.14705882352941174\n",
            "0.14705882352941174\n",
            "\n",
            "0.1176470888235294\n",
            "0.3529411764705882\n",
            "0.14705882352941174\n",
            "0.1764705882352941\n",
            "0.2647058823529412\n",
            "0.4117647058823529\n",
            "0.29411764705882354\n",
            "0.4117647058823529\n",
            "0.2058823529411765\n",
            "0.2352947058823529420.4411764705882353\n",
            "0.4411764705882353\n",
            "\n",
            "0.14705882352941174\n",
            "0.5\n",
            "0.117647058823529\n",
            "\n",
            "0.29417647058823549\n",
            "0.3529411764705882\n",
            "0.4117647058823529\n",
            "0.5294117647058824\n",
            "0.4705882352941176\n",
            "0.5882352941176\n",
            "705882352941\n",
            "0.3235294117647059\n",
            "0.08823529411764705\n",
            "0.0.1470588235294117\n",
            "\n",
            "0.29411764705882354\n",
            "0.4117647058823529\n",
            "0.705882352941176\n",
            "\n",
            "0.1176470588235294\n",
            "0.3529411764705882\n",
            "0.2647058823529412\n",
            "0.2058823529411765\n",
            "0.3235294117647059\n",
            "0.2647058823529412\n",
            "0.14705882352941174\n",
            "0.2058823529411765\n",
            "0.14705882352941174\n",
            "0.2647058823529412\n",
            "0.2352941176470588\n",
            "\n",
            "0.2352941176470588\n",
            "0.3529411764705882\n",
            "0.2647058823529412\n",
            "0.2352941176470588\n",
            "0.3529411764705882\n",
            "0.3529411764705882\n",
            "0.3235294117647059\n",
            "0.5294117647058824\n",
            "0.38235294117647056\n",
            "0.3235294117647059\n",
            "0.6764705882352942\n",
            "0.14705882352941174\n",
            "0.29411764705882354\n",
            "0.4117647058823529\n",
            "0.4117647058823529\n",
            "\n",
            "0.35290.238235294117647056\n",
            "0.29411764705882354\n",
            "0.38235294117647056\n",
            "0.2352941176470588\n",
            "0.3235294117647059\n",
            "0.2352941176470588\n",
            "0.4117647058823529\n",
            "0.14705882352941174\n",
            "\n",
            "0.08823529411764705\n",
            "0.2352941176470588\n",
            "0.1764705882352941\n",
            "0.1764705882352941\n",
            "0.2352941176470588\n",
            "0.4117647058823529\n",
            "0.1176470588235294\n",
            "0.2058823529411765\n",
            "0.29411764705882354\n",
            "0.3529411764705882\n",
            "0.29411764705882354\n",
            "0.14705882352941174\n",
            "0.2058823529411765\n",
            "0.11764705882352941\n",
            "0.1176470588235294\n",
            "0.3529411764705882\n",
            "0.2058823529411765\n",
            "0.08823529411764705\n",
            "0.1764705882352941\n",
            "0.3235294117647059\n",
            "0.2647058823529412\n",
            "0.2647058823529412\n",
            "0.5\n",
            "0.2352941176470588\n",
            "0.14705882352941174\n",
            "\n",
            "0.1176470588235294\n",
            "0.2647058823529412\n",
            "0.14705882352941174\n",
            "0.14705882352941174\n",
            "0.3235294117647059\n",
            "0.2647058823529412\n",
            "0.2647058823529412\n",
            "0.1764705882352941\n",
            "0.2352941176470588\n",
            "0.3235294117647059\n",
            "0.29411764705882354\n",
            "0.2647058823529412\n",
            "0.4117647058823529\n",
            "0.1764705882352941\n",
            "\n",
            "0.1764705882352941\n",
            "0.29411764705882354\n",
            "0.05882352941176471\n",
            "0.1176470588235294\n",
            "0.14705882352941174\n",
            "0.3235294117647059\n",
            "0.1176470588235294\n",
            "0.029411764705882356\n",
            "0.2647058823529412\n",
            "0.2352941176470588\n",
            "0.2352941176470588\n",
            "0.2352941176470588\n",
            "0.3235294117647059\n",
            "0.1764705882352941\n",
            "0.29411764705882354\n",
            "0.4117647058823529\n",
            "0.1176470588235294\n",
            "0.3235294117647059\n",
            "0.3235294117647059\n",
            "\n",
            "0.14705882352941174\n",
            "0.38235294117647056\n",
            "0.1764705882352941\n",
            "0.14705882352941174\n",
            "0.29411764705882354\n",
            "0.38235294117647056\n",
            "0.3529411764705882\n",
            "0.14705882352941174\n",
            "0.3529411764705882\n",
            "0.4117647058823529\n",
            "0.5588235294117647\n",
            "0.6417647058823529\n",
            "0.4117647058823529\n",
            "0.1764705882352941\n",
            "0.2058823529411765\n",
            "0.1764705882352941\n",
            "0.2941176470588235294\n",
            "\n",
            "0.02352941176470588\n",
            "0.3529411764705882\n",
            "0.2058823529411765\n",
            "0.1176470888235294\n",
            "0.29411764705882354\n",
            "\n",
            "0.029411764705882356\n",
            "0.3529411764705882\n",
            "0.2647058823529412\n",
            "0.2352941176470588\n",
            "0.2647058823529412\n",
            "0.4117647058823529\n",
            "0.2647058823529412\n",
            "0.3529411764705882\n",
            "0.38235294117647056\n",
            "0.3235294117647059\n",
            "0.3529411764705882\n",
            "0.1176470588235294\n",
            "0.1764705882352941\n",
            "0.2058823529411765\n",
            "0.08823529411764705\n",
            "0.2352941176470588\n",
            "0.4117647058823529\n",
            "0.4764705882352941\n",
            "0.1764705882352941\n",
            "0.2647058823529412\n",
            "0.4411764705882353\n",
            "0.20.8823529411765\n",
            "0.2058823529411765\n",
            "0.3235294117647059\n",
            "0.38235294117647056\n",
            "0.2058823529411765\n",
            "0.2352941176470588\n",
            "0.4117647058823529\n",
            "0.4411764705882356\n",
            "0.2352941176470588\n",
            "0.3529411764705882\n",
            "0.29411764705882354\n",
            "0.29411764705882354\n",
            "0.29411764705882354\n",
            "0.4117647058823529\n",
            "0.29411764705882354\n",
            "0.2647058823529412\n",
            "0.2647058823529412\n",
            "0.2647058823529412\n",
            "0.2352941176470588\n",
            "0.4117647058823529\n",
            "0.4117647058823529\n",
            "0.17\n"
          ],
          "name": "stdout"
        }
      ]
    },
    {
      "cell_type": "code",
      "metadata": {
        "id": "v42KcPq-0OpY",
        "colab_type": "code",
        "colab": {}
      },
      "source": [
        "save_to_path=os.path.join(path,'data','prediction','rnn_output.txt')\n",
        "with open(save_to_path,mode='w') as file:\n",
        "  file.write(generated_text)\n"
      ],
      "execution_count": 41,
      "outputs": []
    },
    {
      "cell_type": "code",
      "metadata": {
        "id": "7NYNdXs5Gi8f",
        "colab_type": "code",
        "colab": {}
      },
      "source": [
        ""
      ],
      "execution_count": null,
      "outputs": []
    }
  ]
}