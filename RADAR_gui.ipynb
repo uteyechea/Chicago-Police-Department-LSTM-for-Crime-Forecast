{
  "nbformat": 4,
  "nbformat_minor": 0,
  "metadata": {
    "colab": {
      "name": "RADAR_gui.ipynb",
      "provenance": [],
      "authorship_tag": "ABX9TyO49rB4yTX8lr2my8Z2fP1O",
      "include_colab_link": true
    },
    "kernelspec": {
      "name": "python3",
      "display_name": "Python 3"
    }
  },
  "cells": [
    {
      "cell_type": "markdown",
      "metadata": {
        "id": "view-in-github",
        "colab_type": "text"
      },
      "source": [
        "<a href=\"https://colab.research.google.com/github/uteyechea/crime-prediction-using-artificial-intelligence/blob/master/RADAR_gui.ipynb\" target=\"_parent\"><img src=\"https://colab.research.google.com/assets/colab-badge.svg\" alt=\"Open In Colab\"/></a>"
      ]
    },
    {
      "cell_type": "code",
      "metadata": {
        "id": "rHB7mwChWP0t"
      },
      "source": [
        "%%capture\n",
        "!pip install jupyter_dash\n",
        "!pip install dash_leaflet"
      ],
      "execution_count": null,
      "outputs": []
    },
    {
      "cell_type": "code",
      "metadata": {
        "id": "HQSim8KFV0xQ"
      },
      "source": [
        "from jupyter_dash import JupyterDash\n",
        "import dash_core_components as dcc\n",
        "import dash_html_components as html\n",
        "\n",
        "import dash_leaflet as dl\n",
        "\n",
        "import numpy as np\n",
        "\n",
        "#import dash #Use for standalone window server\n"
      ],
      "execution_count": null,
      "outputs": []
    },
    {
      "cell_type": "code",
      "metadata": {
        "colab": {
          "base_uri": "https://localhost:8080/",
          "height": 671
        },
        "id": "ydXUyjRbU-hd",
        "outputId": "333ba94e-4dd1-4d1c-978a-01f6e4efbd51"
      },
      "source": [
        "\n",
        "colors={\n",
        "    'background':'#ffffff',\n",
        "    'text':'#280330'\n",
        "}\n",
        "\n",
        "hermosillo_coordinates = (29.0730,-110.9559)\n",
        "\n",
        "# Some shapes.\n",
        "markers = [dl.Marker(position=[56, 10]), dl.CircleMarker(center=[55, 10])]\n",
        "polygon = dl.Polygon(positions=[[57, 10], [57, 11], [56, 11], [57, 10]])\n",
        "polygon2 = dl.Polygon(positions=[ [29.1,-110.955] ,[29.1,-110.95],[29.095,-110.95],[29.095,-110.955] ],color='red') \n",
        "#positions=[[top_left],[top_right],[bottom_right],[bottom_left]]\n",
        "polygon3 = dl.Polygon(positions=[ [29.160,-110.970] ,[29.160,-110.965],[29.155,-110.965],[29.155,-110.970] ]) \n",
        "\n",
        "burglary={}\n",
        "for i in range(0,10):\n",
        "\n",
        "    latitude=np.random.randn()*.025+hermosillo_coordinates[0]\n",
        "    longitude=np.random.randn()*.025+hermosillo_coordinates[1]\n",
        "    top_left=[latitude,longitude]\n",
        "    top_right=[latitude,longitude+0.005]\n",
        "    bottom_left=[latitude-0.005,longitude+0.005]\n",
        "    bottom_right=[latitude-0.005,longitude]\n",
        "    \n",
        "    burglary[i]=dl.Polygon(positions=[ top_left ,top_right,bottom_left,bottom_right ],color='purple')\n",
        "\n",
        "murder={}\n",
        "for i in range(0,4):\n",
        "\n",
        "    latitude=np.random.randn()*.025+hermosillo_coordinates[0]\n",
        "    longitude=np.random.randn()*.025+hermosillo_coordinates[1]\n",
        "    top_left=[latitude,longitude]\n",
        "    top_right=[latitude,longitude+0.005]\n",
        "    bottom_left=[latitude-0.005,longitude+0.005]\n",
        "    bottom_right=[latitude-0.005,longitude]\n",
        "    \n",
        "    murder[i]=dl.Polygon(positions=[ top_left ,top_right,bottom_left,bottom_right ],color='blue')\n",
        "\n",
        "kidnapping={}\n",
        "for i in range(0,6):\n",
        "\n",
        "    latitude=np.random.randn()*.025+hermosillo_coordinates[0]\n",
        "    longitude=np.random.randn()*.025+hermosillo_coordinates[1]\n",
        "    top_left=[latitude,longitude]\n",
        "    top_right=[latitude,longitude+0.005]\n",
        "    bottom_left=[latitude-0.005,longitude+0.005]\n",
        "    bottom_right=[latitude-0.005,longitude]\n",
        "    \n",
        "    kidnapping[i]=dl.Polygon(positions=[ top_left ,top_right,bottom_left,bottom_right ],color='red')\n",
        "    \n",
        "    \n",
        "# Some tile urls.\n",
        "keys = [\"Historical\", \"Live\"]\n",
        "hermosillo_coordinates=[29.0730,-110.9559]\n",
        "\n",
        "\n",
        "# Create app.\n",
        "app = JupyterDash()\n",
        "#app=dash.Dash(__name__)\n",
        "app.layout = html.Div(children=[\n",
        "    \n",
        "    html.H1(\n",
        "        children='dev R.A.D.A.R',\n",
        "        style={\n",
        "            'textAlign': 'center',\n",
        "            'color': colors['text']\n",
        "        }\n",
        "    ),\n",
        "    \n",
        "    html.Div(\n",
        "    dl.Map([\n",
        "    dl.LayersControl(\n",
        "        [dl.BaseLayer(dl.TileLayer(),\n",
        "                      name=key, checked=key == \"Live\") for key in keys] +\n",
        "        [\n",
        "         #dl.Overlay(dl.LayerGroup(markers), name=\"markers\", checked=True),\n",
        "         #dl.Overlay(dl.LayerGroup([polygon2,polygon3]), name=\"polygon\", checked=True),\n",
        "         dl.Overlay(dl.LayerGroup(list(burglary.values())[:]),name='Burglary',checked=True),\n",
        "         dl.Overlay(dl.LayerGroup(list(murder.values())[:]),name='Murder',checked=True),\n",
        "         dl.Overlay(dl.LayerGroup(list(kidnapping.values())[:]),name='Kidnapping',checked=True)   \n",
        "        ]\n",
        "    )\n",
        "], zoom=12, center=(29.0730, -110.9559)), \n",
        "        style={'width': '100%', 'height': '100vh', 'margin': \"auto\", \"display\": \"block\"}\n",
        "    ),\n",
        "    html.Div(children='Map test run')\n",
        "\n",
        "]\n",
        "#,style={'color':colors['background']}                     \n",
        ")\n",
        "\n",
        "app.run_server(mode='inline')\n",
        "\n",
        "#if __name__ == '__main__':\n",
        "#    app.run_server(debug=False, port=8150)"
      ],
      "execution_count": null,
      "outputs": [
        {
          "output_type": "display_data",
          "data": {
            "application/javascript": [
              "(async (port, path, width, height, cache, element) => {\n",
              "    if (!google.colab.kernel.accessAllowed && !cache) {\n",
              "      return;\n",
              "    }\n",
              "    element.appendChild(document.createTextNode(''));\n",
              "    const url = await google.colab.kernel.proxyPort(port, {cache});\n",
              "    const iframe = document.createElement('iframe');\n",
              "    iframe.src = url + path;\n",
              "    iframe.height = height;\n",
              "    iframe.width = width;\n",
              "    iframe.style.border = 0;\n",
              "    element.appendChild(iframe);\n",
              "  })(8050, \"/\", \"100%\", 650, false, window.element)"
            ],
            "text/plain": [
              "<IPython.core.display.Javascript object>"
            ]
          },
          "metadata": {
            "tags": []
          }
        }
      ]
    },
    {
      "cell_type": "code",
      "metadata": {
        "id": "YEd2tWLOtCYY"
      },
      "source": [
        ""
      ],
      "execution_count": null,
      "outputs": []
    }
  ]
}