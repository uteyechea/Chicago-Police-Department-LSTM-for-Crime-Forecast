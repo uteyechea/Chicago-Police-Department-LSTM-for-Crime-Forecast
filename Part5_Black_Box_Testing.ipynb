{
  "nbformat": 4,
  "nbformat_minor": 0,
  "metadata": {
    "colab": {
      "name": "Part5_Black_Box_Testing.ipynb",
      "provenance": [],
      "collapsed_sections": [],
      "authorship_tag": "ABX9TyN0HqMCuj3+SatSASAMdegb",
      "include_colab_link": true
    },
    "kernelspec": {
      "name": "python3",
      "display_name": "Python 3"
    }
  },
  "cells": [
    {
      "cell_type": "markdown",
      "metadata": {
        "id": "view-in-github",
        "colab_type": "text"
      },
      "source": [
        "<a href=\"https://colab.research.google.com/github/uteyechea/crime-prediction-using-artificial-intelligence/blob/master/Part5_Black_Box_Testing.ipynb\" target=\"_parent\"><img src=\"https://colab.research.google.com/assets/colab-badge.svg\" alt=\"Open In Colab\"/></a>"
      ]
    },
    {
      "cell_type": "markdown",
      "metadata": {
        "id": "qry-YG6I7-4O",
        "colab_type": "text"
      },
      "source": [
        "#Part 5: Black-Box Testing\n",
        "\n",
        "Test crimes predicted sequence against a real sequence of crimes."
      ]
    },
    {
      "cell_type": "markdown",
      "metadata": {
        "id": "SfPjcOKr8hvq",
        "colab_type": "text"
      },
      "source": [
        "##5.1  Dependencies, mount Google Drive and set system path\n",
        "Import the relevant packages we will use to train the RNN model."
      ]
    },
    {
      "cell_type": "code",
      "metadata": {
        "id": "Ur7YTpBurDaK",
        "colab_type": "code",
        "colab": {
          "base_uri": "https://localhost:8080/",
          "height": 128
        },
        "outputId": "7051e4e0-dfcf-4948-9461-16fd0ad3c71d"
      },
      "source": [
        "import os\n",
        "import gc\n",
        "\n",
        "import pandas as pd\n",
        "from scipy import stats\n",
        "\n",
        "from google.colab import drive\n",
        "drive.mount('/content/drive', force_remount=True)\n",
        "\n",
        "path='/content/drive/My Drive/Colab Notebooks/crime_prediction'\n",
        "\n",
        "#Update our path to import from \n",
        "import sys\n",
        "sys.path.append(path+'/libs')\n",
        "import autocorr as ac\n"
      ],
      "execution_count": null,
      "outputs": [
        {
          "output_type": "stream",
          "text": [
            "Go to this URL in a browser: https://accounts.google.com/o/oauth2/auth?client_id=947318989803-6bn6qk8qdgf4n4g3pfee6491hc0brc4i.apps.googleusercontent.com&redirect_uri=urn%3aietf%3awg%3aoauth%3a2.0%3aoob&scope=email%20https%3a%2f%2fwww.googleapis.com%2fauth%2fdocs.test%20https%3a%2f%2fwww.googleapis.com%2fauth%2fdrive%20https%3a%2f%2fwww.googleapis.com%2fauth%2fdrive.photos.readonly%20https%3a%2f%2fwww.googleapis.com%2fauth%2fpeopleapi.readonly&response_type=code\n",
            "\n",
            "Enter your authorization code:\n",
            "··········\n",
            "Mounted at /content/drive\n"
          ],
          "name": "stdout"
        }
      ]
    },
    {
      "cell_type": "markdown",
      "metadata": {
        "id": "2i4metBjB-9Z",
        "colab_type": "text"
      },
      "source": [
        "##5.1 RNN input sequence parameters\n",
        "\n",
        "The windowing over the time series used an end_date and some look_back period, all highly correlated windows were put in sequence, such sequence was fed into the RNN for training purposes."
      ]
    },
    {
      "cell_type": "code",
      "metadata": {
        "id": "i71FN7DV-kDw",
        "colab_type": "code",
        "colab": {}
      },
      "source": [
        "#Input sequence parameters\n",
        "#end_date='2019-01-01'\n",
        "#end_date='2018-10-31'\n",
        "#end_date='2018-09-07'\n",
        "end_date='2018-11-01'\n",
        "lookback_periods=10\n",
        "column_name='zone11'\n",
        "min_correlation=0.75"
      ],
      "execution_count": null,
      "outputs": []
    },
    {
      "cell_type": "markdown",
      "metadata": {
        "id": "VmoBL_C578hM",
        "colab_type": "text"
      },
      "source": [
        "##5.2 Import test data \n",
        "Import test data sequence, i.e. real data sequence unknown to the RNN at the time of training "
      ]
    },
    {
      "cell_type": "code",
      "metadata": {
        "id": "GYguVIftDGbE",
        "colab_type": "code",
        "colab": {
          "base_uri": "https://localhost:8080/",
          "height": 35
        },
        "outputId": "6fd9bb29-5415-4cd7-c6ac-51e7f38dd0b5"
      },
      "source": [
        "test_file_path=os.path.join(path,'data','theft.csv')\n",
        "file=pd.read_csv(test_file_path,sep=',',parse_dates=['Date'],index_col='Date')\n",
        "file.isnull().values.any() # nulls?"
      ],
      "execution_count": null,
      "outputs": [
        {
          "output_type": "execute_result",
          "data": {
            "text/plain": [
              "False"
            ]
          },
          "metadata": {
            "tags": []
          },
          "execution_count": 3
        }
      ]
    },
    {
      "cell_type": "code",
      "metadata": {
        "id": "Q2xXMZnGHDQg",
        "colab_type": "code",
        "colab": {}
      },
      "source": [
        "dataframe=file\n",
        "timestamp=end_date\n",
        "apriori_window=dataframe.loc[pd.date_range(start=timestamp,periods=lookback_periods,freq='-1D'),column_name]\n",
        "apriori_window=apriori_window[::-1]\n",
        "aposteriori_window=dataframe.loc[pd.date_range(start=timestamp,periods=lookback_periods,freq='1D',closed='right'),column_name]\n",
        "test_window=apriori_window.append(aposteriori_window)"
      ],
      "execution_count": null,
      "outputs": []
    },
    {
      "cell_type": "code",
      "metadata": {
        "id": "9wqsXgSfIhth",
        "colab_type": "code",
        "colab": {
          "base_uri": "https://localhost:8080/",
          "height": 381
        },
        "outputId": "c56de680-c9ed-4968-b734-d224b7350e6c"
      },
      "source": [
        "test_window\n",
        "\n"
      ],
      "execution_count": null,
      "outputs": [
        {
          "output_type": "execute_result",
          "data": {
            "text/plain": [
              "2018-10-23    0.214\n",
              "2018-10-24    0.286\n",
              "2018-10-25    0.107\n",
              "2018-10-26    0.214\n",
              "2018-10-27    0.250\n",
              "2018-10-28    0.214\n",
              "2018-10-29    0.214\n",
              "2018-10-30    0.286\n",
              "2018-10-31    0.286\n",
              "2018-11-01    0.143\n",
              "2018-11-02    0.214\n",
              "2018-11-03    0.071\n",
              "2018-11-04    0.143\n",
              "2018-11-05    0.143\n",
              "2018-11-06    0.214\n",
              "2018-11-07    0.143\n",
              "2018-11-08    0.071\n",
              "2018-11-09    0.179\n",
              "2018-11-10    0.250\n",
              "Freq: D, Name: zone11, dtype: float64"
            ]
          },
          "metadata": {
            "tags": []
          },
          "execution_count": 5
        }
      ]
    },
    {
      "cell_type": "markdown",
      "metadata": {
        "id": "4YzfqiSNDJph",
        "colab_type": "text"
      },
      "source": [
        "##5.3 Import predicted data\n",
        "\n",
        "Data sequence generated by the RNN as the most likely future crime sequence. "
      ]
    },
    {
      "cell_type": "code",
      "metadata": {
        "id": "4n1qE8JOtO9P",
        "colab_type": "code",
        "colab": {
          "base_uri": "https://localhost:8080/",
          "height": 35
        },
        "outputId": "08ce9700-efef-4686-d116-b709e3a5eea3"
      },
      "source": [
        "prediction_file_path=os.path.join(path,'data','prediction','rnn_output.txt')\n",
        "prediction_windows=pd.read_csv(prediction_file_path,sep=',')\n",
        "print(prediction_windows.shape)"
      ],
      "execution_count": null,
      "outputs": [
        {
          "output_type": "stream",
          "text": [
            "(33059, 1)\n"
          ],
          "name": "stdout"
        }
      ]
    },
    {
      "cell_type": "markdown",
      "metadata": {
        "id": "oCwnwq-CEMAk",
        "colab_type": "text"
      },
      "source": [
        "Remove non-numeric values. It very well can happen that the RNN predicts some number in the wrong format, for example: 1.324.234"
      ]
    },
    {
      "cell_type": "code",
      "metadata": {
        "id": "mFUd9A8atYa3",
        "colab_type": "code",
        "colab": {
          "base_uri": "https://localhost:8080/",
          "height": 35
        },
        "outputId": "60f3a52c-f7d3-4e26-a43b-ebdbad93f4d6"
      },
      "source": [
        "prediction_windows.iloc[:,0] = pd.to_numeric(prediction_windows.iloc[:,0], errors='coerce') #Remove non float values, substitute them with NAN\n",
        "prediction_windows=prediction_windows.dropna()\n",
        "prediction_windows.shape"
      ],
      "execution_count": null,
      "outputs": [
        {
          "output_type": "execute_result",
          "data": {
            "text/plain": [
              "(32940, 1)"
            ]
          },
          "metadata": {
            "tags": []
          },
          "execution_count": 7
        }
      ]
    },
    {
      "cell_type": "markdown",
      "metadata": {
        "id": "EXHHQR4xEmTl",
        "colab_type": "text"
      },
      "source": [
        "Verify all predicted data to be free of nulls"
      ]
    },
    {
      "cell_type": "code",
      "metadata": {
        "id": "qHIXiSWktfYL",
        "colab_type": "code",
        "colab": {
          "base_uri": "https://localhost:8080/",
          "height": 35
        },
        "outputId": "b15b458e-b922-462c-861b-b1d65385db54"
      },
      "source": [
        "prediction_windows.isnull().values.any()"
      ],
      "execution_count": null,
      "outputs": [
        {
          "output_type": "execute_result",
          "data": {
            "text/plain": [
              "False"
            ]
          },
          "metadata": {
            "tags": []
          },
          "execution_count": 8
        }
      ]
    },
    {
      "cell_type": "markdown",
      "metadata": {
        "id": "83DUz2DFFP_W",
        "colab_type": "text"
      },
      "source": [
        "##5.4 Estimate error in RNN output.\n",
        "\n",
        "For some date end_date we will compare the predicted sequence vs the real sequence during some period of N time units. "
      ]
    },
    {
      "cell_type": "markdown",
      "metadata": {
        "id": "MyXi3a22J02Y",
        "colab_type": "text"
      },
      "source": [
        "Fix data types to pandas series"
      ]
    },
    {
      "cell_type": "code",
      "metadata": {
        "id": "SEd0Kkn6FNyo",
        "colab_type": "code",
        "colab": {
          "base_uri": "https://localhost:8080/",
          "height": 90
        },
        "outputId": "af9fe3ff-c378-4e07-b44e-6cc9b81d630e"
      },
      "source": [
        "print(test_window.shape)\n",
        "print(prediction_windows.iloc[:,0].shape)\n",
        "print(type(test_window))\n",
        "print(type(prediction_windows.iloc[:,0]))"
      ],
      "execution_count": null,
      "outputs": [
        {
          "output_type": "stream",
          "text": [
            "(19,)\n",
            "(32940,)\n",
            "<class 'pandas.core.series.Series'>\n",
            "<class 'pandas.core.series.Series'>\n"
          ],
          "name": "stdout"
        }
      ]
    },
    {
      "cell_type": "code",
      "metadata": {
        "id": "OEO-irjsFObV",
        "colab_type": "code",
        "colab": {}
      },
      "source": [
        "prediction=prediction_windows.iloc[:,0]"
      ],
      "execution_count": null,
      "outputs": []
    },
    {
      "cell_type": "code",
      "metadata": {
        "id": "M1XY0K2ZFO0-",
        "colab_type": "code",
        "colab": {}
      },
      "source": [
        "assert type(prediction)==type(test_window)"
      ],
      "execution_count": null,
      "outputs": []
    },
    {
      "cell_type": "code",
      "metadata": {
        "id": "IupqqmFQFOy8",
        "colab_type": "code",
        "colab": {}
      },
      "source": [
        "#series1 test_window\n",
        "#series2 prediction_windows\n",
        "\n",
        "def correlation(apriori_window,aposteriori_window,rnn_output_series,periods,min_correlation):\n",
        "  max_correlation=1.1\n",
        "  index_at_rnn_output=[]\n",
        "  apriori_window=apriori_window.reset_index(drop=True) #Better find a way to simplify this procedure\n",
        "  aposteriori_window=aposteriori_window.reset_index(drop=True) #Better find a way to simplify this procedure\n",
        "\n",
        "  for i,row in enumerate(rnn_output_series):\n",
        "    if i>=periods:\n",
        "      try:\n",
        "        past_predicted_window=rnn_output_series[i-periods:i]\n",
        "        past_predicted_window=past_predicted_window.reset_index(drop=True) #Better find a way to simplify this procedure\n",
        "        ro=apriori_window.corr(past_predicted_window)\n",
        "\n",
        "        if ro > min_correlation and ro < max_correlation:\n",
        "          future_predicted_window=rnn_output_series[i:i+periods]\n",
        "          future_predicted_window=future_predicted_window.reset_index(drop=True)\n",
        "\n",
        "          ro2=aposteriori_window.corr(future_predicted_window)\n",
        "          print(i,ro,ro2)\n",
        "          index_at_rnn_output.append((ro,ro2,i))\n",
        "\n",
        "      except:\n",
        "        print('fix the loop indices')\n",
        "\n",
        "  return index_at_rnn_output\n"
      ],
      "execution_count": null,
      "outputs": []
    },
    {
      "cell_type": "code",
      "metadata": {
        "id": "Ogqjmw74Xg_9",
        "colab_type": "code",
        "colab": {
          "base_uri": "https://localhost:8080/",
          "height": 54
        },
        "outputId": "5c50f9a7-6688-426d-9273-8ec33e96f769"
      },
      "source": [
        "\"\"\"\n",
        "aposteriori_window=[1,2,3,4,5,6,7,8,9,10,1,2,3,4,5,6,7,8,8,9,10]\n",
        "future_predicted_window=[1,2,3,4,5,6,7,8,9,10,1,2,3,4,5,6,7,8,8,9,10]\n",
        "\n",
        "a=pd.Series(aposteriori_window)\n",
        "b=pd.Series(future_predicted_window)\n",
        "\n",
        "print(a[10-10:10])\n",
        "\n",
        "a.corr(b)\n",
        "\"\"\""
      ],
      "execution_count": null,
      "outputs": [
        {
          "output_type": "execute_result",
          "data": {
            "application/vnd.google.colaboratory.intrinsic+json": {
              "type": "string"
            },
            "text/plain": [
              "'\\naposteriori_window=[1,2,3,4,5,6,7,8,9,10,1,2,3,4,5,6,7,8,8,9,10]\\nfuture_predicted_window=[1,2,3,4,5,6,7,8,9,10,1,2,3,4,5,6,7,8,8,9,10]\\n\\na=pd.Series(aposteriori_window)\\nb=pd.Series(future_predicted_window)\\n\\nprint(a[10-10:10])\\n\\na.corr(b)\\n'"
            ]
          },
          "metadata": {
            "tags": []
          },
          "execution_count": 13
        }
      ]
    },
    {
      "cell_type": "code",
      "metadata": {
        "id": "N1CRkRYHFOxC",
        "colab_type": "code",
        "colab": {
          "base_uri": "https://localhost:8080/",
          "height": 308
        },
        "outputId": "b411cadc-d81e-4147-d3fc-153b9e29940d"
      },
      "source": [
        "index_at_rnn_output=correlation(apriori_window,aposteriori_window,rnn_output_series=prediction,periods=len(apriori_window),min_correlation=0.9)"
      ],
      "execution_count": null,
      "outputs": [
        {
          "output_type": "stream",
          "text": [
            "387 0.9216543554747596 -0.32612055421192515\n",
            "1483 0.9216726954188158 -0.33409971350316364\n",
            "4035 0.9216726954188158 0.39210772001567246\n",
            "4420 0.9216726954188158 -0.33409971350316364\n",
            "4530 0.9308371776103368 -0.0011916273577526658\n",
            "5952 0.9216726954188158 0.011464213439662694\n",
            "7375 0.9999999999999999 0.7281808419721604\n",
            "9119 0.9402357001607139 0.18134557638269708\n",
            "9210 0.9999999999999999 0.06401768493392142\n",
            "12773 0.9216726954188158 -0.33409971350316364\n",
            "22879 0.9100775187009009 0.16195766083435523\n",
            "23385 0.9216726954188158 -0.016137311784445666\n",
            "26489 0.9005045998777164 0.18134557638269708\n",
            "26605 0.9216726954188158 -0.33409971350316364\n",
            "29171 0.9005045998777164 0.18134557638269708\n",
            "30533 0.9999999999999999 -0.027075520012682985\n"
          ],
          "name": "stdout"
        }
      ]
    },
    {
      "cell_type": "code",
      "metadata": {
        "id": "VBOdnQNgWO_s",
        "colab_type": "code",
        "colab": {}
      },
      "source": [
        "#index_at_rnn_output_df=pd.DataFrame(index_at_rnn_output)"
      ],
      "execution_count": null,
      "outputs": []
    },
    {
      "cell_type": "code",
      "metadata": {
        "id": "Dz_Re-CPUJfh",
        "colab_type": "code",
        "colab": {}
      },
      "source": [
        "#index_at_rnn_output_mean=index_at_rnn_output_df[0].mean()\n",
        "#index_at_rnn_output_mean"
      ],
      "execution_count": null,
      "outputs": []
    },
    {
      "cell_type": "code",
      "metadata": {
        "id": "1o3NyRRnU8Oy",
        "colab_type": "code",
        "colab": {}
      },
      "source": [
        "#min_avg_diff=min([abs(x - index_at_rnn_output_mean) for x in index_at_rnn_output_df[0]]) #[x - n for x in a]\n",
        "\n",
        "#min_avg_diff=[]\n",
        "#for i,x in enumerate(index_at_rnn_output_df[0]):\n",
        "#  min_avg_diff.append(abs(x - index_at_rnn_output_mean))\n",
        "#  print(i,abs(x - index_at_rnn_output_mean))"
      ],
      "execution_count": null,
      "outputs": []
    },
    {
      "cell_type": "code",
      "metadata": {
        "id": "UNmrM458XaDq",
        "colab_type": "code",
        "colab": {}
      },
      "source": [
        "#index_at_rnn_output.index(min_avg_diff)"
      ],
      "execution_count": null,
      "outputs": []
    },
    {
      "cell_type": "code",
      "metadata": {
        "id": "kzxNWbM85Ttq",
        "colab_type": "code",
        "colab": {
          "base_uri": "https://localhost:8080/",
          "height": 90
        },
        "outputId": "655817ac-b3ef-4cc9-ff56-b8a1770e2390"
      },
      "source": [
        "\n",
        "#Get the index with max correlation between the test_window and apriori_window\n",
        "if len(index_at_rnn_output)>1:\n",
        "  max_apriori_corr_at_index=max(index_at_rnn_output)[2]\n",
        "  print(max(index_at_rnn_output))\n",
        "  print(max_apriori_corr_at_index)\n",
        "  #Get the index with the second max correlation between the test_window and apriori_window\n",
        "  to_remove=index_at_rnn_output.index(max(index_at_rnn_output))\n",
        "  #print(to_remove)\n",
        "  index_at_rnn_output[to_remove]=(0,0,0)\n",
        "  max_apriori_corr_at_index=max(index_at_rnn_output)[2]\n",
        "  print(max(index_at_rnn_output))\n",
        "  print(max_apriori_corr_at_index)\n",
        "else:\n",
        "    max_apriori_corr_at_index=max(index_at_rnn_output)[2]\n",
        "    print(max(index_at_rnn_output))\n",
        "    print(max_apriori_corr_at_index)\n",
        "\n"
      ],
      "execution_count": null,
      "outputs": [
        {
          "output_type": "stream",
          "text": [
            "(0.9999999999999999, 0.7281808419721604, 7375)\n",
            "7375\n",
            "(0.9999999999999999, 0.06401768493392142, 9210)\n",
            "9210\n"
          ],
          "name": "stdout"
        }
      ]
    },
    {
      "cell_type": "code",
      "metadata": {
        "id": "b32GTQgbFOkF",
        "colab_type": "code",
        "colab": {}
      },
      "source": [
        "#target_window=prediction[max_apriori_corr_at_index-len(apriori_window):max_apriori_corr_at_index+len(apriori_window)-1]\n",
        "target_window=prediction[7375-len(apriori_window):7375+len(apriori_window)-1]"
      ],
      "execution_count": null,
      "outputs": []
    },
    {
      "cell_type": "markdown",
      "metadata": {
        "id": "wCG1PZYjY83y",
        "colab_type": "text"
      },
      "source": [
        "line chart"
      ]
    },
    {
      "cell_type": "code",
      "metadata": {
        "id": "J6_FsyLsZYoI",
        "colab_type": "code",
        "colab": {}
      },
      "source": [
        "df={}\n",
        "df=pd.DataFrame(df)\n",
        "df1={}\n",
        "df1=pd.DataFrame(df1)\n",
        "\n",
        "\n",
        "df['value']=list(test_window)\n",
        "df['code']=['CPD']*len(test_window)\n",
        "df=df.set_index(test_window.index)\n",
        "\n",
        "df1['value']=list(target_window)\n",
        "df1['code']=['Algorithm']*len(target_window)\n",
        "df1=df1.set_index(test_window.index)\n",
        "\n",
        "df3=df.append(df1)\n",
        "\n",
        "path_to_save_plot=os.path.join(path,'data','prediction','plots')\n",
        "df3.to_csv(path_to_save_plot+str(end_date)+'.txt')\n"
      ],
      "execution_count": null,
      "outputs": []
    },
    {
      "cell_type": "code",
      "metadata": {
        "id": "UwKuYQGgbc_d",
        "colab_type": "code",
        "colab": {
          "base_uri": "https://localhost:8080/",
          "height": 542
        },
        "outputId": "9c5bd981-c83d-4a96-d986-a4d679ab08c5"
      },
      "source": [
        "import plotly.express as px\n",
        "\n",
        "\n",
        "fig = px.line(df3, x=df3.index, y=\"value\", color='code',\n",
        "              labels={\n",
        "                     \"value\": \"Normalized crime count\",\n",
        "                     \"code\": \"CS\",\n",
        "                     \"x\": \"Date\"\n",
        "                 }\n",
        "                    \n",
        "\n",
        ")\n",
        "\n",
        "fig.update_layout(\n",
        "    title={\n",
        "        'text': \"Last date known to the system: \"+str(end_date),\n",
        "        'y':0.95,\n",
        "        'x':0.5,\n",
        "        'xanchor': 'center',\n",
        "        'yanchor': 'top'},\n",
        "        \n",
        "   legend=dict(\n",
        "    yanchor=\"top\",\n",
        "    y=0.99,\n",
        "    xanchor=\"left\",\n",
        "    x=0.01\n",
        ")     \n",
        "        )\n",
        "\n",
        "fig.show()"
      ],
      "execution_count": null,
      "outputs": [
        {
          "output_type": "display_data",
          "data": {
            "text/html": [
              "<html>\n",
              "<head><meta charset=\"utf-8\" /></head>\n",
              "<body>\n",
              "    <div>\n",
              "            <script src=\"https://cdnjs.cloudflare.com/ajax/libs/mathjax/2.7.5/MathJax.js?config=TeX-AMS-MML_SVG\"></script><script type=\"text/javascript\">if (window.MathJax) {MathJax.Hub.Config({SVG: {font: \"STIX-Web\"}});}</script>\n",
              "                <script type=\"text/javascript\">window.PlotlyConfig = {MathJaxConfig: 'local'};</script>\n",
              "        <script src=\"https://cdn.plot.ly/plotly-latest.min.js\"></script>    \n",
              "            <div id=\"03da6d0f-e73f-4c7b-8ac2-01a1628861ba\" class=\"plotly-graph-div\" style=\"height:525px; width:100%;\"></div>\n",
              "            <script type=\"text/javascript\">\n",
              "                \n",
              "                    window.PLOTLYENV=window.PLOTLYENV || {};\n",
              "                    \n",
              "                if (document.getElementById(\"03da6d0f-e73f-4c7b-8ac2-01a1628861ba\")) {\n",
              "                    Plotly.newPlot(\n",
              "                        '03da6d0f-e73f-4c7b-8ac2-01a1628861ba',\n",
              "                        [{\"hoverlabel\": {\"namelength\": 0}, \"hovertemplate\": \"CS=CPD<br>Date=%{x}<br>Normalized crime count=%{y}\", \"legendgroup\": \"CS=CPD\", \"line\": {\"color\": \"#636efa\", \"dash\": \"solid\"}, \"mode\": \"lines\", \"name\": \"CS=CPD\", \"showlegend\": true, \"type\": \"scatter\", \"x\": [\"2018-10-23T00:00:00\", \"2018-10-24T00:00:00\", \"2018-10-25T00:00:00\", \"2018-10-26T00:00:00\", \"2018-10-27T00:00:00\", \"2018-10-28T00:00:00\", \"2018-10-29T00:00:00\", \"2018-10-30T00:00:00\", \"2018-10-31T00:00:00\", \"2018-11-01T00:00:00\", \"2018-11-02T00:00:00\", \"2018-11-03T00:00:00\", \"2018-11-04T00:00:00\", \"2018-11-05T00:00:00\", \"2018-11-06T00:00:00\", \"2018-11-07T00:00:00\", \"2018-11-08T00:00:00\", \"2018-11-09T00:00:00\", \"2018-11-10T00:00:00\"], \"xaxis\": \"x\", \"y\": [0.214, 0.28600000000000003, 0.107, 0.214, 0.25, 0.214, 0.214, 0.28600000000000003, 0.28600000000000003, 0.14300000000000002, 0.214, 0.071, 0.14300000000000002, 0.14300000000000002, 0.214, 0.14300000000000002, 0.071, 0.179, 0.25], \"yaxis\": \"y\"}, {\"hoverlabel\": {\"namelength\": 0}, \"hovertemplate\": \"CS=Algorithm<br>Date=%{x}<br>Normalized crime count=%{y}\", \"legendgroup\": \"CS=Algorithm\", \"line\": {\"color\": \"#EF553B\", \"dash\": \"solid\"}, \"mode\": \"lines\", \"name\": \"CS=Algorithm\", \"showlegend\": true, \"type\": \"scatter\", \"x\": [\"2018-10-23T00:00:00\", \"2018-10-24T00:00:00\", \"2018-10-25T00:00:00\", \"2018-10-26T00:00:00\", \"2018-10-27T00:00:00\", \"2018-10-28T00:00:00\", \"2018-10-29T00:00:00\", \"2018-10-30T00:00:00\", \"2018-10-31T00:00:00\", \"2018-11-01T00:00:00\", \"2018-11-02T00:00:00\", \"2018-11-03T00:00:00\", \"2018-11-04T00:00:00\", \"2018-11-05T00:00:00\", \"2018-11-06T00:00:00\", \"2018-11-07T00:00:00\", \"2018-11-08T00:00:00\", \"2018-11-09T00:00:00\", \"2018-11-10T00:00:00\"], \"xaxis\": \"x\", \"y\": [0.214, 0.28600000000000003, 0.107, 0.214, 0.25, 0.214, 0.214, 0.28600000000000003, 0.28600000000000003, 0.14300000000000002, 0.214, 0.071, 0.14300000000000002, 0.14300000000000002, 0.214, 0.14300000000000002, 0.071, 0.429, 0.321], \"yaxis\": \"y\"}],\n",
              "                        {\"legend\": {\"tracegroupgap\": 0, \"x\": 0.01, \"xanchor\": \"left\", \"y\": 0.99, \"yanchor\": \"top\"}, \"margin\": {\"t\": 60}, \"template\": {\"data\": {\"bar\": [{\"error_x\": {\"color\": \"#2a3f5f\"}, \"error_y\": {\"color\": \"#2a3f5f\"}, \"marker\": {\"line\": {\"color\": \"#E5ECF6\", \"width\": 0.5}}, \"type\": \"bar\"}], \"barpolar\": [{\"marker\": {\"line\": {\"color\": \"#E5ECF6\", \"width\": 0.5}}, \"type\": \"barpolar\"}], \"carpet\": [{\"aaxis\": {\"endlinecolor\": \"#2a3f5f\", \"gridcolor\": \"white\", \"linecolor\": \"white\", \"minorgridcolor\": \"white\", \"startlinecolor\": \"#2a3f5f\"}, \"baxis\": {\"endlinecolor\": \"#2a3f5f\", \"gridcolor\": \"white\", \"linecolor\": \"white\", \"minorgridcolor\": \"white\", \"startlinecolor\": \"#2a3f5f\"}, \"type\": \"carpet\"}], \"choropleth\": [{\"colorbar\": {\"outlinewidth\": 0, \"ticks\": \"\"}, \"type\": \"choropleth\"}], \"contour\": [{\"colorbar\": {\"outlinewidth\": 0, \"ticks\": \"\"}, \"colorscale\": [[0.0, \"#0d0887\"], [0.1111111111111111, \"#46039f\"], [0.2222222222222222, \"#7201a8\"], [0.3333333333333333, \"#9c179e\"], [0.4444444444444444, \"#bd3786\"], [0.5555555555555556, \"#d8576b\"], [0.6666666666666666, \"#ed7953\"], [0.7777777777777778, \"#fb9f3a\"], [0.8888888888888888, \"#fdca26\"], [1.0, \"#f0f921\"]], \"type\": \"contour\"}], \"contourcarpet\": [{\"colorbar\": {\"outlinewidth\": 0, \"ticks\": \"\"}, \"type\": \"contourcarpet\"}], \"heatmap\": [{\"colorbar\": {\"outlinewidth\": 0, \"ticks\": \"\"}, \"colorscale\": [[0.0, \"#0d0887\"], [0.1111111111111111, \"#46039f\"], [0.2222222222222222, \"#7201a8\"], [0.3333333333333333, \"#9c179e\"], [0.4444444444444444, \"#bd3786\"], [0.5555555555555556, \"#d8576b\"], [0.6666666666666666, \"#ed7953\"], [0.7777777777777778, \"#fb9f3a\"], [0.8888888888888888, \"#fdca26\"], [1.0, \"#f0f921\"]], \"type\": \"heatmap\"}], \"heatmapgl\": [{\"colorbar\": {\"outlinewidth\": 0, \"ticks\": \"\"}, \"colorscale\": [[0.0, \"#0d0887\"], [0.1111111111111111, \"#46039f\"], [0.2222222222222222, \"#7201a8\"], [0.3333333333333333, \"#9c179e\"], [0.4444444444444444, \"#bd3786\"], [0.5555555555555556, \"#d8576b\"], [0.6666666666666666, \"#ed7953\"], [0.7777777777777778, \"#fb9f3a\"], [0.8888888888888888, \"#fdca26\"], [1.0, \"#f0f921\"]], \"type\": \"heatmapgl\"}], \"histogram\": [{\"marker\": {\"colorbar\": {\"outlinewidth\": 0, \"ticks\": \"\"}}, \"type\": \"histogram\"}], \"histogram2d\": [{\"colorbar\": {\"outlinewidth\": 0, \"ticks\": \"\"}, \"colorscale\": [[0.0, \"#0d0887\"], [0.1111111111111111, \"#46039f\"], [0.2222222222222222, \"#7201a8\"], [0.3333333333333333, \"#9c179e\"], [0.4444444444444444, \"#bd3786\"], [0.5555555555555556, \"#d8576b\"], [0.6666666666666666, \"#ed7953\"], [0.7777777777777778, \"#fb9f3a\"], [0.8888888888888888, \"#fdca26\"], [1.0, \"#f0f921\"]], \"type\": \"histogram2d\"}], \"histogram2dcontour\": [{\"colorbar\": {\"outlinewidth\": 0, \"ticks\": \"\"}, \"colorscale\": [[0.0, \"#0d0887\"], [0.1111111111111111, \"#46039f\"], [0.2222222222222222, \"#7201a8\"], [0.3333333333333333, \"#9c179e\"], [0.4444444444444444, \"#bd3786\"], [0.5555555555555556, \"#d8576b\"], [0.6666666666666666, \"#ed7953\"], [0.7777777777777778, \"#fb9f3a\"], [0.8888888888888888, \"#fdca26\"], [1.0, \"#f0f921\"]], \"type\": \"histogram2dcontour\"}], \"mesh3d\": [{\"colorbar\": {\"outlinewidth\": 0, \"ticks\": \"\"}, \"type\": \"mesh3d\"}], \"parcoords\": [{\"line\": {\"colorbar\": {\"outlinewidth\": 0, \"ticks\": \"\"}}, \"type\": \"parcoords\"}], \"pie\": [{\"automargin\": true, \"type\": \"pie\"}], \"scatter\": [{\"marker\": {\"colorbar\": {\"outlinewidth\": 0, \"ticks\": \"\"}}, \"type\": \"scatter\"}], \"scatter3d\": [{\"line\": {\"colorbar\": {\"outlinewidth\": 0, \"ticks\": \"\"}}, \"marker\": {\"colorbar\": {\"outlinewidth\": 0, \"ticks\": \"\"}}, \"type\": \"scatter3d\"}], \"scattercarpet\": [{\"marker\": {\"colorbar\": {\"outlinewidth\": 0, \"ticks\": \"\"}}, \"type\": \"scattercarpet\"}], \"scattergeo\": [{\"marker\": {\"colorbar\": {\"outlinewidth\": 0, \"ticks\": \"\"}}, \"type\": \"scattergeo\"}], \"scattergl\": [{\"marker\": {\"colorbar\": {\"outlinewidth\": 0, \"ticks\": \"\"}}, \"type\": \"scattergl\"}], \"scattermapbox\": [{\"marker\": {\"colorbar\": {\"outlinewidth\": 0, \"ticks\": \"\"}}, \"type\": \"scattermapbox\"}], \"scatterpolar\": [{\"marker\": {\"colorbar\": {\"outlinewidth\": 0, \"ticks\": \"\"}}, \"type\": \"scatterpolar\"}], \"scatterpolargl\": [{\"marker\": {\"colorbar\": {\"outlinewidth\": 0, \"ticks\": \"\"}}, \"type\": \"scatterpolargl\"}], \"scatterternary\": [{\"marker\": {\"colorbar\": {\"outlinewidth\": 0, \"ticks\": \"\"}}, \"type\": \"scatterternary\"}], \"surface\": [{\"colorbar\": {\"outlinewidth\": 0, \"ticks\": \"\"}, \"colorscale\": [[0.0, \"#0d0887\"], [0.1111111111111111, \"#46039f\"], [0.2222222222222222, \"#7201a8\"], [0.3333333333333333, \"#9c179e\"], [0.4444444444444444, \"#bd3786\"], [0.5555555555555556, \"#d8576b\"], [0.6666666666666666, \"#ed7953\"], [0.7777777777777778, \"#fb9f3a\"], [0.8888888888888888, \"#fdca26\"], [1.0, \"#f0f921\"]], \"type\": \"surface\"}], \"table\": [{\"cells\": {\"fill\": {\"color\": \"#EBF0F8\"}, \"line\": {\"color\": \"white\"}}, \"header\": {\"fill\": {\"color\": \"#C8D4E3\"}, \"line\": {\"color\": \"white\"}}, \"type\": \"table\"}]}, \"layout\": {\"annotationdefaults\": {\"arrowcolor\": \"#2a3f5f\", \"arrowhead\": 0, \"arrowwidth\": 1}, \"coloraxis\": {\"colorbar\": {\"outlinewidth\": 0, \"ticks\": \"\"}}, \"colorscale\": {\"diverging\": [[0, \"#8e0152\"], [0.1, \"#c51b7d\"], [0.2, \"#de77ae\"], [0.3, \"#f1b6da\"], [0.4, \"#fde0ef\"], [0.5, \"#f7f7f7\"], [0.6, \"#e6f5d0\"], [0.7, \"#b8e186\"], [0.8, \"#7fbc41\"], [0.9, \"#4d9221\"], [1, \"#276419\"]], \"sequential\": [[0.0, \"#0d0887\"], [0.1111111111111111, \"#46039f\"], [0.2222222222222222, \"#7201a8\"], [0.3333333333333333, \"#9c179e\"], [0.4444444444444444, \"#bd3786\"], [0.5555555555555556, \"#d8576b\"], [0.6666666666666666, \"#ed7953\"], [0.7777777777777778, \"#fb9f3a\"], [0.8888888888888888, \"#fdca26\"], [1.0, \"#f0f921\"]], \"sequentialminus\": [[0.0, \"#0d0887\"], [0.1111111111111111, \"#46039f\"], [0.2222222222222222, \"#7201a8\"], [0.3333333333333333, \"#9c179e\"], [0.4444444444444444, \"#bd3786\"], [0.5555555555555556, \"#d8576b\"], [0.6666666666666666, \"#ed7953\"], [0.7777777777777778, \"#fb9f3a\"], [0.8888888888888888, \"#fdca26\"], [1.0, \"#f0f921\"]]}, \"colorway\": [\"#636efa\", \"#EF553B\", \"#00cc96\", \"#ab63fa\", \"#FFA15A\", \"#19d3f3\", \"#FF6692\", \"#B6E880\", \"#FF97FF\", \"#FECB52\"], \"font\": {\"color\": \"#2a3f5f\"}, \"geo\": {\"bgcolor\": \"white\", \"lakecolor\": \"white\", \"landcolor\": \"#E5ECF6\", \"showlakes\": true, \"showland\": true, \"subunitcolor\": \"white\"}, \"hoverlabel\": {\"align\": \"left\"}, \"hovermode\": \"closest\", \"mapbox\": {\"style\": \"light\"}, \"paper_bgcolor\": \"white\", \"plot_bgcolor\": \"#E5ECF6\", \"polar\": {\"angularaxis\": {\"gridcolor\": \"white\", \"linecolor\": \"white\", \"ticks\": \"\"}, \"bgcolor\": \"#E5ECF6\", \"radialaxis\": {\"gridcolor\": \"white\", \"linecolor\": \"white\", \"ticks\": \"\"}}, \"scene\": {\"xaxis\": {\"backgroundcolor\": \"#E5ECF6\", \"gridcolor\": \"white\", \"gridwidth\": 2, \"linecolor\": \"white\", \"showbackground\": true, \"ticks\": \"\", \"zerolinecolor\": \"white\"}, \"yaxis\": {\"backgroundcolor\": \"#E5ECF6\", \"gridcolor\": \"white\", \"gridwidth\": 2, \"linecolor\": \"white\", \"showbackground\": true, \"ticks\": \"\", \"zerolinecolor\": \"white\"}, \"zaxis\": {\"backgroundcolor\": \"#E5ECF6\", \"gridcolor\": \"white\", \"gridwidth\": 2, \"linecolor\": \"white\", \"showbackground\": true, \"ticks\": \"\", \"zerolinecolor\": \"white\"}}, \"shapedefaults\": {\"line\": {\"color\": \"#2a3f5f\"}}, \"ternary\": {\"aaxis\": {\"gridcolor\": \"white\", \"linecolor\": \"white\", \"ticks\": \"\"}, \"baxis\": {\"gridcolor\": \"white\", \"linecolor\": \"white\", \"ticks\": \"\"}, \"bgcolor\": \"#E5ECF6\", \"caxis\": {\"gridcolor\": \"white\", \"linecolor\": \"white\", \"ticks\": \"\"}}, \"title\": {\"x\": 0.05}, \"xaxis\": {\"automargin\": true, \"gridcolor\": \"white\", \"linecolor\": \"white\", \"ticks\": \"\", \"title\": {\"standoff\": 15}, \"zerolinecolor\": \"white\", \"zerolinewidth\": 2}, \"yaxis\": {\"automargin\": true, \"gridcolor\": \"white\", \"linecolor\": \"white\", \"ticks\": \"\", \"title\": {\"standoff\": 15}, \"zerolinecolor\": \"white\", \"zerolinewidth\": 2}}}, \"title\": {\"text\": \"Last date known to the system: 2018-11-01\", \"x\": 0.5, \"xanchor\": \"center\", \"y\": 0.95, \"yanchor\": \"top\"}, \"xaxis\": {\"anchor\": \"y\", \"domain\": [0.0, 1.0], \"title\": {\"text\": \"Date\"}}, \"yaxis\": {\"anchor\": \"x\", \"domain\": [0.0, 1.0], \"title\": {\"text\": \"Normalized crime count\"}}},\n",
              "                        {\"responsive\": true}\n",
              "                    ).then(function(){\n",
              "                            \n",
              "var gd = document.getElementById('03da6d0f-e73f-4c7b-8ac2-01a1628861ba');\n",
              "var x = new MutationObserver(function (mutations, observer) {{\n",
              "        var display = window.getComputedStyle(gd).display;\n",
              "        if (!display || display === 'none') {{\n",
              "            console.log([gd, 'removed!']);\n",
              "            Plotly.purge(gd);\n",
              "            observer.disconnect();\n",
              "        }}\n",
              "}});\n",
              "\n",
              "// Listen for the removal of the full notebook cells\n",
              "var notebookContainer = gd.closest('#notebook-container');\n",
              "if (notebookContainer) {{\n",
              "    x.observe(notebookContainer, {childList: true});\n",
              "}}\n",
              "\n",
              "// Listen for the clearing of the current output cell\n",
              "var outputEl = gd.closest('.output');\n",
              "if (outputEl) {{\n",
              "    x.observe(outputEl, {childList: true});\n",
              "}}\n",
              "\n",
              "                        })\n",
              "                };\n",
              "                \n",
              "            </script>\n",
              "        </div>\n",
              "</body>\n",
              "</html>"
            ]
          },
          "metadata": {
            "tags": []
          }
        }
      ]
    },
    {
      "cell_type": "code",
      "metadata": {
        "id": "5hOWiDTrUmGa",
        "colab_type": "code",
        "colab": {
          "base_uri": "https://localhost:8080/",
          "height": 542
        },
        "outputId": "3838badb-e6a6-401c-af33-e5824fa1001c"
      },
      "source": [
        "# x and y given as array_like objects\n",
        "import plotly.express as px\n",
        "fig = px.scatter(x=test_window, y=target_window)\n",
        "fig.show()"
      ],
      "execution_count": null,
      "outputs": [
        {
          "output_type": "display_data",
          "data": {
            "text/html": [
              "<html>\n",
              "<head><meta charset=\"utf-8\" /></head>\n",
              "<body>\n",
              "    <div>\n",
              "            <script src=\"https://cdnjs.cloudflare.com/ajax/libs/mathjax/2.7.5/MathJax.js?config=TeX-AMS-MML_SVG\"></script><script type=\"text/javascript\">if (window.MathJax) {MathJax.Hub.Config({SVG: {font: \"STIX-Web\"}});}</script>\n",
              "                <script type=\"text/javascript\">window.PlotlyConfig = {MathJaxConfig: 'local'};</script>\n",
              "        <script src=\"https://cdn.plot.ly/plotly-latest.min.js\"></script>    \n",
              "            <div id=\"a6f60f6a-70dc-4003-80ed-a332d3f21749\" class=\"plotly-graph-div\" style=\"height:525px; width:100%;\"></div>\n",
              "            <script type=\"text/javascript\">\n",
              "                \n",
              "                    window.PLOTLYENV=window.PLOTLYENV || {};\n",
              "                    \n",
              "                if (document.getElementById(\"a6f60f6a-70dc-4003-80ed-a332d3f21749\")) {\n",
              "                    Plotly.newPlot(\n",
              "                        'a6f60f6a-70dc-4003-80ed-a332d3f21749',\n",
              "                        [{\"hoverlabel\": {\"namelength\": 0}, \"hovertemplate\": \"x=%{x}<br>y=%{y}\", \"legendgroup\": \"\", \"marker\": {\"color\": \"#636efa\", \"symbol\": \"circle\"}, \"mode\": \"markers\", \"name\": \"\", \"showlegend\": false, \"type\": \"scatter\", \"x\": [0.214, 0.28600000000000003, 0.107, 0.214, 0.25, 0.214, 0.214, 0.28600000000000003, 0.28600000000000003, 0.14300000000000002, 0.214, 0.071, 0.14300000000000002, 0.14300000000000002, 0.214, 0.14300000000000002, 0.071, 0.179, 0.25], \"xaxis\": \"x\", \"y\": [0.214, 0.28600000000000003, 0.107, 0.214, 0.25, 0.214, 0.214, 0.28600000000000003, 0.28600000000000003, 0.14300000000000002, 0.214, 0.071, 0.14300000000000002, 0.14300000000000002, 0.214, 0.14300000000000002, 0.071, 0.429, 0.321], \"yaxis\": \"y\"}],\n",
              "                        {\"legend\": {\"tracegroupgap\": 0}, \"margin\": {\"t\": 60}, \"template\": {\"data\": {\"bar\": [{\"error_x\": {\"color\": \"#2a3f5f\"}, \"error_y\": {\"color\": \"#2a3f5f\"}, \"marker\": {\"line\": {\"color\": \"#E5ECF6\", \"width\": 0.5}}, \"type\": \"bar\"}], \"barpolar\": [{\"marker\": {\"line\": {\"color\": \"#E5ECF6\", \"width\": 0.5}}, \"type\": \"barpolar\"}], \"carpet\": [{\"aaxis\": {\"endlinecolor\": \"#2a3f5f\", \"gridcolor\": \"white\", \"linecolor\": \"white\", \"minorgridcolor\": \"white\", \"startlinecolor\": \"#2a3f5f\"}, \"baxis\": {\"endlinecolor\": \"#2a3f5f\", \"gridcolor\": \"white\", \"linecolor\": \"white\", \"minorgridcolor\": \"white\", \"startlinecolor\": \"#2a3f5f\"}, \"type\": \"carpet\"}], \"choropleth\": [{\"colorbar\": {\"outlinewidth\": 0, \"ticks\": \"\"}, \"type\": \"choropleth\"}], \"contour\": [{\"colorbar\": {\"outlinewidth\": 0, \"ticks\": \"\"}, \"colorscale\": [[0.0, \"#0d0887\"], [0.1111111111111111, \"#46039f\"], [0.2222222222222222, \"#7201a8\"], [0.3333333333333333, \"#9c179e\"], [0.4444444444444444, \"#bd3786\"], [0.5555555555555556, \"#d8576b\"], [0.6666666666666666, \"#ed7953\"], [0.7777777777777778, \"#fb9f3a\"], [0.8888888888888888, \"#fdca26\"], [1.0, \"#f0f921\"]], \"type\": \"contour\"}], \"contourcarpet\": [{\"colorbar\": {\"outlinewidth\": 0, \"ticks\": \"\"}, \"type\": \"contourcarpet\"}], \"heatmap\": [{\"colorbar\": {\"outlinewidth\": 0, \"ticks\": \"\"}, \"colorscale\": [[0.0, \"#0d0887\"], [0.1111111111111111, \"#46039f\"], [0.2222222222222222, \"#7201a8\"], [0.3333333333333333, \"#9c179e\"], [0.4444444444444444, \"#bd3786\"], [0.5555555555555556, \"#d8576b\"], [0.6666666666666666, \"#ed7953\"], [0.7777777777777778, \"#fb9f3a\"], [0.8888888888888888, \"#fdca26\"], [1.0, \"#f0f921\"]], \"type\": \"heatmap\"}], \"heatmapgl\": [{\"colorbar\": {\"outlinewidth\": 0, \"ticks\": \"\"}, \"colorscale\": [[0.0, \"#0d0887\"], [0.1111111111111111, \"#46039f\"], [0.2222222222222222, \"#7201a8\"], [0.3333333333333333, \"#9c179e\"], [0.4444444444444444, \"#bd3786\"], [0.5555555555555556, \"#d8576b\"], [0.6666666666666666, \"#ed7953\"], [0.7777777777777778, \"#fb9f3a\"], [0.8888888888888888, \"#fdca26\"], [1.0, \"#f0f921\"]], \"type\": \"heatmapgl\"}], \"histogram\": [{\"marker\": {\"colorbar\": {\"outlinewidth\": 0, \"ticks\": \"\"}}, \"type\": \"histogram\"}], \"histogram2d\": [{\"colorbar\": {\"outlinewidth\": 0, \"ticks\": \"\"}, \"colorscale\": [[0.0, \"#0d0887\"], [0.1111111111111111, \"#46039f\"], [0.2222222222222222, \"#7201a8\"], [0.3333333333333333, \"#9c179e\"], [0.4444444444444444, \"#bd3786\"], [0.5555555555555556, \"#d8576b\"], [0.6666666666666666, \"#ed7953\"], [0.7777777777777778, \"#fb9f3a\"], [0.8888888888888888, \"#fdca26\"], [1.0, \"#f0f921\"]], \"type\": \"histogram2d\"}], \"histogram2dcontour\": [{\"colorbar\": {\"outlinewidth\": 0, \"ticks\": \"\"}, \"colorscale\": [[0.0, \"#0d0887\"], [0.1111111111111111, \"#46039f\"], [0.2222222222222222, \"#7201a8\"], [0.3333333333333333, \"#9c179e\"], [0.4444444444444444, \"#bd3786\"], [0.5555555555555556, \"#d8576b\"], [0.6666666666666666, \"#ed7953\"], [0.7777777777777778, \"#fb9f3a\"], [0.8888888888888888, \"#fdca26\"], [1.0, \"#f0f921\"]], \"type\": \"histogram2dcontour\"}], \"mesh3d\": [{\"colorbar\": {\"outlinewidth\": 0, \"ticks\": \"\"}, \"type\": \"mesh3d\"}], \"parcoords\": [{\"line\": {\"colorbar\": {\"outlinewidth\": 0, \"ticks\": \"\"}}, \"type\": \"parcoords\"}], \"pie\": [{\"automargin\": true, \"type\": \"pie\"}], \"scatter\": [{\"marker\": {\"colorbar\": {\"outlinewidth\": 0, \"ticks\": \"\"}}, \"type\": \"scatter\"}], \"scatter3d\": [{\"line\": {\"colorbar\": {\"outlinewidth\": 0, \"ticks\": \"\"}}, \"marker\": {\"colorbar\": {\"outlinewidth\": 0, \"ticks\": \"\"}}, \"type\": \"scatter3d\"}], \"scattercarpet\": [{\"marker\": {\"colorbar\": {\"outlinewidth\": 0, \"ticks\": \"\"}}, \"type\": \"scattercarpet\"}], \"scattergeo\": [{\"marker\": {\"colorbar\": {\"outlinewidth\": 0, \"ticks\": \"\"}}, \"type\": \"scattergeo\"}], \"scattergl\": [{\"marker\": {\"colorbar\": {\"outlinewidth\": 0, \"ticks\": \"\"}}, \"type\": \"scattergl\"}], \"scattermapbox\": [{\"marker\": {\"colorbar\": {\"outlinewidth\": 0, \"ticks\": \"\"}}, \"type\": \"scattermapbox\"}], \"scatterpolar\": [{\"marker\": {\"colorbar\": {\"outlinewidth\": 0, \"ticks\": \"\"}}, \"type\": \"scatterpolar\"}], \"scatterpolargl\": [{\"marker\": {\"colorbar\": {\"outlinewidth\": 0, \"ticks\": \"\"}}, \"type\": \"scatterpolargl\"}], \"scatterternary\": [{\"marker\": {\"colorbar\": {\"outlinewidth\": 0, \"ticks\": \"\"}}, \"type\": \"scatterternary\"}], \"surface\": [{\"colorbar\": {\"outlinewidth\": 0, \"ticks\": \"\"}, \"colorscale\": [[0.0, \"#0d0887\"], [0.1111111111111111, \"#46039f\"], [0.2222222222222222, \"#7201a8\"], [0.3333333333333333, \"#9c179e\"], [0.4444444444444444, \"#bd3786\"], [0.5555555555555556, \"#d8576b\"], [0.6666666666666666, \"#ed7953\"], [0.7777777777777778, \"#fb9f3a\"], [0.8888888888888888, \"#fdca26\"], [1.0, \"#f0f921\"]], \"type\": \"surface\"}], \"table\": [{\"cells\": {\"fill\": {\"color\": \"#EBF0F8\"}, \"line\": {\"color\": \"white\"}}, \"header\": {\"fill\": {\"color\": \"#C8D4E3\"}, \"line\": {\"color\": \"white\"}}, \"type\": \"table\"}]}, \"layout\": {\"annotationdefaults\": {\"arrowcolor\": \"#2a3f5f\", \"arrowhead\": 0, \"arrowwidth\": 1}, \"coloraxis\": {\"colorbar\": {\"outlinewidth\": 0, \"ticks\": \"\"}}, \"colorscale\": {\"diverging\": [[0, \"#8e0152\"], [0.1, \"#c51b7d\"], [0.2, \"#de77ae\"], [0.3, \"#f1b6da\"], [0.4, \"#fde0ef\"], [0.5, \"#f7f7f7\"], [0.6, \"#e6f5d0\"], [0.7, \"#b8e186\"], [0.8, \"#7fbc41\"], [0.9, \"#4d9221\"], [1, \"#276419\"]], \"sequential\": [[0.0, \"#0d0887\"], [0.1111111111111111, \"#46039f\"], [0.2222222222222222, \"#7201a8\"], [0.3333333333333333, \"#9c179e\"], [0.4444444444444444, \"#bd3786\"], [0.5555555555555556, \"#d8576b\"], [0.6666666666666666, \"#ed7953\"], [0.7777777777777778, \"#fb9f3a\"], [0.8888888888888888, \"#fdca26\"], [1.0, \"#f0f921\"]], \"sequentialminus\": [[0.0, \"#0d0887\"], [0.1111111111111111, \"#46039f\"], [0.2222222222222222, \"#7201a8\"], [0.3333333333333333, \"#9c179e\"], [0.4444444444444444, \"#bd3786\"], [0.5555555555555556, \"#d8576b\"], [0.6666666666666666, \"#ed7953\"], [0.7777777777777778, \"#fb9f3a\"], [0.8888888888888888, \"#fdca26\"], [1.0, \"#f0f921\"]]}, \"colorway\": [\"#636efa\", \"#EF553B\", \"#00cc96\", \"#ab63fa\", \"#FFA15A\", \"#19d3f3\", \"#FF6692\", \"#B6E880\", \"#FF97FF\", \"#FECB52\"], \"font\": {\"color\": \"#2a3f5f\"}, \"geo\": {\"bgcolor\": \"white\", \"lakecolor\": \"white\", \"landcolor\": \"#E5ECF6\", \"showlakes\": true, \"showland\": true, \"subunitcolor\": \"white\"}, \"hoverlabel\": {\"align\": \"left\"}, \"hovermode\": \"closest\", \"mapbox\": {\"style\": \"light\"}, \"paper_bgcolor\": \"white\", \"plot_bgcolor\": \"#E5ECF6\", \"polar\": {\"angularaxis\": {\"gridcolor\": \"white\", \"linecolor\": \"white\", \"ticks\": \"\"}, \"bgcolor\": \"#E5ECF6\", \"radialaxis\": {\"gridcolor\": \"white\", \"linecolor\": \"white\", \"ticks\": \"\"}}, \"scene\": {\"xaxis\": {\"backgroundcolor\": \"#E5ECF6\", \"gridcolor\": \"white\", \"gridwidth\": 2, \"linecolor\": \"white\", \"showbackground\": true, \"ticks\": \"\", \"zerolinecolor\": \"white\"}, \"yaxis\": {\"backgroundcolor\": \"#E5ECF6\", \"gridcolor\": \"white\", \"gridwidth\": 2, \"linecolor\": \"white\", \"showbackground\": true, \"ticks\": \"\", \"zerolinecolor\": \"white\"}, \"zaxis\": {\"backgroundcolor\": \"#E5ECF6\", \"gridcolor\": \"white\", \"gridwidth\": 2, \"linecolor\": \"white\", \"showbackground\": true, \"ticks\": \"\", \"zerolinecolor\": \"white\"}}, \"shapedefaults\": {\"line\": {\"color\": \"#2a3f5f\"}}, \"ternary\": {\"aaxis\": {\"gridcolor\": \"white\", \"linecolor\": \"white\", \"ticks\": \"\"}, \"baxis\": {\"gridcolor\": \"white\", \"linecolor\": \"white\", \"ticks\": \"\"}, \"bgcolor\": \"#E5ECF6\", \"caxis\": {\"gridcolor\": \"white\", \"linecolor\": \"white\", \"ticks\": \"\"}}, \"title\": {\"x\": 0.05}, \"xaxis\": {\"automargin\": true, \"gridcolor\": \"white\", \"linecolor\": \"white\", \"ticks\": \"\", \"title\": {\"standoff\": 15}, \"zerolinecolor\": \"white\", \"zerolinewidth\": 2}, \"yaxis\": {\"automargin\": true, \"gridcolor\": \"white\", \"linecolor\": \"white\", \"ticks\": \"\", \"title\": {\"standoff\": 15}, \"zerolinecolor\": \"white\", \"zerolinewidth\": 2}}}, \"xaxis\": {\"anchor\": \"y\", \"domain\": [0.0, 1.0], \"title\": {\"text\": \"x\"}}, \"yaxis\": {\"anchor\": \"x\", \"domain\": [0.0, 1.0], \"title\": {\"text\": \"y\"}}},\n",
              "                        {\"responsive\": true}\n",
              "                    ).then(function(){\n",
              "                            \n",
              "var gd = document.getElementById('a6f60f6a-70dc-4003-80ed-a332d3f21749');\n",
              "var x = new MutationObserver(function (mutations, observer) {{\n",
              "        var display = window.getComputedStyle(gd).display;\n",
              "        if (!display || display === 'none') {{\n",
              "            console.log([gd, 'removed!']);\n",
              "            Plotly.purge(gd);\n",
              "            observer.disconnect();\n",
              "        }}\n",
              "}});\n",
              "\n",
              "// Listen for the removal of the full notebook cells\n",
              "var notebookContainer = gd.closest('#notebook-container');\n",
              "if (notebookContainer) {{\n",
              "    x.observe(notebookContainer, {childList: true});\n",
              "}}\n",
              "\n",
              "// Listen for the clearing of the current output cell\n",
              "var outputEl = gd.closest('.output');\n",
              "if (outputEl) {{\n",
              "    x.observe(outputEl, {childList: true});\n",
              "}}\n",
              "\n",
              "                        })\n",
              "                };\n",
              "                \n",
              "            </script>\n",
              "        </div>\n",
              "</body>\n",
              "</html>"
            ]
          },
          "metadata": {
            "tags": []
          }
        }
      ]
    },
    {
      "cell_type": "code",
      "metadata": {
        "id": "6_2G6_i-ZhwK",
        "colab_type": "code",
        "colab": {
          "base_uri": "https://localhost:8080/",
          "height": 72
        },
        "outputId": "53d243f4-e88b-4a2e-910d-e68d45731e52"
      },
      "source": [
        "#targets.sub(predictions).pow(2).mean() #RMS Error\n",
        "rms=df['value'].sub(df1['value']).pow(2).mean()\n",
        "\n",
        "#Estimate variance\n",
        "(df['value'] - (df1['value'] )) / df['value']\n",
        "\n",
        "print(rms)\n",
        "print(rms**2)\n",
        "\n",
        "from sklearn.metrics import mean_squared_error\n",
        "from math import sqrt\n",
        "\n",
        "test=df['value']\n",
        "predictions=df1['value']\n",
        "\n",
        "rmse = sqrt(mean_squared_error(test, predictions))\n",
        "print('RMSE: %.3f' % rmse)\n",
        "\n"
      ],
      "execution_count": null,
      "outputs": [
        {
          "output_type": "stream",
          "text": [
            "0.003554789473684211\n",
            "1.2636528202216068e-05\n",
            "RMSE: 0.060\n"
          ],
          "name": "stdout"
        }
      ]
    },
    {
      "cell_type": "code",
      "metadata": {
        "id": "0O4eVx5k7u6L",
        "colab_type": "code",
        "colab": {
          "base_uri": "https://localhost:8080/",
          "height": 817
        },
        "outputId": "bdb41231-b89c-4d23-a267-f40e6ee73e78"
      },
      "source": [
        "from plotly.subplots import make_subplots\n",
        "import plotly.graph_objects as go\n",
        "\n",
        "fig = make_subplots(rows=3, cols=1,\n",
        "                subplot_titles=('Last date know to the system '+str(end_date),\n",
        "                'Last date know to the system '+str(end_date),\n",
        "                'Last date know to the system '+str(end_date)\n",
        "                )                    \n",
        "                    )\n",
        "\n",
        "fig.append_trace(go.Scatter(\n",
        "    x=list(df3.iloc[:len(test_window),:].index),\n",
        "    y=list(df3.iloc[:len(test_window),:]['value']),\n",
        "), row=1, col=1)\n",
        "\n",
        "fig.append_trace(go.Scatter(\n",
        "    x=list(df3.iloc[len(test_window):,:].index),\n",
        "    y=list(df3.iloc[len(test_window):,:]['value']),\n",
        "), row=1, col=1)\n",
        "\n",
        "fig.append_trace(go.Scatter(\n",
        "    x=list(df3.index),\n",
        "    y=list(df3['value']),\n",
        "), row=2, col=1)\n",
        "\n",
        "fig.append_trace(go.Scatter(\n",
        "    x=list(df3.index),\n",
        "    y=list(df3['value']),\n",
        "), row=3, col=1)\n",
        "\n",
        "# Update xaxis properties\n",
        "fig.update_xaxes(title_text=\"Date\", row=1, col=1)\n",
        "fig.update_xaxes(title_text=\"Date\", row=2, col=1)\n",
        "fig.update_xaxes(title_text=\"Date\", row=3, col=1)\n",
        "\n",
        "#fig.update_xaxes(title_text=\"Date\", range=[10, 50], row=1, col=2)\n",
        "#fig.update_xaxes(title_text=\"Date\", showgrid=False, row=2, col=1)\n",
        "#fig.update_xaxes(title_text=\"Date\", type=\"log\", row=2, col=2)\n",
        "\n",
        "# Update yaxis properties\n",
        "fig.update_yaxes(title_text=\"Normalized crime count\", row=1, col=1)\n",
        "fig.update_yaxes(title_text=\"Normalized crime count\", row=2, col=1)\n",
        "fig.update_yaxes(title_text=\"Normalized crime count\", row=3, col=1)\n",
        "#fig.update_yaxes(title_text=\"yaxis 2 title\", range=[40, 80], row=1, col=2)\n",
        "#fig.update_yaxes(title_text=\"yaxis 3 title\", showgrid=False, row=2, col=1)\n",
        "#fig.update_yaxes(title_text=\"yaxis 4 title\", row=2, col=2)\n",
        "\n",
        "fig.update_layout(height=800, width=800, title_text=\"Stacked Subplots\")\n",
        "fig.show()"
      ],
      "execution_count": null,
      "outputs": [
        {
          "output_type": "display_data",
          "data": {
            "text/html": [
              "<html>\n",
              "<head><meta charset=\"utf-8\" /></head>\n",
              "<body>\n",
              "    <div>\n",
              "            <script src=\"https://cdnjs.cloudflare.com/ajax/libs/mathjax/2.7.5/MathJax.js?config=TeX-AMS-MML_SVG\"></script><script type=\"text/javascript\">if (window.MathJax) {MathJax.Hub.Config({SVG: {font: \"STIX-Web\"}});}</script>\n",
              "                <script type=\"text/javascript\">window.PlotlyConfig = {MathJaxConfig: 'local'};</script>\n",
              "        <script src=\"https://cdn.plot.ly/plotly-latest.min.js\"></script>    \n",
              "            <div id=\"45efb485-5a31-4b96-8600-2405866c220b\" class=\"plotly-graph-div\" style=\"height:800px; width:800px;\"></div>\n",
              "            <script type=\"text/javascript\">\n",
              "                \n",
              "                    window.PLOTLYENV=window.PLOTLYENV || {};\n",
              "                    \n",
              "                if (document.getElementById(\"45efb485-5a31-4b96-8600-2405866c220b\")) {\n",
              "                    Plotly.newPlot(\n",
              "                        '45efb485-5a31-4b96-8600-2405866c220b',\n",
              "                        [{\"type\": \"scatter\", \"x\": [\"2018-10-23T00:00:00\", \"2018-10-24T00:00:00\", \"2018-10-25T00:00:00\", \"2018-10-26T00:00:00\", \"2018-10-27T00:00:00\", \"2018-10-28T00:00:00\", \"2018-10-29T00:00:00\", \"2018-10-30T00:00:00\", \"2018-10-31T00:00:00\", \"2018-11-01T00:00:00\", \"2018-11-02T00:00:00\", \"2018-11-03T00:00:00\", \"2018-11-04T00:00:00\", \"2018-11-05T00:00:00\", \"2018-11-06T00:00:00\", \"2018-11-07T00:00:00\", \"2018-11-08T00:00:00\", \"2018-11-09T00:00:00\", \"2018-11-10T00:00:00\"], \"xaxis\": \"x\", \"y\": [0.214, 0.28600000000000003, 0.107, 0.214, 0.25, 0.214, 0.214, 0.28600000000000003, 0.28600000000000003, 0.14300000000000002, 0.214, 0.071, 0.14300000000000002, 0.14300000000000002, 0.214, 0.14300000000000002, 0.071, 0.179, 0.25], \"yaxis\": \"y\"}, {\"type\": \"scatter\", \"x\": [\"2018-10-23T00:00:00\", \"2018-10-24T00:00:00\", \"2018-10-25T00:00:00\", \"2018-10-26T00:00:00\", \"2018-10-27T00:00:00\", \"2018-10-28T00:00:00\", \"2018-10-29T00:00:00\", \"2018-10-30T00:00:00\", \"2018-10-31T00:00:00\", \"2018-11-01T00:00:00\", \"2018-11-02T00:00:00\", \"2018-11-03T00:00:00\", \"2018-11-04T00:00:00\", \"2018-11-05T00:00:00\", \"2018-11-06T00:00:00\", \"2018-11-07T00:00:00\", \"2018-11-08T00:00:00\", \"2018-11-09T00:00:00\", \"2018-11-10T00:00:00\"], \"xaxis\": \"x\", \"y\": [0.214, 0.28600000000000003, 0.107, 0.214, 0.25, 0.214, 0.214, 0.28600000000000003, 0.28600000000000003, 0.14300000000000002, 0.214, 0.071, 0.14300000000000002, 0.14300000000000002, 0.214, 0.14300000000000002, 0.071, 0.429, 0.321], \"yaxis\": \"y\"}, {\"type\": \"scatter\", \"x\": [\"2018-10-23T00:00:00\", \"2018-10-24T00:00:00\", \"2018-10-25T00:00:00\", \"2018-10-26T00:00:00\", \"2018-10-27T00:00:00\", \"2018-10-28T00:00:00\", \"2018-10-29T00:00:00\", \"2018-10-30T00:00:00\", \"2018-10-31T00:00:00\", \"2018-11-01T00:00:00\", \"2018-11-02T00:00:00\", \"2018-11-03T00:00:00\", \"2018-11-04T00:00:00\", \"2018-11-05T00:00:00\", \"2018-11-06T00:00:00\", \"2018-11-07T00:00:00\", \"2018-11-08T00:00:00\", \"2018-11-09T00:00:00\", \"2018-11-10T00:00:00\", \"2018-10-23T00:00:00\", \"2018-10-24T00:00:00\", \"2018-10-25T00:00:00\", \"2018-10-26T00:00:00\", \"2018-10-27T00:00:00\", \"2018-10-28T00:00:00\", \"2018-10-29T00:00:00\", \"2018-10-30T00:00:00\", \"2018-10-31T00:00:00\", \"2018-11-01T00:00:00\", \"2018-11-02T00:00:00\", \"2018-11-03T00:00:00\", \"2018-11-04T00:00:00\", \"2018-11-05T00:00:00\", \"2018-11-06T00:00:00\", \"2018-11-07T00:00:00\", \"2018-11-08T00:00:00\", \"2018-11-09T00:00:00\", \"2018-11-10T00:00:00\"], \"xaxis\": \"x2\", \"y\": [0.214, 0.28600000000000003, 0.107, 0.214, 0.25, 0.214, 0.214, 0.28600000000000003, 0.28600000000000003, 0.14300000000000002, 0.214, 0.071, 0.14300000000000002, 0.14300000000000002, 0.214, 0.14300000000000002, 0.071, 0.179, 0.25, 0.214, 0.28600000000000003, 0.107, 0.214, 0.25, 0.214, 0.214, 0.28600000000000003, 0.28600000000000003, 0.14300000000000002, 0.214, 0.071, 0.14300000000000002, 0.14300000000000002, 0.214, 0.14300000000000002, 0.071, 0.429, 0.321], \"yaxis\": \"y2\"}, {\"type\": \"scatter\", \"x\": [\"2018-10-23T00:00:00\", \"2018-10-24T00:00:00\", \"2018-10-25T00:00:00\", \"2018-10-26T00:00:00\", \"2018-10-27T00:00:00\", \"2018-10-28T00:00:00\", \"2018-10-29T00:00:00\", \"2018-10-30T00:00:00\", \"2018-10-31T00:00:00\", \"2018-11-01T00:00:00\", \"2018-11-02T00:00:00\", \"2018-11-03T00:00:00\", \"2018-11-04T00:00:00\", \"2018-11-05T00:00:00\", \"2018-11-06T00:00:00\", \"2018-11-07T00:00:00\", \"2018-11-08T00:00:00\", \"2018-11-09T00:00:00\", \"2018-11-10T00:00:00\", \"2018-10-23T00:00:00\", \"2018-10-24T00:00:00\", \"2018-10-25T00:00:00\", \"2018-10-26T00:00:00\", \"2018-10-27T00:00:00\", \"2018-10-28T00:00:00\", \"2018-10-29T00:00:00\", \"2018-10-30T00:00:00\", \"2018-10-31T00:00:00\", \"2018-11-01T00:00:00\", \"2018-11-02T00:00:00\", \"2018-11-03T00:00:00\", \"2018-11-04T00:00:00\", \"2018-11-05T00:00:00\", \"2018-11-06T00:00:00\", \"2018-11-07T00:00:00\", \"2018-11-08T00:00:00\", \"2018-11-09T00:00:00\", \"2018-11-10T00:00:00\"], \"xaxis\": \"x3\", \"y\": [0.214, 0.28600000000000003, 0.107, 0.214, 0.25, 0.214, 0.214, 0.28600000000000003, 0.28600000000000003, 0.14300000000000002, 0.214, 0.071, 0.14300000000000002, 0.14300000000000002, 0.214, 0.14300000000000002, 0.071, 0.179, 0.25, 0.214, 0.28600000000000003, 0.107, 0.214, 0.25, 0.214, 0.214, 0.28600000000000003, 0.28600000000000003, 0.14300000000000002, 0.214, 0.071, 0.14300000000000002, 0.14300000000000002, 0.214, 0.14300000000000002, 0.071, 0.429, 0.321], \"yaxis\": \"y3\"}],\n",
              "                        {\"annotations\": [{\"font\": {\"size\": 16}, \"showarrow\": false, \"text\": \"Last date know to the system 2018-11-01\", \"x\": 0.5, \"xanchor\": \"center\", \"xref\": \"paper\", \"y\": 1.0, \"yanchor\": \"bottom\", \"yref\": \"paper\"}, {\"font\": {\"size\": 16}, \"showarrow\": false, \"text\": \"Last date know to the system 2018-11-01\", \"x\": 0.5, \"xanchor\": \"center\", \"xref\": \"paper\", \"y\": 0.6111111111111112, \"yanchor\": \"bottom\", \"yref\": \"paper\"}, {\"font\": {\"size\": 16}, \"showarrow\": false, \"text\": \"Last date know to the system 2018-11-01\", \"x\": 0.5, \"xanchor\": \"center\", \"xref\": \"paper\", \"y\": 0.22222222222222224, \"yanchor\": \"bottom\", \"yref\": \"paper\"}], \"height\": 800, \"template\": {\"data\": {\"bar\": [{\"error_x\": {\"color\": \"#2a3f5f\"}, \"error_y\": {\"color\": \"#2a3f5f\"}, \"marker\": {\"line\": {\"color\": \"#E5ECF6\", \"width\": 0.5}}, \"type\": \"bar\"}], \"barpolar\": [{\"marker\": {\"line\": {\"color\": \"#E5ECF6\", \"width\": 0.5}}, \"type\": \"barpolar\"}], \"carpet\": [{\"aaxis\": {\"endlinecolor\": \"#2a3f5f\", \"gridcolor\": \"white\", \"linecolor\": \"white\", \"minorgridcolor\": \"white\", \"startlinecolor\": \"#2a3f5f\"}, \"baxis\": {\"endlinecolor\": \"#2a3f5f\", \"gridcolor\": \"white\", \"linecolor\": \"white\", \"minorgridcolor\": \"white\", \"startlinecolor\": \"#2a3f5f\"}, \"type\": \"carpet\"}], \"choropleth\": [{\"colorbar\": {\"outlinewidth\": 0, \"ticks\": \"\"}, \"type\": \"choropleth\"}], \"contour\": [{\"colorbar\": {\"outlinewidth\": 0, \"ticks\": \"\"}, \"colorscale\": [[0.0, \"#0d0887\"], [0.1111111111111111, \"#46039f\"], [0.2222222222222222, \"#7201a8\"], [0.3333333333333333, \"#9c179e\"], [0.4444444444444444, \"#bd3786\"], [0.5555555555555556, \"#d8576b\"], [0.6666666666666666, \"#ed7953\"], [0.7777777777777778, \"#fb9f3a\"], [0.8888888888888888, \"#fdca26\"], [1.0, \"#f0f921\"]], \"type\": \"contour\"}], \"contourcarpet\": [{\"colorbar\": {\"outlinewidth\": 0, \"ticks\": \"\"}, \"type\": \"contourcarpet\"}], \"heatmap\": [{\"colorbar\": {\"outlinewidth\": 0, \"ticks\": \"\"}, \"colorscale\": [[0.0, \"#0d0887\"], [0.1111111111111111, \"#46039f\"], [0.2222222222222222, \"#7201a8\"], [0.3333333333333333, \"#9c179e\"], [0.4444444444444444, \"#bd3786\"], [0.5555555555555556, \"#d8576b\"], [0.6666666666666666, \"#ed7953\"], [0.7777777777777778, \"#fb9f3a\"], [0.8888888888888888, \"#fdca26\"], [1.0, \"#f0f921\"]], \"type\": \"heatmap\"}], \"heatmapgl\": [{\"colorbar\": {\"outlinewidth\": 0, \"ticks\": \"\"}, \"colorscale\": [[0.0, \"#0d0887\"], [0.1111111111111111, \"#46039f\"], [0.2222222222222222, \"#7201a8\"], [0.3333333333333333, \"#9c179e\"], [0.4444444444444444, \"#bd3786\"], [0.5555555555555556, \"#d8576b\"], [0.6666666666666666, \"#ed7953\"], [0.7777777777777778, \"#fb9f3a\"], [0.8888888888888888, \"#fdca26\"], [1.0, \"#f0f921\"]], \"type\": \"heatmapgl\"}], \"histogram\": [{\"marker\": {\"colorbar\": {\"outlinewidth\": 0, \"ticks\": \"\"}}, \"type\": \"histogram\"}], \"histogram2d\": [{\"colorbar\": {\"outlinewidth\": 0, \"ticks\": \"\"}, \"colorscale\": [[0.0, \"#0d0887\"], [0.1111111111111111, \"#46039f\"], [0.2222222222222222, \"#7201a8\"], [0.3333333333333333, \"#9c179e\"], [0.4444444444444444, \"#bd3786\"], [0.5555555555555556, \"#d8576b\"], [0.6666666666666666, \"#ed7953\"], [0.7777777777777778, \"#fb9f3a\"], [0.8888888888888888, \"#fdca26\"], [1.0, \"#f0f921\"]], \"type\": \"histogram2d\"}], \"histogram2dcontour\": [{\"colorbar\": {\"outlinewidth\": 0, \"ticks\": \"\"}, \"colorscale\": [[0.0, \"#0d0887\"], [0.1111111111111111, \"#46039f\"], [0.2222222222222222, \"#7201a8\"], [0.3333333333333333, \"#9c179e\"], [0.4444444444444444, \"#bd3786\"], [0.5555555555555556, \"#d8576b\"], [0.6666666666666666, \"#ed7953\"], [0.7777777777777778, \"#fb9f3a\"], [0.8888888888888888, \"#fdca26\"], [1.0, \"#f0f921\"]], \"type\": \"histogram2dcontour\"}], \"mesh3d\": [{\"colorbar\": {\"outlinewidth\": 0, \"ticks\": \"\"}, \"type\": \"mesh3d\"}], \"parcoords\": [{\"line\": {\"colorbar\": {\"outlinewidth\": 0, \"ticks\": \"\"}}, \"type\": \"parcoords\"}], \"pie\": [{\"automargin\": true, \"type\": \"pie\"}], \"scatter\": [{\"marker\": {\"colorbar\": {\"outlinewidth\": 0, \"ticks\": \"\"}}, \"type\": \"scatter\"}], \"scatter3d\": [{\"line\": {\"colorbar\": {\"outlinewidth\": 0, \"ticks\": \"\"}}, \"marker\": {\"colorbar\": {\"outlinewidth\": 0, \"ticks\": \"\"}}, \"type\": \"scatter3d\"}], \"scattercarpet\": [{\"marker\": {\"colorbar\": {\"outlinewidth\": 0, \"ticks\": \"\"}}, \"type\": \"scattercarpet\"}], \"scattergeo\": [{\"marker\": {\"colorbar\": {\"outlinewidth\": 0, \"ticks\": \"\"}}, \"type\": \"scattergeo\"}], \"scattergl\": [{\"marker\": {\"colorbar\": {\"outlinewidth\": 0, \"ticks\": \"\"}}, \"type\": \"scattergl\"}], \"scattermapbox\": [{\"marker\": {\"colorbar\": {\"outlinewidth\": 0, \"ticks\": \"\"}}, \"type\": \"scattermapbox\"}], \"scatterpolar\": [{\"marker\": {\"colorbar\": {\"outlinewidth\": 0, \"ticks\": \"\"}}, \"type\": \"scatterpolar\"}], \"scatterpolargl\": [{\"marker\": {\"colorbar\": {\"outlinewidth\": 0, \"ticks\": \"\"}}, \"type\": \"scatterpolargl\"}], \"scatterternary\": [{\"marker\": {\"colorbar\": {\"outlinewidth\": 0, \"ticks\": \"\"}}, \"type\": \"scatterternary\"}], \"surface\": [{\"colorbar\": {\"outlinewidth\": 0, \"ticks\": \"\"}, \"colorscale\": [[0.0, \"#0d0887\"], [0.1111111111111111, \"#46039f\"], [0.2222222222222222, \"#7201a8\"], [0.3333333333333333, \"#9c179e\"], [0.4444444444444444, \"#bd3786\"], [0.5555555555555556, \"#d8576b\"], [0.6666666666666666, \"#ed7953\"], [0.7777777777777778, \"#fb9f3a\"], [0.8888888888888888, \"#fdca26\"], [1.0, \"#f0f921\"]], \"type\": \"surface\"}], \"table\": [{\"cells\": {\"fill\": {\"color\": \"#EBF0F8\"}, \"line\": {\"color\": \"white\"}}, \"header\": {\"fill\": {\"color\": \"#C8D4E3\"}, \"line\": {\"color\": \"white\"}}, \"type\": \"table\"}]}, \"layout\": {\"annotationdefaults\": {\"arrowcolor\": \"#2a3f5f\", \"arrowhead\": 0, \"arrowwidth\": 1}, \"coloraxis\": {\"colorbar\": {\"outlinewidth\": 0, \"ticks\": \"\"}}, \"colorscale\": {\"diverging\": [[0, \"#8e0152\"], [0.1, \"#c51b7d\"], [0.2, \"#de77ae\"], [0.3, \"#f1b6da\"], [0.4, \"#fde0ef\"], [0.5, \"#f7f7f7\"], [0.6, \"#e6f5d0\"], [0.7, \"#b8e186\"], [0.8, \"#7fbc41\"], [0.9, \"#4d9221\"], [1, \"#276419\"]], \"sequential\": [[0.0, \"#0d0887\"], [0.1111111111111111, \"#46039f\"], [0.2222222222222222, \"#7201a8\"], [0.3333333333333333, \"#9c179e\"], [0.4444444444444444, \"#bd3786\"], [0.5555555555555556, \"#d8576b\"], [0.6666666666666666, \"#ed7953\"], [0.7777777777777778, \"#fb9f3a\"], [0.8888888888888888, \"#fdca26\"], [1.0, \"#f0f921\"]], \"sequentialminus\": [[0.0, \"#0d0887\"], [0.1111111111111111, \"#46039f\"], [0.2222222222222222, \"#7201a8\"], [0.3333333333333333, \"#9c179e\"], [0.4444444444444444, \"#bd3786\"], [0.5555555555555556, \"#d8576b\"], [0.6666666666666666, \"#ed7953\"], [0.7777777777777778, \"#fb9f3a\"], [0.8888888888888888, \"#fdca26\"], [1.0, \"#f0f921\"]]}, \"colorway\": [\"#636efa\", \"#EF553B\", \"#00cc96\", \"#ab63fa\", \"#FFA15A\", \"#19d3f3\", \"#FF6692\", \"#B6E880\", \"#FF97FF\", \"#FECB52\"], \"font\": {\"color\": \"#2a3f5f\"}, \"geo\": {\"bgcolor\": \"white\", \"lakecolor\": \"white\", \"landcolor\": \"#E5ECF6\", \"showlakes\": true, \"showland\": true, \"subunitcolor\": \"white\"}, \"hoverlabel\": {\"align\": \"left\"}, \"hovermode\": \"closest\", \"mapbox\": {\"style\": \"light\"}, \"paper_bgcolor\": \"white\", \"plot_bgcolor\": \"#E5ECF6\", \"polar\": {\"angularaxis\": {\"gridcolor\": \"white\", \"linecolor\": \"white\", \"ticks\": \"\"}, \"bgcolor\": \"#E5ECF6\", \"radialaxis\": {\"gridcolor\": \"white\", \"linecolor\": \"white\", \"ticks\": \"\"}}, \"scene\": {\"xaxis\": {\"backgroundcolor\": \"#E5ECF6\", \"gridcolor\": \"white\", \"gridwidth\": 2, \"linecolor\": \"white\", \"showbackground\": true, \"ticks\": \"\", \"zerolinecolor\": \"white\"}, \"yaxis\": {\"backgroundcolor\": \"#E5ECF6\", \"gridcolor\": \"white\", \"gridwidth\": 2, \"linecolor\": \"white\", \"showbackground\": true, \"ticks\": \"\", \"zerolinecolor\": \"white\"}, \"zaxis\": {\"backgroundcolor\": \"#E5ECF6\", \"gridcolor\": \"white\", \"gridwidth\": 2, \"linecolor\": \"white\", \"showbackground\": true, \"ticks\": \"\", \"zerolinecolor\": \"white\"}}, \"shapedefaults\": {\"line\": {\"color\": \"#2a3f5f\"}}, \"ternary\": {\"aaxis\": {\"gridcolor\": \"white\", \"linecolor\": \"white\", \"ticks\": \"\"}, \"baxis\": {\"gridcolor\": \"white\", \"linecolor\": \"white\", \"ticks\": \"\"}, \"bgcolor\": \"#E5ECF6\", \"caxis\": {\"gridcolor\": \"white\", \"linecolor\": \"white\", \"ticks\": \"\"}}, \"title\": {\"x\": 0.05}, \"xaxis\": {\"automargin\": true, \"gridcolor\": \"white\", \"linecolor\": \"white\", \"ticks\": \"\", \"title\": {\"standoff\": 15}, \"zerolinecolor\": \"white\", \"zerolinewidth\": 2}, \"yaxis\": {\"automargin\": true, \"gridcolor\": \"white\", \"linecolor\": \"white\", \"ticks\": \"\", \"title\": {\"standoff\": 15}, \"zerolinecolor\": \"white\", \"zerolinewidth\": 2}}}, \"title\": {\"text\": \"Stacked Subplots\"}, \"width\": 800, \"xaxis\": {\"anchor\": \"y\", \"domain\": [0.0, 1.0], \"title\": {\"text\": \"Date\"}}, \"xaxis2\": {\"anchor\": \"y2\", \"domain\": [0.0, 1.0], \"title\": {\"text\": \"Date\"}}, \"xaxis3\": {\"anchor\": \"y3\", \"domain\": [0.0, 1.0], \"title\": {\"text\": \"Date\"}}, \"yaxis\": {\"anchor\": \"x\", \"domain\": [0.7777777777777778, 1.0], \"title\": {\"text\": \"Normalized crime count\"}}, \"yaxis2\": {\"anchor\": \"x2\", \"domain\": [0.3888888888888889, 0.6111111111111112], \"title\": {\"text\": \"Normalized crime count\"}}, \"yaxis3\": {\"anchor\": \"x3\", \"domain\": [0.0, 0.22222222222222224], \"title\": {\"text\": \"Normalized crime count\"}}},\n",
              "                        {\"responsive\": true}\n",
              "                    ).then(function(){\n",
              "                            \n",
              "var gd = document.getElementById('45efb485-5a31-4b96-8600-2405866c220b');\n",
              "var x = new MutationObserver(function (mutations, observer) {{\n",
              "        var display = window.getComputedStyle(gd).display;\n",
              "        if (!display || display === 'none') {{\n",
              "            console.log([gd, 'removed!']);\n",
              "            Plotly.purge(gd);\n",
              "            observer.disconnect();\n",
              "        }}\n",
              "}});\n",
              "\n",
              "// Listen for the removal of the full notebook cells\n",
              "var notebookContainer = gd.closest('#notebook-container');\n",
              "if (notebookContainer) {{\n",
              "    x.observe(notebookContainer, {childList: true});\n",
              "}}\n",
              "\n",
              "// Listen for the clearing of the current output cell\n",
              "var outputEl = gd.closest('.output');\n",
              "if (outputEl) {{\n",
              "    x.observe(outputEl, {childList: true});\n",
              "}}\n",
              "\n",
              "                        })\n",
              "                };\n",
              "                \n",
              "            </script>\n",
              "        </div>\n",
              "</body>\n",
              "</html>"
            ]
          },
          "metadata": {
            "tags": []
          }
        }
      ]
    },
    {
      "cell_type": "code",
      "metadata": {
        "id": "LHl0BAVngWJO",
        "colab_type": "code",
        "colab": {
          "base_uri": "https://localhost:8080/",
          "height": 645
        },
        "outputId": "802208e2-92fc-41ae-cdfb-da5172e7d82c"
      },
      "source": [
        "df3[:int(len(df3)/2)].set_index(test_window.index,drop=True)\n",
        "df3[int(len(df3)/2):].set_index(test_window.index,drop=True)"
      ],
      "execution_count": null,
      "outputs": [
        {
          "output_type": "execute_result",
          "data": {
            "text/html": [
              "<div>\n",
              "<style scoped>\n",
              "    .dataframe tbody tr th:only-of-type {\n",
              "        vertical-align: middle;\n",
              "    }\n",
              "\n",
              "    .dataframe tbody tr th {\n",
              "        vertical-align: top;\n",
              "    }\n",
              "\n",
              "    .dataframe thead th {\n",
              "        text-align: right;\n",
              "    }\n",
              "</style>\n",
              "<table border=\"1\" class=\"dataframe\">\n",
              "  <thead>\n",
              "    <tr style=\"text-align: right;\">\n",
              "      <th></th>\n",
              "      <th>value</th>\n",
              "      <th>code</th>\n",
              "    </tr>\n",
              "  </thead>\n",
              "  <tbody>\n",
              "    <tr>\n",
              "      <th>2018-10-23</th>\n",
              "      <td>0.214</td>\n",
              "      <td>Algorithm</td>\n",
              "    </tr>\n",
              "    <tr>\n",
              "      <th>2018-10-24</th>\n",
              "      <td>0.286</td>\n",
              "      <td>Algorithm</td>\n",
              "    </tr>\n",
              "    <tr>\n",
              "      <th>2018-10-25</th>\n",
              "      <td>0.107</td>\n",
              "      <td>Algorithm</td>\n",
              "    </tr>\n",
              "    <tr>\n",
              "      <th>2018-10-26</th>\n",
              "      <td>0.214</td>\n",
              "      <td>Algorithm</td>\n",
              "    </tr>\n",
              "    <tr>\n",
              "      <th>2018-10-27</th>\n",
              "      <td>0.250</td>\n",
              "      <td>Algorithm</td>\n",
              "    </tr>\n",
              "    <tr>\n",
              "      <th>2018-10-28</th>\n",
              "      <td>0.214</td>\n",
              "      <td>Algorithm</td>\n",
              "    </tr>\n",
              "    <tr>\n",
              "      <th>2018-10-29</th>\n",
              "      <td>0.214</td>\n",
              "      <td>Algorithm</td>\n",
              "    </tr>\n",
              "    <tr>\n",
              "      <th>2018-10-30</th>\n",
              "      <td>0.286</td>\n",
              "      <td>Algorithm</td>\n",
              "    </tr>\n",
              "    <tr>\n",
              "      <th>2018-10-31</th>\n",
              "      <td>0.286</td>\n",
              "      <td>Algorithm</td>\n",
              "    </tr>\n",
              "    <tr>\n",
              "      <th>2018-11-01</th>\n",
              "      <td>0.143</td>\n",
              "      <td>Algorithm</td>\n",
              "    </tr>\n",
              "    <tr>\n",
              "      <th>2018-11-02</th>\n",
              "      <td>0.214</td>\n",
              "      <td>Algorithm</td>\n",
              "    </tr>\n",
              "    <tr>\n",
              "      <th>2018-11-03</th>\n",
              "      <td>0.071</td>\n",
              "      <td>Algorithm</td>\n",
              "    </tr>\n",
              "    <tr>\n",
              "      <th>2018-11-04</th>\n",
              "      <td>0.143</td>\n",
              "      <td>Algorithm</td>\n",
              "    </tr>\n",
              "    <tr>\n",
              "      <th>2018-11-05</th>\n",
              "      <td>0.143</td>\n",
              "      <td>Algorithm</td>\n",
              "    </tr>\n",
              "    <tr>\n",
              "      <th>2018-11-06</th>\n",
              "      <td>0.214</td>\n",
              "      <td>Algorithm</td>\n",
              "    </tr>\n",
              "    <tr>\n",
              "      <th>2018-11-07</th>\n",
              "      <td>0.143</td>\n",
              "      <td>Algorithm</td>\n",
              "    </tr>\n",
              "    <tr>\n",
              "      <th>2018-11-08</th>\n",
              "      <td>0.071</td>\n",
              "      <td>Algorithm</td>\n",
              "    </tr>\n",
              "    <tr>\n",
              "      <th>2018-11-09</th>\n",
              "      <td>0.429</td>\n",
              "      <td>Algorithm</td>\n",
              "    </tr>\n",
              "    <tr>\n",
              "      <th>2018-11-10</th>\n",
              "      <td>0.321</td>\n",
              "      <td>Algorithm</td>\n",
              "    </tr>\n",
              "  </tbody>\n",
              "</table>\n",
              "</div>"
            ],
            "text/plain": [
              "            value       code\n",
              "2018-10-23  0.214  Algorithm\n",
              "2018-10-24  0.286  Algorithm\n",
              "2018-10-25  0.107  Algorithm\n",
              "2018-10-26  0.214  Algorithm\n",
              "2018-10-27  0.250  Algorithm\n",
              "2018-10-28  0.214  Algorithm\n",
              "2018-10-29  0.214  Algorithm\n",
              "2018-10-30  0.286  Algorithm\n",
              "2018-10-31  0.286  Algorithm\n",
              "2018-11-01  0.143  Algorithm\n",
              "2018-11-02  0.214  Algorithm\n",
              "2018-11-03  0.071  Algorithm\n",
              "2018-11-04  0.143  Algorithm\n",
              "2018-11-05  0.143  Algorithm\n",
              "2018-11-06  0.214  Algorithm\n",
              "2018-11-07  0.143  Algorithm\n",
              "2018-11-08  0.071  Algorithm\n",
              "2018-11-09  0.429  Algorithm\n",
              "2018-11-10  0.321  Algorithm"
            ]
          },
          "metadata": {
            "tags": []
          },
          "execution_count": 35
        }
      ]
    },
    {
      "cell_type": "code",
      "metadata": {
        "id": "TUxCoPoUcfGM",
        "colab_type": "code",
        "colab": {
          "base_uri": "https://localhost:8080/",
          "height": 1000
        },
        "outputId": "2a76ce93-7dbf-4fef-f162-a4fd18d85a5b"
      },
      "source": [
        "df3"
      ],
      "execution_count": null,
      "outputs": [
        {
          "output_type": "execute_result",
          "data": {
            "text/html": [
              "<div>\n",
              "<style scoped>\n",
              "    .dataframe tbody tr th:only-of-type {\n",
              "        vertical-align: middle;\n",
              "    }\n",
              "\n",
              "    .dataframe tbody tr th {\n",
              "        vertical-align: top;\n",
              "    }\n",
              "\n",
              "    .dataframe thead th {\n",
              "        text-align: right;\n",
              "    }\n",
              "</style>\n",
              "<table border=\"1\" class=\"dataframe\">\n",
              "  <thead>\n",
              "    <tr style=\"text-align: right;\">\n",
              "      <th></th>\n",
              "      <th>value</th>\n",
              "      <th>code</th>\n",
              "    </tr>\n",
              "  </thead>\n",
              "  <tbody>\n",
              "    <tr>\n",
              "      <th>2018-10-23</th>\n",
              "      <td>0.214</td>\n",
              "      <td>CPD</td>\n",
              "    </tr>\n",
              "    <tr>\n",
              "      <th>2018-10-24</th>\n",
              "      <td>0.286</td>\n",
              "      <td>CPD</td>\n",
              "    </tr>\n",
              "    <tr>\n",
              "      <th>2018-10-25</th>\n",
              "      <td>0.107</td>\n",
              "      <td>CPD</td>\n",
              "    </tr>\n",
              "    <tr>\n",
              "      <th>2018-10-26</th>\n",
              "      <td>0.214</td>\n",
              "      <td>CPD</td>\n",
              "    </tr>\n",
              "    <tr>\n",
              "      <th>2018-10-27</th>\n",
              "      <td>0.250</td>\n",
              "      <td>CPD</td>\n",
              "    </tr>\n",
              "    <tr>\n",
              "      <th>2018-10-28</th>\n",
              "      <td>0.214</td>\n",
              "      <td>CPD</td>\n",
              "    </tr>\n",
              "    <tr>\n",
              "      <th>2018-10-29</th>\n",
              "      <td>0.214</td>\n",
              "      <td>CPD</td>\n",
              "    </tr>\n",
              "    <tr>\n",
              "      <th>2018-10-30</th>\n",
              "      <td>0.286</td>\n",
              "      <td>CPD</td>\n",
              "    </tr>\n",
              "    <tr>\n",
              "      <th>2018-10-31</th>\n",
              "      <td>0.286</td>\n",
              "      <td>CPD</td>\n",
              "    </tr>\n",
              "    <tr>\n",
              "      <th>2018-11-01</th>\n",
              "      <td>0.143</td>\n",
              "      <td>CPD</td>\n",
              "    </tr>\n",
              "    <tr>\n",
              "      <th>2018-11-02</th>\n",
              "      <td>0.214</td>\n",
              "      <td>CPD</td>\n",
              "    </tr>\n",
              "    <tr>\n",
              "      <th>2018-11-03</th>\n",
              "      <td>0.071</td>\n",
              "      <td>CPD</td>\n",
              "    </tr>\n",
              "    <tr>\n",
              "      <th>2018-11-04</th>\n",
              "      <td>0.143</td>\n",
              "      <td>CPD</td>\n",
              "    </tr>\n",
              "    <tr>\n",
              "      <th>2018-11-05</th>\n",
              "      <td>0.143</td>\n",
              "      <td>CPD</td>\n",
              "    </tr>\n",
              "    <tr>\n",
              "      <th>2018-11-06</th>\n",
              "      <td>0.214</td>\n",
              "      <td>CPD</td>\n",
              "    </tr>\n",
              "    <tr>\n",
              "      <th>2018-11-07</th>\n",
              "      <td>0.143</td>\n",
              "      <td>CPD</td>\n",
              "    </tr>\n",
              "    <tr>\n",
              "      <th>2018-11-08</th>\n",
              "      <td>0.071</td>\n",
              "      <td>CPD</td>\n",
              "    </tr>\n",
              "    <tr>\n",
              "      <th>2018-11-09</th>\n",
              "      <td>0.179</td>\n",
              "      <td>CPD</td>\n",
              "    </tr>\n",
              "    <tr>\n",
              "      <th>2018-11-10</th>\n",
              "      <td>0.250</td>\n",
              "      <td>CPD</td>\n",
              "    </tr>\n",
              "    <tr>\n",
              "      <th>2018-10-23</th>\n",
              "      <td>0.214</td>\n",
              "      <td>Algorithm</td>\n",
              "    </tr>\n",
              "    <tr>\n",
              "      <th>2018-10-24</th>\n",
              "      <td>0.286</td>\n",
              "      <td>Algorithm</td>\n",
              "    </tr>\n",
              "    <tr>\n",
              "      <th>2018-10-25</th>\n",
              "      <td>0.107</td>\n",
              "      <td>Algorithm</td>\n",
              "    </tr>\n",
              "    <tr>\n",
              "      <th>2018-10-26</th>\n",
              "      <td>0.214</td>\n",
              "      <td>Algorithm</td>\n",
              "    </tr>\n",
              "    <tr>\n",
              "      <th>2018-10-27</th>\n",
              "      <td>0.250</td>\n",
              "      <td>Algorithm</td>\n",
              "    </tr>\n",
              "    <tr>\n",
              "      <th>2018-10-28</th>\n",
              "      <td>0.214</td>\n",
              "      <td>Algorithm</td>\n",
              "    </tr>\n",
              "    <tr>\n",
              "      <th>2018-10-29</th>\n",
              "      <td>0.214</td>\n",
              "      <td>Algorithm</td>\n",
              "    </tr>\n",
              "    <tr>\n",
              "      <th>2018-10-30</th>\n",
              "      <td>0.286</td>\n",
              "      <td>Algorithm</td>\n",
              "    </tr>\n",
              "    <tr>\n",
              "      <th>2018-10-31</th>\n",
              "      <td>0.286</td>\n",
              "      <td>Algorithm</td>\n",
              "    </tr>\n",
              "    <tr>\n",
              "      <th>2018-11-01</th>\n",
              "      <td>0.143</td>\n",
              "      <td>Algorithm</td>\n",
              "    </tr>\n",
              "    <tr>\n",
              "      <th>2018-11-02</th>\n",
              "      <td>0.214</td>\n",
              "      <td>Algorithm</td>\n",
              "    </tr>\n",
              "    <tr>\n",
              "      <th>2018-11-03</th>\n",
              "      <td>0.071</td>\n",
              "      <td>Algorithm</td>\n",
              "    </tr>\n",
              "    <tr>\n",
              "      <th>2018-11-04</th>\n",
              "      <td>0.143</td>\n",
              "      <td>Algorithm</td>\n",
              "    </tr>\n",
              "    <tr>\n",
              "      <th>2018-11-05</th>\n",
              "      <td>0.143</td>\n",
              "      <td>Algorithm</td>\n",
              "    </tr>\n",
              "    <tr>\n",
              "      <th>2018-11-06</th>\n",
              "      <td>0.214</td>\n",
              "      <td>Algorithm</td>\n",
              "    </tr>\n",
              "    <tr>\n",
              "      <th>2018-11-07</th>\n",
              "      <td>0.143</td>\n",
              "      <td>Algorithm</td>\n",
              "    </tr>\n",
              "    <tr>\n",
              "      <th>2018-11-08</th>\n",
              "      <td>0.071</td>\n",
              "      <td>Algorithm</td>\n",
              "    </tr>\n",
              "    <tr>\n",
              "      <th>2018-11-09</th>\n",
              "      <td>0.429</td>\n",
              "      <td>Algorithm</td>\n",
              "    </tr>\n",
              "    <tr>\n",
              "      <th>2018-11-10</th>\n",
              "      <td>0.321</td>\n",
              "      <td>Algorithm</td>\n",
              "    </tr>\n",
              "  </tbody>\n",
              "</table>\n",
              "</div>"
            ],
            "text/plain": [
              "            value       code\n",
              "2018-10-23  0.214        CPD\n",
              "2018-10-24  0.286        CPD\n",
              "2018-10-25  0.107        CPD\n",
              "2018-10-26  0.214        CPD\n",
              "2018-10-27  0.250        CPD\n",
              "2018-10-28  0.214        CPD\n",
              "2018-10-29  0.214        CPD\n",
              "2018-10-30  0.286        CPD\n",
              "2018-10-31  0.286        CPD\n",
              "2018-11-01  0.143        CPD\n",
              "2018-11-02  0.214        CPD\n",
              "2018-11-03  0.071        CPD\n",
              "2018-11-04  0.143        CPD\n",
              "2018-11-05  0.143        CPD\n",
              "2018-11-06  0.214        CPD\n",
              "2018-11-07  0.143        CPD\n",
              "2018-11-08  0.071        CPD\n",
              "2018-11-09  0.179        CPD\n",
              "2018-11-10  0.250        CPD\n",
              "2018-10-23  0.214  Algorithm\n",
              "2018-10-24  0.286  Algorithm\n",
              "2018-10-25  0.107  Algorithm\n",
              "2018-10-26  0.214  Algorithm\n",
              "2018-10-27  0.250  Algorithm\n",
              "2018-10-28  0.214  Algorithm\n",
              "2018-10-29  0.214  Algorithm\n",
              "2018-10-30  0.286  Algorithm\n",
              "2018-10-31  0.286  Algorithm\n",
              "2018-11-01  0.143  Algorithm\n",
              "2018-11-02  0.214  Algorithm\n",
              "2018-11-03  0.071  Algorithm\n",
              "2018-11-04  0.143  Algorithm\n",
              "2018-11-05  0.143  Algorithm\n",
              "2018-11-06  0.214  Algorithm\n",
              "2018-11-07  0.143  Algorithm\n",
              "2018-11-08  0.071  Algorithm\n",
              "2018-11-09  0.429  Algorithm\n",
              "2018-11-10  0.321  Algorithm"
            ]
          },
          "metadata": {
            "tags": []
          },
          "execution_count": 36
        }
      ]
    },
    {
      "cell_type": "code",
      "metadata": {
        "id": "h0PHst_s5aAZ",
        "colab_type": "code",
        "colab": {
          "base_uri": "https://localhost:8080/",
          "height": 709
        },
        "outputId": "08ae97b6-9cb4-4ecf-e577-c73b922d2c3d"
      },
      "source": [
        "list(df3['value'])"
      ],
      "execution_count": null,
      "outputs": [
        {
          "output_type": "execute_result",
          "data": {
            "text/plain": [
              "[0.214,\n",
              " 0.28600000000000003,\n",
              " 0.107,\n",
              " 0.214,\n",
              " 0.25,\n",
              " 0.214,\n",
              " 0.214,\n",
              " 0.28600000000000003,\n",
              " 0.28600000000000003,\n",
              " 0.14300000000000002,\n",
              " 0.214,\n",
              " 0.071,\n",
              " 0.14300000000000002,\n",
              " 0.14300000000000002,\n",
              " 0.214,\n",
              " 0.14300000000000002,\n",
              " 0.071,\n",
              " 0.179,\n",
              " 0.25,\n",
              " 0.214,\n",
              " 0.28600000000000003,\n",
              " 0.107,\n",
              " 0.214,\n",
              " 0.25,\n",
              " 0.214,\n",
              " 0.214,\n",
              " 0.28600000000000003,\n",
              " 0.28600000000000003,\n",
              " 0.14300000000000002,\n",
              " 0.214,\n",
              " 0.071,\n",
              " 0.14300000000000002,\n",
              " 0.14300000000000002,\n",
              " 0.214,\n",
              " 0.14300000000000002,\n",
              " 0.071,\n",
              " 0.429,\n",
              " 0.321]"
            ]
          },
          "metadata": {
            "tags": []
          },
          "execution_count": 37
        }
      ]
    },
    {
      "cell_type": "code",
      "metadata": {
        "id": "sCAAvPY37VCX",
        "colab_type": "code",
        "colab": {}
      },
      "source": [
        "\n",
        "\n"
      ],
      "execution_count": null,
      "outputs": []
    },
    {
      "cell_type": "code",
      "metadata": {
        "id": "xfD62Tlz0TQX",
        "colab_type": "code",
        "colab": {}
      },
      "source": [
        ""
      ],
      "execution_count": null,
      "outputs": []
    }
  ]
}