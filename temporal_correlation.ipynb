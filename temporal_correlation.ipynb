{
  "nbformat": 4,
  "nbformat_minor": 0,
  "metadata": {
    "colab": {
      "name": "validate_rnn_results.ipynb",
      "provenance": [],
      "authorship_tag": "ABX9TyP/7e7ctWKT/QCCis8ESBY5",
      "include_colab_link": true
    },
    "kernelspec": {
      "name": "python3",
      "display_name": "Python 3"
    }
  },
  "cells": [
    {
      "cell_type": "markdown",
      "metadata": {
        "id": "view-in-github",
        "colab_type": "text"
      },
      "source": [
        "<a href=\"https://colab.research.google.com/github/uteyechea/crime-prediction-using-artificial-intelligence/blob/master/temporal_correlation.ipynb\" target=\"_parent\"><img src=\"https://colab.research.google.com/assets/colab-badge.svg\" alt=\"Open In Colab\"/></a>"
      ]
    },
    {
      "cell_type": "code",
      "metadata": {
        "id": "Ur7YTpBurDaK",
        "colab_type": "code",
        "colab": {
          "base_uri": "https://localhost:8080/",
          "height": 129
        },
        "outputId": "4e0bc951-3ea0-4707-b87c-81b8aaeca83a"
      },
      "source": [
        "import os\n",
        "import gc\n",
        "import sys\n",
        "\n",
        "import pandas as pd\n",
        "from scipy import stats\n",
        "\n",
        "from google.colab import drive\n",
        "drive.mount('/content/drive', force_remount=True)\n",
        "\n",
        "path='/content/drive/My Drive/Colab Notebooks/crime_prediction'\n",
        "\n",
        "sys.path.append(path+'/libs')\n",
        "import temporal_correlation as tc\n"
      ],
      "execution_count": 1,
      "outputs": [
        {
          "output_type": "stream",
          "text": [
            "Go to this URL in a browser: https://accounts.google.com/o/oauth2/auth?client_id=947318989803-6bn6qk8qdgf4n4g3pfee6491hc0brc4i.apps.googleusercontent.com&redirect_uri=urn%3aietf%3awg%3aoauth%3a2.0%3aoob&response_type=code&scope=email%20https%3a%2f%2fwww.googleapis.com%2fauth%2fdocs.test%20https%3a%2f%2fwww.googleapis.com%2fauth%2fdrive%20https%3a%2f%2fwww.googleapis.com%2fauth%2fdrive.photos.readonly%20https%3a%2f%2fwww.googleapis.com%2fauth%2fpeopleapi.readonly\n",
            "\n",
            "Enter your authorization code:\n",
            "··········\n",
            "Mounted at /content/drive\n"
          ],
          "name": "stdout"
        }
      ]
    },
    {
      "cell_type": "code",
      "metadata": {
        "id": "4n1qE8JOtO9P",
        "colab_type": "code",
        "colab": {
          "base_uri": "https://localhost:8080/",
          "height": 35
        },
        "outputId": "229284b7-dac3-4573-9d64-9940dcf47f36"
      },
      "source": [
        "prediction_file_path=os.path.join(path,'data','prediction','series_sample.txt')\n",
        "prediction_file=pd.read_csv(prediction_file_path,sep=',')\n",
        "print(prediction_file.shape)"
      ],
      "execution_count": 2,
      "outputs": [
        {
          "output_type": "stream",
          "text": [
            "(2555, 1)\n"
          ],
          "name": "stdout"
        }
      ]
    },
    {
      "cell_type": "code",
      "metadata": {
        "id": "mFUd9A8atYa3",
        "colab_type": "code",
        "colab": {}
      },
      "source": [
        "prediction_file.iloc[:,0] = pd.to_numeric(prediction_file.iloc[:,0], errors='coerce') #Remove non float values, substitute them with NAN"
      ],
      "execution_count": 3,
      "outputs": []
    },
    {
      "cell_type": "code",
      "metadata": {
        "id": "NqfC0krTtmJa",
        "colab_type": "code",
        "colab": {}
      },
      "source": [
        "prediction_file=prediction_file.dropna()"
      ],
      "execution_count": 4,
      "outputs": []
    },
    {
      "cell_type": "code",
      "metadata": {
        "id": "k2yRc6L1t-U2",
        "colab_type": "code",
        "colab": {
          "base_uri": "https://localhost:8080/",
          "height": 35
        },
        "outputId": "dc71b84f-905b-4ed7-df92-06fd254734a4"
      },
      "source": [
        "prediction_file.shape"
      ],
      "execution_count": 5,
      "outputs": [
        {
          "output_type": "execute_result",
          "data": {
            "text/plain": [
              "(2527, 1)"
            ]
          },
          "metadata": {
            "tags": []
          },
          "execution_count": 5
        }
      ]
    },
    {
      "cell_type": "code",
      "metadata": {
        "id": "qHIXiSWktfYL",
        "colab_type": "code",
        "colab": {
          "base_uri": "https://localhost:8080/",
          "height": 35
        },
        "outputId": "f2a5879f-005d-4bf0-f1f1-0cdd488299fa"
      },
      "source": [
        "prediction_file.isnull().values.any()"
      ],
      "execution_count": 6,
      "outputs": [
        {
          "output_type": "execute_result",
          "data": {
            "text/plain": [
              "False"
            ]
          },
          "metadata": {
            "tags": []
          },
          "execution_count": 6
        }
      ]
    },
    {
      "cell_type": "code",
      "metadata": {
        "id": "5soP2c2ASdNU",
        "colab_type": "code",
        "colab": {}
      },
      "source": [
        "training_data_path=os.path.join(path,'data','training','theft2.csv')\n",
        "training_file=pd.read_csv(training_data_path,sep=',')"
      ],
      "execution_count": 7,
      "outputs": []
    },
    {
      "cell_type": "code",
      "metadata": {
        "id": "k4LAcDqzTJt7",
        "colab_type": "code",
        "colab": {
          "base_uri": "https://localhost:8080/",
          "height": 35
        },
        "outputId": "00827f25-7deb-4c06-9e43-590316decd8c"
      },
      "source": [
        "training_file.isnull().values.any()"
      ],
      "execution_count": 8,
      "outputs": [
        {
          "output_type": "execute_result",
          "data": {
            "text/plain": [
              "False"
            ]
          },
          "metadata": {
            "tags": []
          },
          "execution_count": 8
        }
      ]
    },
    {
      "cell_type": "code",
      "metadata": {
        "id": "ycCRPU6mTPtk",
        "colab_type": "code",
        "colab": {}
      },
      "source": [
        "type(prediction_file)"
      ],
      "execution_count": null,
      "outputs": []
    },
    {
      "cell_type": "code",
      "metadata": {
        "id": "CFP0I7r7TWRs",
        "colab_type": "code",
        "colab": {}
      },
      "source": [
        "type(training_file)"
      ],
      "execution_count": null,
      "outputs": []
    },
    {
      "cell_type": "code",
      "metadata": {
        "id": "_GESxWl9TcDk",
        "colab_type": "code",
        "colab": {}
      },
      "source": [
        "prediction_file.shape"
      ],
      "execution_count": null,
      "outputs": []
    },
    {
      "cell_type": "code",
      "metadata": {
        "id": "UxMHKBN9Tel5",
        "colab_type": "code",
        "colab": {}
      },
      "source": [
        "training_file.shape"
      ],
      "execution_count": null,
      "outputs": []
    },
    {
      "cell_type": "code",
      "metadata": {
        "id": "q2BAqFNsrRVy",
        "colab_type": "code",
        "colab": {}
      },
      "source": [
        "prediction_file"
      ],
      "execution_count": null,
      "outputs": []
    },
    {
      "cell_type": "code",
      "metadata": {
        "id": "8AKaBht8Ti7w",
        "colab_type": "code",
        "colab": {}
      },
      "source": [
        "def series_window(dataframe,end,periods,column):\n",
        "  if type(column)==str:\n",
        "    column=dataframe.columns.get_loc(column)\n",
        "  return dataframe.iloc[end-periods:end,column]\n",
        "\n",
        "def series_correlation(series1,series2):\n",
        "  #assert something?\n",
        "  series1=series1.reset_index(drop=True) #Better find a way to simplify this procedure\n",
        "  series2=series2.reset_index(drop=True) #Better find a way to simplify this procedure\n",
        "  ro=series1.corr(series2) \n",
        "  return ro \n",
        "\n",
        "def correlated_series_timestamp(dataframe1,dataframe2,end,periods,column,min_correlation):\n",
        "  timestamps=[]\n",
        "  series1=series_window(dataframe1,end,periods,column) #what do you want to evaluate?\n",
        "  for epoch in reversed(range(2*periods,len(dataframe2))):\n",
        "    series2=series_window(dataframe2,epoch-periods,periods,column)\n",
        "    try:\n",
        "      correlation=series_correlation(series1,series2)\n",
        "      #print(correlation)\n",
        "      if correlation >= min_correlation:\n",
        "        #record datetime value. We will use this datetime value to generate all sequences that will go as input to the RNN\n",
        "        #print(dataframe.index[epoch]) \n",
        "        timestamps.append(dataframe2.index[epoch])\n",
        "    except:\n",
        "      print('Can not compute correlation at index ',str(epoch))    \n",
        "  return timestamps\n",
        "\n",
        "def correlated_series_sequence(dataframe1,dataframe2,end,periods,column,min_correlation):\n",
        "  timestamps=correlated_series_timestamp(dataframe1,dataframe2,end,periods,column,min_correlation)\n",
        "  sequence={}\n",
        "  if type(column)==int:\n",
        "    column=dataframe.columns[column]\n",
        "  for timestamp in timestamps:\n",
        "    try:\n",
        "      input[timestamp]=dataframe.loc[pd.date_range(start=timestamp,periods=periods,freq='-1D'),column]\n",
        "      output[timestamp]=dataframe.loc[pd.date_range(start=timestamp,periods=periods,freq='1D',closed='right'),column]\n",
        "    except:\n",
        "      print('Missing date in DataFrame')\n",
        "  return input,output      \n",
        "\n",
        "def get_IO_series(dataframe,end,periods,column,min_correlation):\n",
        "  timestamps=correlated_series_timestamp(dataframe,end,periods,column,min_correlation)\n",
        "  input,output=correlated_series_sequence(dataframe,end,periods,column,min_correlation)\n",
        "  #return input,output\n",
        "  sequence={}\n",
        "  for timestamp in timestamps: #Change from input to timestamp sequence\n",
        "    try:\n",
        "      sequence[timestamp]= input[timestamp][::-1].append(output[timestamp])\n",
        "    except:\n",
        "      print('Error with key',str(timestamp))\n",
        "  return sequence      \n",
        "\n",
        "def save_to_file(sequence,file_path):\n",
        "  with open(file_path,'a') as file:\n",
        "    for timestamp in sequence:\n",
        "      sequence[timestamp].to_csv(file,mode='a',header=False,index=False)\n",
        "      file.write('\\n')\n"
      ],
      "execution_count": 16,
      "outputs": []
    },
    {
      "cell_type": "code",
      "metadata": {
        "id": "eWAsenMYU4s1",
        "colab_type": "code",
        "colab": {}
      },
      "source": [
        "timestamps=correlated_series_timestamp(training_file,prediction_file,end=10,periods=10,column=0,min_correlation=0.85)"
      ],
      "execution_count": 17,
      "outputs": []
    },
    {
      "cell_type": "code",
      "metadata": {
        "id": "vcVSJu3WVFth",
        "colab_type": "code",
        "colab": {
          "base_uri": "https://localhost:8080/",
          "height": 35
        },
        "outputId": "a7992972-4acb-4a14-db24-f7bc6ef7cdad"
      },
      "source": [
        "timestamps"
      ],
      "execution_count": 11,
      "outputs": [
        {
          "output_type": "execute_result",
          "data": {
            "text/plain": [
              "[2365, 2347, 226]"
            ]
          },
          "metadata": {
            "tags": []
          },
          "execution_count": 11
        }
      ]
    },
    {
      "cell_type": "code",
      "metadata": {
        "id": "gS5qvjwVsNl6",
        "colab_type": "code",
        "colab": {
          "base_uri": "https://localhost:8080/",
          "height": 35
        },
        "outputId": "ec93ba0d-5169-4b43-fc4d-3035d6676476"
      },
      "source": [
        "timestamps"
      ],
      "execution_count": 18,
      "outputs": [
        {
          "output_type": "execute_result",
          "data": {
            "text/plain": [
              "[2365, 2347, 226]"
            ]
          },
          "metadata": {
            "tags": []
          },
          "execution_count": 18
        }
      ]
    },
    {
      "cell_type": "code",
      "metadata": {
        "id": "K_Xo--0J0avB",
        "colab_type": "code",
        "colab": {}
      },
      "source": [
        ""
      ],
      "execution_count": null,
      "outputs": []
    }
  ]
}